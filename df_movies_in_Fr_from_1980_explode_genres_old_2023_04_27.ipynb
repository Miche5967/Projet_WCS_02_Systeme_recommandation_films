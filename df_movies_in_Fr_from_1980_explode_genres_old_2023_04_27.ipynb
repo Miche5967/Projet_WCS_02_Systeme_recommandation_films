{
 "cells": [
  {
   "cell_type": "markdown",
   "id": "bf3d23e5",
   "metadata": {},
   "source": [
    "# Imports"
   ]
  },
  {
   "cell_type": "code",
   "execution_count": 1,
   "id": "9ccf61db",
   "metadata": {
    "scrolled": true
   },
   "outputs": [],
   "source": [
    "import pandas as pd\n",
    "import numpy as np"
   ]
  },
  {
   "cell_type": "markdown",
   "id": "9ee4ca62",
   "metadata": {},
   "source": [
    "***\n",
    "# Définition des DataFrame  des tables \"akas\" et \"basics\""
   ]
  },
  {
   "cell_type": "code",
   "execution_count": 2,
   "id": "200c26be",
   "metadata": {},
   "outputs": [],
   "source": [
    "df_title_akas = pd.read_csv(\n",
    "    r\"C:\\Données\\d_ Wild Code School\\d_ Projet 02\\datasets\\title_akas.tsv\",\n",
    "    delimiter = '\\t', low_memory = False)\n",
    "#df_title_akas"
   ]
  },
  {
   "cell_type": "code",
   "execution_count": 3,
   "id": "7aacfe9a",
   "metadata": {},
   "outputs": [],
   "source": [
    "df_title_basics = pd.read_csv(\n",
    "    r\"C:\\Données\\d_ Wild Code School\\d_ Projet 02\\datasets\\title_basics.tsv\",\n",
    "    delimiter = '\\t', low_memory = False)\n",
    "#df_title_basics"
   ]
  },
  {
   "cell_type": "markdown",
   "id": "14e29836",
   "metadata": {},
   "source": [
    "***\n",
    "# Vérification de la pertinence des données"
   ]
  },
  {
   "cell_type": "markdown",
   "id": "b80fa8a9",
   "metadata": {},
   "source": [
    "## Vérification que les données de la colonne '*startYear*' de la table \"basics\" sont pertinentes\n",
    "On vérifie que ces données sont bien des dates"
   ]
  },
  {
   "cell_type": "markdown",
   "id": "213e62d3",
   "metadata": {},
   "source": [
    "### Vérification que les valeurs de '*startYear*' sont numériques\n",
    "Si ce n'est pas le cas, ça ne peut pas être une année."
   ]
  },
  {
   "cell_type": "code",
   "execution_count": 4,
   "id": "c5f11bb8",
   "metadata": {},
   "outputs": [
    {
     "name": "stdout",
     "output_type": "stream",
     "text": [
      "Nombre de valeurs nmuériques et non numériques :\n",
      "- Nombre de valeurs 'True' : 8447825\n",
      "- Nombre de valeurs 'False' : 1320513\n",
      "------------------------------------------------------------\n",
      "\n",
      "Table des valeurs non numériques de la colonne 'startYear'\n",
      "20798      \\N\n",
      "65758      \\N\n",
      "78451      \\N\n",
      "79361      \\N\n",
      "83807      \\N\n",
      "           ..\n",
      "9768226    \\N\n",
      "9768228    \\N\n",
      "9768242    \\N\n",
      "9768248    \\N\n",
      "9768266    \\N\n",
      "Name: startYear, Length: 1320513, dtype: object\n",
      "\n",
      "Valeurs non numériques de la colonne 'startYear :'\n",
      "\\N    1320513\n",
      "Name: startYear, dtype: int64\n"
     ]
    }
   ],
   "source": [
    "# Définition d'une nouvelle colonne (Series) \"startYearNumeric\" pour vérifier\n",
    "# si les valeurs de la colonne \"startYear\" sont numériques (True) ou non\n",
    "df_title_basics[\"startYearNumeric\"] = df_title_basics[\"startYear\"].str.isnumeric()\n",
    "#print(df_title_basics[\"startYearNumeric\"])\n",
    "\n",
    "# Décompte des valeurs de cette nouvelle colonne\n",
    "print(\"Nombre de valeurs nmuériques et non numériques :\")\n",
    "print(f\"- Nombre de valeurs '{df_title_basics['startYearNumeric'].value_counts().index[0]}' : \"\\\n",
    "      f\"{df_title_basics['startYearNumeric'].value_counts().values[0]}\")\n",
    "print(f\"- Nombre de valeurs '{df_title_basics['startYearNumeric'].value_counts().index[1]}' : \"\\\n",
    "      f\"{df_title_basics['startYearNumeric'].value_counts().values[1]}\")\n",
    "print(\"------------------------------------------------------------\\n\")\n",
    "\n",
    "# Valeurs non numériques de la colonne startYear\n",
    "print(\"Table des valeurs non numériques de la colonne 'startYear'\")\n",
    "df_title_basics_startYear_not_num = df_title_basics.loc[df_title_basics[\"startYearNumeric\"] == False, \"startYear\"]\n",
    "print(df_title_basics_startYear_not_num)\n",
    "print(\"\\nValeurs non numériques de la colonne 'startYear :'\")\n",
    "print(df_title_basics_startYear_not_num.value_counts())"
   ]
  },
  {
   "cell_type": "markdown",
   "id": "7ad43d58",
   "metadata": {},
   "source": [
    "Il y a plus de 1 300 00 lignes dans la table *basics* avec une année de début (\"*startYear*\") inconnue."
   ]
  },
  {
   "cell_type": "markdown",
   "id": "d9a78419",
   "metadata": {},
   "source": [
    "## Vérification que les données de la colonne \"isAdult\" sont pertinentes\n",
    "On vérifie que ces données sont bien '0' (False) ou '1' (True)"
   ]
  },
  {
   "cell_type": "code",
   "execution_count": 5,
   "id": "6992444c",
   "metadata": {},
   "outputs": [
    {
     "name": "stdout",
     "output_type": "stream",
     "text": [
      "True     9768326\n",
      "False         12\n",
      "Name: isAdultOk, dtype: int64\n"
     ]
    },
    {
     "data": {
      "text/html": [
       "<div>\n",
       "<style scoped>\n",
       "    .dataframe tbody tr th:only-of-type {\n",
       "        vertical-align: middle;\n",
       "    }\n",
       "\n",
       "    .dataframe tbody tr th {\n",
       "        vertical-align: top;\n",
       "    }\n",
       "\n",
       "    .dataframe thead th {\n",
       "        text-align: right;\n",
       "    }\n",
       "</style>\n",
       "<table border=\"1\" class=\"dataframe\">\n",
       "  <thead>\n",
       "    <tr style=\"text-align: right;\">\n",
       "      <th></th>\n",
       "      <th>tconst</th>\n",
       "      <th>titleType</th>\n",
       "      <th>primaryTitle</th>\n",
       "      <th>originalTitle</th>\n",
       "      <th>isAdult</th>\n",
       "      <th>startYear</th>\n",
       "      <th>endYear</th>\n",
       "      <th>runtimeMinutes</th>\n",
       "      <th>genres</th>\n",
       "      <th>startYearNumeric</th>\n",
       "      <th>isAdultOk</th>\n",
       "    </tr>\n",
       "  </thead>\n",
       "  <tbody>\n",
       "    <tr>\n",
       "      <th>1097512</th>\n",
       "      <td>tt10233364</td>\n",
       "      <td>tvEpisode</td>\n",
       "      <td>Rolling in the Deep Dish\\tRolling in the Deep ...</td>\n",
       "      <td>0</td>\n",
       "      <td>2019</td>\n",
       "      <td>\\N</td>\n",
       "      <td>\\N</td>\n",
       "      <td>Reality-TV</td>\n",
       "      <td>NaN</td>\n",
       "      <td>False</td>\n",
       "      <td>False</td>\n",
       "    </tr>\n",
       "    <tr>\n",
       "      <th>1508146</th>\n",
       "      <td>tt10970874</td>\n",
       "      <td>tvEpisode</td>\n",
       "      <td>Die Bauhaus-Stadt Tel Aviv - Vorbild für die M...</td>\n",
       "      <td>0</td>\n",
       "      <td>2019</td>\n",
       "      <td>\\N</td>\n",
       "      <td>\\N</td>\n",
       "      <td>Talk-Show</td>\n",
       "      <td>NaN</td>\n",
       "      <td>False</td>\n",
       "      <td>False</td>\n",
       "    </tr>\n",
       "    <tr>\n",
       "      <th>1896122</th>\n",
       "      <td>tt11670006</td>\n",
       "      <td>tvEpisode</td>\n",
       "      <td>...ein angenehmer Unbequemer...\\t...ein angene...</td>\n",
       "      <td>0</td>\n",
       "      <td>1981</td>\n",
       "      <td>\\N</td>\n",
       "      <td>\\N</td>\n",
       "      <td>Documentary</td>\n",
       "      <td>NaN</td>\n",
       "      <td>False</td>\n",
       "      <td>False</td>\n",
       "    </tr>\n",
       "    <tr>\n",
       "      <th>2007107</th>\n",
       "      <td>tt11868642</td>\n",
       "      <td>tvEpisode</td>\n",
       "      <td>GGN Heavyweight Championship Lungs With Mike T...</td>\n",
       "      <td>0</td>\n",
       "      <td>2020</td>\n",
       "      <td>\\N</td>\n",
       "      <td>\\N</td>\n",
       "      <td>Talk-Show</td>\n",
       "      <td>NaN</td>\n",
       "      <td>False</td>\n",
       "      <td>False</td>\n",
       "    </tr>\n",
       "    <tr>\n",
       "      <th>2161275</th>\n",
       "      <td>tt12149332</td>\n",
       "      <td>tvEpisode</td>\n",
       "      <td>Jeopardy! College Championship Semifinal Game ...</td>\n",
       "      <td>0</td>\n",
       "      <td>2020</td>\n",
       "      <td>\\N</td>\n",
       "      <td>\\N</td>\n",
       "      <td>Game-Show,Short</td>\n",
       "      <td>NaN</td>\n",
       "      <td>False</td>\n",
       "      <td>False</td>\n",
       "    </tr>\n",
       "    <tr>\n",
       "      <th>2306457</th>\n",
       "      <td>tt12415330</td>\n",
       "      <td>tvEpisode</td>\n",
       "      <td>Anthony Davis High Brow Tank\\tAnthony Davis Hi...</td>\n",
       "      <td>0</td>\n",
       "      <td>2017</td>\n",
       "      <td>\\N</td>\n",
       "      <td>\\N</td>\n",
       "      <td>Reality-TV</td>\n",
       "      <td>NaN</td>\n",
       "      <td>False</td>\n",
       "      <td>False</td>\n",
       "    </tr>\n",
       "    <tr>\n",
       "      <th>2995567</th>\n",
       "      <td>tt13704268</td>\n",
       "      <td>tvEpisode</td>\n",
       "      <td>Bay of the Triffids/Doctor of Doom\\tBay of the...</td>\n",
       "      <td>0</td>\n",
       "      <td>\\N</td>\n",
       "      <td>\\N</td>\n",
       "      <td>\\N</td>\n",
       "      <td>Animation,Comedy,Family</td>\n",
       "      <td>NaN</td>\n",
       "      <td>False</td>\n",
       "      <td>False</td>\n",
       "    </tr>\n",
       "    <tr>\n",
       "      <th>6473194</th>\n",
       "      <td>tt27147391</td>\n",
       "      <td>tvEpisode</td>\n",
       "      <td>LATINO Accents QUIZ! w@MrHReviews @EchoBaseNet...</td>\n",
       "      <td>0</td>\n",
       "      <td>2023</td>\n",
       "      <td>\\N</td>\n",
       "      <td>\\N</td>\n",
       "      <td>News,Talk-Show</td>\n",
       "      <td>NaN</td>\n",
       "      <td>False</td>\n",
       "      <td>False</td>\n",
       "    </tr>\n",
       "    <tr>\n",
       "      <th>6526407</th>\n",
       "      <td>tt27404292</td>\n",
       "      <td>tvEpisode</td>\n",
       "      <td>Nord-Koreas röda prinsessa\\tNord-Koreas röda p...</td>\n",
       "      <td>0</td>\n",
       "      <td>2022</td>\n",
       "      <td>\\N</td>\n",
       "      <td>\\N</td>\n",
       "      <td>Documentary</td>\n",
       "      <td>NaN</td>\n",
       "      <td>False</td>\n",
       "      <td>False</td>\n",
       "    </tr>\n",
       "    <tr>\n",
       "      <th>7090488</th>\n",
       "      <td>tt3984412</td>\n",
       "      <td>tvEpisode</td>\n",
       "      <td>I'm Not Going to Come Last, I'm Just Going to ...</td>\n",
       "      <td>0</td>\n",
       "      <td>2014</td>\n",
       "      <td>\\N</td>\n",
       "      <td>\\N</td>\n",
       "      <td>Game-Show,Reality-TV</td>\n",
       "      <td>NaN</td>\n",
       "      <td>False</td>\n",
       "      <td>False</td>\n",
       "    </tr>\n",
       "    <tr>\n",
       "      <th>9724962</th>\n",
       "      <td>tt9822816</td>\n",
       "      <td>tvEpisode</td>\n",
       "      <td>Zwischen Vertuschung und Aufklärung - Missbrau...</td>\n",
       "      <td>0</td>\n",
       "      <td>2019</td>\n",
       "      <td>\\N</td>\n",
       "      <td>\\N</td>\n",
       "      <td>Talk-Show</td>\n",
       "      <td>NaN</td>\n",
       "      <td>False</td>\n",
       "      <td>False</td>\n",
       "    </tr>\n",
       "    <tr>\n",
       "      <th>9764793</th>\n",
       "      <td>tt9909210</td>\n",
       "      <td>tvEpisode</td>\n",
       "      <td>Politik und/oder Moral - Wie weit geht das Ver...</td>\n",
       "      <td>0</td>\n",
       "      <td>2005</td>\n",
       "      <td>\\N</td>\n",
       "      <td>\\N</td>\n",
       "      <td>Talk-Show</td>\n",
       "      <td>NaN</td>\n",
       "      <td>False</td>\n",
       "      <td>False</td>\n",
       "    </tr>\n",
       "  </tbody>\n",
       "</table>\n",
       "</div>"
      ],
      "text/plain": [
       "             tconst  titleType  \\\n",
       "1097512  tt10233364  tvEpisode   \n",
       "1508146  tt10970874  tvEpisode   \n",
       "1896122  tt11670006  tvEpisode   \n",
       "2007107  tt11868642  tvEpisode   \n",
       "2161275  tt12149332  tvEpisode   \n",
       "2306457  tt12415330  tvEpisode   \n",
       "2995567  tt13704268  tvEpisode   \n",
       "6473194  tt27147391  tvEpisode   \n",
       "6526407  tt27404292  tvEpisode   \n",
       "7090488   tt3984412  tvEpisode   \n",
       "9724962   tt9822816  tvEpisode   \n",
       "9764793   tt9909210  tvEpisode   \n",
       "\n",
       "                                              primaryTitle originalTitle  \\\n",
       "1097512  Rolling in the Deep Dish\\tRolling in the Deep ...             0   \n",
       "1508146  Die Bauhaus-Stadt Tel Aviv - Vorbild für die M...             0   \n",
       "1896122  ...ein angenehmer Unbequemer...\\t...ein angene...             0   \n",
       "2007107  GGN Heavyweight Championship Lungs With Mike T...             0   \n",
       "2161275  Jeopardy! College Championship Semifinal Game ...             0   \n",
       "2306457  Anthony Davis High Brow Tank\\tAnthony Davis Hi...             0   \n",
       "2995567  Bay of the Triffids/Doctor of Doom\\tBay of the...             0   \n",
       "6473194  LATINO Accents QUIZ! w@MrHReviews @EchoBaseNet...             0   \n",
       "6526407  Nord-Koreas röda prinsessa\\tNord-Koreas röda p...             0   \n",
       "7090488  I'm Not Going to Come Last, I'm Just Going to ...             0   \n",
       "9724962  Zwischen Vertuschung und Aufklärung - Missbrau...             0   \n",
       "9764793  Politik und/oder Moral - Wie weit geht das Ver...             0   \n",
       "\n",
       "        isAdult startYear endYear           runtimeMinutes genres  \\\n",
       "1097512    2019        \\N      \\N               Reality-TV    NaN   \n",
       "1508146    2019        \\N      \\N                Talk-Show    NaN   \n",
       "1896122    1981        \\N      \\N              Documentary    NaN   \n",
       "2007107    2020        \\N      \\N                Talk-Show    NaN   \n",
       "2161275    2020        \\N      \\N          Game-Show,Short    NaN   \n",
       "2306457    2017        \\N      \\N               Reality-TV    NaN   \n",
       "2995567      \\N        \\N      \\N  Animation,Comedy,Family    NaN   \n",
       "6473194    2023        \\N      \\N           News,Talk-Show    NaN   \n",
       "6526407    2022        \\N      \\N              Documentary    NaN   \n",
       "7090488    2014        \\N      \\N     Game-Show,Reality-TV    NaN   \n",
       "9724962    2019        \\N      \\N                Talk-Show    NaN   \n",
       "9764793    2005        \\N      \\N                Talk-Show    NaN   \n",
       "\n",
       "         startYearNumeric  isAdultOk  \n",
       "1097512             False      False  \n",
       "1508146             False      False  \n",
       "1896122             False      False  \n",
       "2007107             False      False  \n",
       "2161275             False      False  \n",
       "2306457             False      False  \n",
       "2995567             False      False  \n",
       "6473194             False      False  \n",
       "6526407             False      False  \n",
       "7090488             False      False  \n",
       "9724962             False      False  \n",
       "9764793             False      False  "
      ]
     },
     "execution_count": 5,
     "metadata": {},
     "output_type": "execute_result"
    }
   ],
   "source": [
    "# Définition d'une nouvelle colonne (Series) \"isAdultOk\" pour vérifier\n",
    "# si les valeurs de la colonne \"isAdult\" sont bien 1 (True) ou 0 (False)\n",
    "df_title_basics[\"isAdultOk\"] = df_title_basics[\"isAdult\"].isin(['0', '1'])\n",
    "#print(df_title_basics[\"isAdultOk\"])\n",
    "\n",
    "# Décompte des valeurs de cette nouvelle colonne :\n",
    "print(df_title_basics[\"isAdultOk\"].value_counts())\n",
    "\n",
    "df_title_basics.loc[df_title_basics[\"isAdultOk\"] == False]"
   ]
  },
  {
   "cell_type": "markdown",
   "id": "acb27310",
   "metadata": {},
   "source": [
    "12 lignes de la table *basics* on des données de la colonne \"*isAdult*\" incohérentes ou manquantes ; pour certaines lignes, ce sont en fait des dates (ex: 2019, 1981,...) au lieu de valeurs booléennes (0 ou 1).\n",
    "Etant donné les titres concernés et leur très faible nombre, on ne corrige pas ces erreurs."
   ]
  },
  {
   "cell_type": "markdown",
   "id": "7ad064ae",
   "metadata": {},
   "source": [
    "## Vérification que les données de la colonne '*Region*' de la table \"akas\" sont pertinentes"
   ]
  },
  {
   "cell_type": "code",
   "execution_count": 6,
   "id": "3705e155",
   "metadata": {},
   "outputs": [
    {
     "name": "stdout",
     "output_type": "stream",
     "text": [
      "<class 'pandas.core.frame.DataFrame'>\n",
      "RangeIndex: 35584437 entries, 0 to 35584436\n",
      "Data columns (total 8 columns):\n",
      " #   Column           Dtype \n",
      "---  ------           ----- \n",
      " 0   titleId          object\n",
      " 1   ordering         int64 \n",
      " 2   title            object\n",
      " 3   region           object\n",
      " 4   language         object\n",
      " 5   types            object\n",
      " 6   attributes       object\n",
      " 7   isOriginalTitle  object\n",
      "dtypes: int64(1), object(7)\n",
      "memory usage: 2.1+ GB\n"
     ]
    }
   ],
   "source": [
    "df_title_akas.info()"
   ]
  },
  {
   "cell_type": "code",
   "execution_count": 7,
   "id": "ad5ca327",
   "metadata": {
    "scrolled": true
   },
   "outputs": [
    {
     "data": {
      "text/plain": [
       "\\N    1886877\n",
       "Name: region, dtype: int64"
      ]
     },
     "execution_count": 7,
     "metadata": {},
     "output_type": "execute_result"
    }
   ],
   "source": [
    "# Décompte du nombre de valeurs \"\\N\" dans la colonne 'region'\n",
    "df_title_akas[df_title_akas[\"region\"] == \"\\\\N\"][\"region\"].value_counts()"
   ]
  },
  {
   "cell_type": "markdown",
   "id": "c323ce94",
   "metadata": {},
   "source": [
    "Plus de 1 800 000 lignes ont une valeur manquante dans la colonne \"*region*\" et ne seront pas prises en compte."
   ]
  },
  {
   "cell_type": "code",
   "execution_count": 8,
   "id": "b91289f9",
   "metadata": {},
   "outputs": [
    {
     "data": {
      "text/html": [
       "<div>\n",
       "<style scoped>\n",
       "    .dataframe tbody tr th:only-of-type {\n",
       "        vertical-align: middle;\n",
       "    }\n",
       "\n",
       "    .dataframe tbody tr th {\n",
       "        vertical-align: top;\n",
       "    }\n",
       "\n",
       "    .dataframe thead th {\n",
       "        text-align: right;\n",
       "    }\n",
       "</style>\n",
       "<table border=\"1\" class=\"dataframe\">\n",
       "  <thead>\n",
       "    <tr style=\"text-align: right;\">\n",
       "      <th></th>\n",
       "      <th>titleId</th>\n",
       "      <th>ordering</th>\n",
       "      <th>title</th>\n",
       "      <th>region</th>\n",
       "      <th>language</th>\n",
       "      <th>types</th>\n",
       "      <th>attributes</th>\n",
       "      <th>isOriginalTitle</th>\n",
       "    </tr>\n",
       "  </thead>\n",
       "  <tbody>\n",
       "    <tr>\n",
       "      <th>0</th>\n",
       "      <td>tt0000001</td>\n",
       "      <td>1</td>\n",
       "      <td>Карменсіта</td>\n",
       "      <td>UA</td>\n",
       "      <td>\\N</td>\n",
       "      <td>imdbDisplay</td>\n",
       "      <td>\\N</td>\n",
       "      <td>0</td>\n",
       "    </tr>\n",
       "    <tr>\n",
       "      <th>1</th>\n",
       "      <td>tt0000001</td>\n",
       "      <td>2</td>\n",
       "      <td>Carmencita</td>\n",
       "      <td>DE</td>\n",
       "      <td>\\N</td>\n",
       "      <td>\\N</td>\n",
       "      <td>literal title</td>\n",
       "      <td>0</td>\n",
       "    </tr>\n",
       "    <tr>\n",
       "      <th>2</th>\n",
       "      <td>tt0000001</td>\n",
       "      <td>3</td>\n",
       "      <td>Carmencita - spanyol tánc</td>\n",
       "      <td>HU</td>\n",
       "      <td>\\N</td>\n",
       "      <td>imdbDisplay</td>\n",
       "      <td>\\N</td>\n",
       "      <td>0</td>\n",
       "    </tr>\n",
       "    <tr>\n",
       "      <th>3</th>\n",
       "      <td>tt0000001</td>\n",
       "      <td>4</td>\n",
       "      <td>Καρμενσίτα</td>\n",
       "      <td>GR</td>\n",
       "      <td>\\N</td>\n",
       "      <td>imdbDisplay</td>\n",
       "      <td>\\N</td>\n",
       "      <td>0</td>\n",
       "    </tr>\n",
       "    <tr>\n",
       "      <th>4</th>\n",
       "      <td>tt0000001</td>\n",
       "      <td>5</td>\n",
       "      <td>Карменсита</td>\n",
       "      <td>RU</td>\n",
       "      <td>\\N</td>\n",
       "      <td>imdbDisplay</td>\n",
       "      <td>\\N</td>\n",
       "      <td>0</td>\n",
       "    </tr>\n",
       "    <tr>\n",
       "      <th>...</th>\n",
       "      <td>...</td>\n",
       "      <td>...</td>\n",
       "      <td>...</td>\n",
       "      <td>...</td>\n",
       "      <td>...</td>\n",
       "      <td>...</td>\n",
       "      <td>...</td>\n",
       "      <td>...</td>\n",
       "    </tr>\n",
       "    <tr>\n",
       "      <th>35584432</th>\n",
       "      <td>tt9916852</td>\n",
       "      <td>5</td>\n",
       "      <td>Episódio #3.20</td>\n",
       "      <td>PT</td>\n",
       "      <td>pt</td>\n",
       "      <td>\\N</td>\n",
       "      <td>\\N</td>\n",
       "      <td>0</td>\n",
       "    </tr>\n",
       "    <tr>\n",
       "      <th>35584433</th>\n",
       "      <td>tt9916852</td>\n",
       "      <td>6</td>\n",
       "      <td>Episodio #3.20</td>\n",
       "      <td>IT</td>\n",
       "      <td>it</td>\n",
       "      <td>\\N</td>\n",
       "      <td>\\N</td>\n",
       "      <td>0</td>\n",
       "    </tr>\n",
       "    <tr>\n",
       "      <th>35584434</th>\n",
       "      <td>tt9916852</td>\n",
       "      <td>7</td>\n",
       "      <td>एपिसोड #3.20</td>\n",
       "      <td>IN</td>\n",
       "      <td>hi</td>\n",
       "      <td>\\N</td>\n",
       "      <td>\\N</td>\n",
       "      <td>0</td>\n",
       "    </tr>\n",
       "    <tr>\n",
       "      <th>35584435</th>\n",
       "      <td>tt9916856</td>\n",
       "      <td>1</td>\n",
       "      <td>The Wind</td>\n",
       "      <td>DE</td>\n",
       "      <td>\\N</td>\n",
       "      <td>imdbDisplay</td>\n",
       "      <td>\\N</td>\n",
       "      <td>0</td>\n",
       "    </tr>\n",
       "    <tr>\n",
       "      <th>35584436</th>\n",
       "      <td>tt9916856</td>\n",
       "      <td>2</td>\n",
       "      <td>The Wind</td>\n",
       "      <td>\\N</td>\n",
       "      <td>\\N</td>\n",
       "      <td>original</td>\n",
       "      <td>\\N</td>\n",
       "      <td>1</td>\n",
       "    </tr>\n",
       "  </tbody>\n",
       "</table>\n",
       "<p>35584437 rows × 8 columns</p>\n",
       "</div>"
      ],
      "text/plain": [
       "            titleId  ordering                      title region language  \\\n",
       "0         tt0000001         1                 Карменсіта     UA       \\N   \n",
       "1         tt0000001         2                 Carmencita     DE       \\N   \n",
       "2         tt0000001         3  Carmencita - spanyol tánc     HU       \\N   \n",
       "3         tt0000001         4                 Καρμενσίτα     GR       \\N   \n",
       "4         tt0000001         5                 Карменсита     RU       \\N   \n",
       "...             ...       ...                        ...    ...      ...   \n",
       "35584432  tt9916852         5             Episódio #3.20     PT       pt   \n",
       "35584433  tt9916852         6             Episodio #3.20     IT       it   \n",
       "35584434  tt9916852         7               एपिसोड #3.20     IN       hi   \n",
       "35584435  tt9916856         1                   The Wind     DE       \\N   \n",
       "35584436  tt9916856         2                   The Wind     \\N       \\N   \n",
       "\n",
       "                types     attributes isOriginalTitle  \n",
       "0         imdbDisplay             \\N               0  \n",
       "1                  \\N  literal title               0  \n",
       "2         imdbDisplay             \\N               0  \n",
       "3         imdbDisplay             \\N               0  \n",
       "4         imdbDisplay             \\N               0  \n",
       "...               ...            ...             ...  \n",
       "35584432           \\N             \\N               0  \n",
       "35584433           \\N             \\N               0  \n",
       "35584434           \\N             \\N               0  \n",
       "35584435  imdbDisplay             \\N               0  \n",
       "35584436     original             \\N               1  \n",
       "\n",
       "[35584437 rows x 8 columns]"
      ]
     },
     "execution_count": 8,
     "metadata": {},
     "output_type": "execute_result"
    }
   ],
   "source": [
    "df_title_akas"
   ]
  },
  {
   "cell_type": "markdown",
   "id": "ffd59ed7",
   "metadata": {},
   "source": [
    "## Vérification que les données de la colonne '*isOriginalTitle*' de la table \"akas\" sont pertinentes"
   ]
  },
  {
   "cell_type": "markdown",
   "id": "bdd93c8a",
   "metadata": {},
   "source": [
    "### Valeurs présentes dans la colonne '*isOriginalTitle*'"
   ]
  },
  {
   "cell_type": "code",
   "execution_count": 9,
   "id": "dbfb08d0",
   "metadata": {},
   "outputs": [
    {
     "data": {
      "text/plain": [
       "0     33771964\n",
       "1      1810364\n",
       "\\N        2109\n",
       "Name: isOriginalTitle, dtype: int64"
      ]
     },
     "execution_count": 9,
     "metadata": {},
     "output_type": "execute_result"
    }
   ],
   "source": [
    "df_title_akas[\"isOriginalTitle\"].value_counts()"
   ]
  },
  {
   "cell_type": "markdown",
   "id": "e9775827",
   "metadata": {},
   "source": [
    "### Valeurs dans la colonne '*region*' lorsque `isOriginalTitle == '1'`"
   ]
  },
  {
   "cell_type": "code",
   "execution_count": 21,
   "id": "cb115b7a",
   "metadata": {
    "collapsed": true
   },
   "outputs": [
    {
     "data": {
      "text/plain": [
       "\\N     1810343\n",
       "US          10\n",
       "XWW          4\n",
       "GB           2\n",
       "JP           1\n",
       "HK           1\n",
       "CN           1\n",
       "BR           1\n",
       "DK           1\n",
       "Name: region, dtype: int64"
      ]
     },
     "execution_count": 21,
     "metadata": {},
     "output_type": "execute_result"
    }
   ],
   "source": [
    "df_title_akas[df_title_akas[\"isOriginalTitle\"] == '1'][\"region\"].value_counts()"
   ]
  },
  {
   "cell_type": "markdown",
   "id": "0f20c05f",
   "metadata": {},
   "source": [
    "### Valeurs dans la colonne '*region*' lorsque `isOriginalTitle == '0'`"
   ]
  },
  {
   "cell_type": "code",
   "execution_count": 22,
   "id": "a621379d",
   "metadata": {
    "collapsed": true
   },
   "outputs": [
    {
     "data": {
      "text/plain": [
       "DE    4259475\n",
       "FR    4255360\n",
       "JP    4254508\n",
       "IN    4195000\n",
       "ES    4176014\n",
       "       ...   \n",
       "JE          2\n",
       "TV          1\n",
       "NU          1\n",
       "PW          1\n",
       "NR          1\n",
       "Name: region, Length: 248, dtype: int64"
      ]
     },
     "execution_count": 22,
     "metadata": {},
     "output_type": "execute_result"
    }
   ],
   "source": [
    "df_title_akas[df_title_akas[\"isOriginalTitle\"] == '0'][\"region\"].value_counts()"
   ]
  },
  {
   "cell_type": "markdown",
   "id": "e745977e",
   "metadata": {},
   "source": [
    "La colonne \"*region*\" semble donner les pays où chaque titre est distribué. La colonne \"isOriginalTitle n'ne donne pas d'information intéressante."
   ]
  },
  {
   "cell_type": "markdown",
   "id": "4593a1c0",
   "metadata": {},
   "source": [
    "## Données de la colonne '*attributes*'"
   ]
  },
  {
   "cell_type": "code",
   "execution_count": 10,
   "id": "9daca6ca",
   "metadata": {
    "collapsed": true
   },
   "outputs": [
    {
     "data": {
      "text/plain": [
       "\\N                                                                35326897\n",
       "transliterated title                                                 27845\n",
       "alternative spelling                                                 19129\n",
       "new title                                                            17922\n",
       "literal English title                                                15484\n",
       "                                                                    ...   \n",
       "longer version\u0002rerun title                                               1\n",
       "first four episodes title                                                1\n",
       "YIVO translation\u0002reissue title                                           1\n",
       "Locarno film festival title                                              1\n",
       "added framing sequences and narration in Yiddish\u0002reissue title           1\n",
       "Name: attributes, Length: 188, dtype: int64"
      ]
     },
     "execution_count": 10,
     "metadata": {},
     "output_type": "execute_result"
    }
   ],
   "source": [
    "df_title_akas[\"attributes\"].value_counts()"
   ]
  },
  {
   "cell_type": "markdown",
   "id": "4f357863",
   "metadata": {},
   "source": [
    "Les données de \"*attributes*\" ne semblent pas intéressantes."
   ]
  },
  {
   "cell_type": "markdown",
   "id": "48dae526",
   "metadata": {},
   "source": [
    "## Données de la colonne '*types*'"
   ]
  },
  {
   "cell_type": "code",
   "execution_count": 11,
   "id": "e439ce8a",
   "metadata": {
    "collapsed": true
   },
   "outputs": [
    {
     "data": {
      "text/plain": [
       "\\N                      30056932\n",
       "imdbDisplay              3471965\n",
       "original                 1810364\n",
       "alternative               110254\n",
       "working                    53752\n",
       "dvd                        21934\n",
       "video                      20812\n",
       "festival                   19434\n",
       "tv                         18515\n",
       "dvd\u0002imdbDisplay              233\n",
       "imdbDisplay\u0002tv                74\n",
       "festival\u0002imdbDisplay          66\n",
       "imdbDisplay\u0002working           31\n",
       "imdbDisplay\u0002video             26\n",
       "alternative\u0002tv                 9\n",
       "tv\u0002video                       7\n",
       "alternative\u0002dvd                6\n",
       "video\u0002working                  5\n",
       "alternative\u0002working            5\n",
       "tv\u0002working                     4\n",
       "festival\u0002working               3\n",
       "alternative\u0002video              2\n",
       "dvd\u0002video                      2\n",
       "alternative\u0002festival           2\n",
       "Name: types, dtype: int64"
      ]
     },
     "execution_count": 11,
     "metadata": {},
     "output_type": "execute_result"
    }
   ],
   "source": [
    "df_title_akas[\"types\"].value_counts()"
   ]
  },
  {
   "cell_type": "markdown",
   "id": "11155694",
   "metadata": {},
   "source": [
    "Les données de \"*types*\" ne semblent pas intéressantes."
   ]
  },
  {
   "cell_type": "markdown",
   "id": "b3edbe35",
   "metadata": {},
   "source": [
    "***\n",
    "# Réduction des DataFrame en filtrant"
   ]
  },
  {
   "cell_type": "markdown",
   "id": "13016017",
   "metadata": {},
   "source": [
    "## Filtre DataFrame \"basics\" avec l'année de production à partir de 1980"
   ]
  },
  {
   "cell_type": "markdown",
   "id": "34aa68fc",
   "metadata": {},
   "source": [
    "### Conversion de la colonne '*startYear*' en valeur numérique dans un nouveau DataFrame"
   ]
  },
  {
   "cell_type": "markdown",
   "id": "e996f99a",
   "metadata": {},
   "source": [
    "#### Création d'un DataFrame avec uniquement les valeurs numériques de '*startYear*'"
   ]
  },
  {
   "cell_type": "code",
   "execution_count": 23,
   "id": "34bf4b45",
   "metadata": {
    "scrolled": true
   },
   "outputs": [
    {
     "name": "stdout",
     "output_type": "stream",
     "text": [
      "<class 'pandas.core.frame.DataFrame'>\n",
      "Int64Index: 8447825 entries, 0 to 9768337\n",
      "Data columns (total 11 columns):\n",
      " #   Column            Dtype \n",
      "---  ------            ----- \n",
      " 0   tconst            object\n",
      " 1   titleType         object\n",
      " 2   primaryTitle      object\n",
      " 3   originalTitle     object\n",
      " 4   isAdult           object\n",
      " 5   startYear         object\n",
      " 6   endYear           object\n",
      " 7   runtimeMinutes    object\n",
      " 8   genres            object\n",
      " 9   startYearNumeric  bool  \n",
      " 10  isAdultOk         bool  \n",
      "dtypes: bool(2), object(9)\n",
      "memory usage: 660.6+ MB\n",
      "None\n"
     ]
    }
   ],
   "source": [
    "# Création du DataFrame df_title_basics_recent_years en ne gardant que les lignes de df_title_basics\n",
    "# pour lesquelles la colonne \"startYearNumeric\" est True (= startYear est numérique)\n",
    "df_title_basics_recent_years = df_title_basics.loc[df_title_basics[\"startYearNumeric\"] == True]\n",
    "print(df_title_basics_recent_years.info())"
   ]
  },
  {
   "cell_type": "markdown",
   "id": "04ea37d5",
   "metadata": {},
   "source": [
    "<div class=\"alert alert-block alert-info\">\n",
    "    <b>Note :</b> Il faut passer par une copy du DataFrame <em>df_title_basics_recent_years</em> pour y faire le changement de type de données de la colonne \"startYear\", car si on le fait directement dans <em>df_title_basics_recent_years</em>, un message d'avertissement est renvoyé.\n",
    "</div>"
   ]
  },
  {
   "cell_type": "code",
   "execution_count": 24,
   "id": "d1d366ee",
   "metadata": {},
   "outputs": [],
   "source": [
    "# Création d'une copie du DataFrame df_title_basics_recent_years,\n",
    "# pour y appliquer le changement de type de données de \"startYear\"\n",
    "df_title_basics_recent_years_copy = df_title_basics_recent_years.copy()"
   ]
  },
  {
   "cell_type": "code",
   "execution_count": 25,
   "id": "77003d52",
   "metadata": {},
   "outputs": [],
   "source": [
    "# Application de la méthode \"to_numeric\" pour changer le type de données de \"startYear\"\n",
    "df_title_basics_recent_years_copy[\"startYear\"] = pd.to_numeric(df_title_basics_recent_years_copy[\"startYear\"])"
   ]
  },
  {
   "cell_type": "code",
   "execution_count": 26,
   "id": "1d7bbcce",
   "metadata": {
    "collapsed": true
   },
   "outputs": [
    {
     "name": "stdout",
     "output_type": "stream",
     "text": [
      "<class 'pandas.core.frame.DataFrame'>\n",
      "Int64Index: 8447825 entries, 0 to 9768337\n",
      "Data columns (total 11 columns):\n",
      " #   Column            Dtype \n",
      "---  ------            ----- \n",
      " 0   tconst            object\n",
      " 1   titleType         object\n",
      " 2   primaryTitle      object\n",
      " 3   originalTitle     object\n",
      " 4   isAdult           object\n",
      " 5   startYear         int64 \n",
      " 6   endYear           object\n",
      " 7   runtimeMinutes    object\n",
      " 8   genres            object\n",
      " 9   startYearNumeric  bool  \n",
      " 10  isAdultOk         bool  \n",
      "dtypes: bool(2), int64(1), object(8)\n",
      "memory usage: 660.6+ MB\n"
     ]
    }
   ],
   "source": [
    "# Vérification, affichage des infos\n",
    "df_title_basics_recent_years_copy.info()"
   ]
  },
  {
   "cell_type": "code",
   "execution_count": 27,
   "id": "cedccfbc",
   "metadata": {},
   "outputs": [],
   "source": [
    "# Copie de ce DataFrame dans df_title_basics_recent_years\n",
    "df_title_basics_recent_years = df_title_basics_recent_years_copy.copy()"
   ]
  },
  {
   "cell_type": "code",
   "execution_count": 28,
   "id": "4b836ff4",
   "metadata": {
    "collapsed": true
   },
   "outputs": [
    {
     "name": "stdout",
     "output_type": "stream",
     "text": [
      "<class 'pandas.core.frame.DataFrame'>\n",
      "Int64Index: 8447825 entries, 0 to 9768337\n",
      "Data columns (total 11 columns):\n",
      " #   Column            Dtype \n",
      "---  ------            ----- \n",
      " 0   tconst            object\n",
      " 1   titleType         object\n",
      " 2   primaryTitle      object\n",
      " 3   originalTitle     object\n",
      " 4   isAdult           object\n",
      " 5   startYear         int64 \n",
      " 6   endYear           object\n",
      " 7   runtimeMinutes    object\n",
      " 8   genres            object\n",
      " 9   startYearNumeric  bool  \n",
      " 10  isAdultOk         bool  \n",
      "dtypes: bool(2), int64(1), object(8)\n",
      "memory usage: 660.6+ MB\n"
     ]
    }
   ],
   "source": [
    "# Vérification, affichage des infos de df_title_basics_recent_years\n",
    "df_title_basics_recent_years.info()"
   ]
  },
  {
   "cell_type": "markdown",
   "id": "0ebeda59",
   "metadata": {},
   "source": [
    "### Filtre sur la colonne '*startYear*'"
   ]
  },
  {
   "cell_type": "code",
   "execution_count": 29,
   "id": "3a8d8824",
   "metadata": {
    "scrolled": false
   },
   "outputs": [
    {
     "name": "stdout",
     "output_type": "stream",
     "text": [
      "<class 'pandas.core.frame.DataFrame'>\n",
      "Int64Index: 7545704 entries, 11636 to 9768337\n",
      "Data columns (total 11 columns):\n",
      " #   Column            Dtype \n",
      "---  ------            ----- \n",
      " 0   tconst            object\n",
      " 1   titleType         object\n",
      " 2   primaryTitle      object\n",
      " 3   originalTitle     object\n",
      " 4   isAdult           object\n",
      " 5   startYear         int64 \n",
      " 6   endYear           object\n",
      " 7   runtimeMinutes    object\n",
      " 8   genres            object\n",
      " 9   startYearNumeric  bool  \n",
      " 10  isAdultOk         bool  \n",
      "dtypes: bool(2), int64(1), object(8)\n",
      "memory usage: 590.1+ MB\n",
      "None\n"
     ]
    }
   ],
   "source": [
    "# Application du filtre dans la méthode loc\n",
    "df_title_basics_recent_years = df_title_basics_recent_years.loc[df_title_basics_recent_years[\"startYear\"] >= 1980]\n",
    "print(df_title_basics_recent_years.info())"
   ]
  },
  {
   "cell_type": "markdown",
   "id": "e14a371a",
   "metadata": {},
   "source": [
    "On récupère donc un peu **plus de 7 500 000 titres** dont l'année de début est supérieure ou égale à 1980."
   ]
  },
  {
   "cell_type": "markdown",
   "id": "d5df9f06",
   "metadata": {},
   "source": [
    "## Filtre DataFrame \"akas\" avec la région \"FR\""
   ]
  },
  {
   "cell_type": "code",
   "execution_count": 30,
   "id": "412a9ba7",
   "metadata": {},
   "outputs": [],
   "source": [
    "# Création d'un nouveau DataFrame avec application du filtre dans la méthode loc\n",
    "df_title_akas_fr = df_title_akas.loc[df_title_akas[\"region\"] == \"FR\"]"
   ]
  },
  {
   "cell_type": "code",
   "execution_count": 31,
   "id": "453af04b",
   "metadata": {
    "scrolled": false
   },
   "outputs": [
    {
     "name": "stdout",
     "output_type": "stream",
     "text": [
      "<class 'pandas.core.frame.DataFrame'>\n",
      "Int64Index: 4255395 entries, 9 to 35584429\n",
      "Data columns (total 8 columns):\n",
      " #   Column           Dtype \n",
      "---  ------           ----- \n",
      " 0   titleId          object\n",
      " 1   ordering         int64 \n",
      " 2   title            object\n",
      " 3   region           object\n",
      " 4   language         object\n",
      " 5   types            object\n",
      " 6   attributes       object\n",
      " 7   isOriginalTitle  object\n",
      "dtypes: int64(1), object(7)\n",
      "memory usage: 292.2+ MB\n",
      "None\n",
      "\n",
      "FR    4255395\n",
      "Name: region, dtype: int64\n"
     ]
    }
   ],
   "source": [
    "# Vérification des infos du nouveau DataFrame\n",
    "print(df_title_akas_fr.info())\n",
    "print()\n",
    "# Vérification qu'il n'y a que la valeur \"FR\" dans la colonne 'region'\n",
    "print(df_title_akas_fr[\"region\"].value_counts())"
   ]
  },
  {
   "cell_type": "markdown",
   "id": "c6993b1c",
   "metadata": {},
   "source": [
    "On récupère un peu **plus de 4 250 00 titres** distribués en France."
   ]
  },
  {
   "cell_type": "markdown",
   "id": "c9a9fb27",
   "metadata": {},
   "source": [
    "***\n",
    "# Fusion des DataFrame \"akas\" et \"basics\" modifiés avec jointure\n",
    "Fusion pour récupérer un seul Dataframe contenant les titres distribués en France (region \"FR\") et datant d'à partir de 1980 (startYear >= 1980)"
   ]
  },
  {
   "cell_type": "code",
   "execution_count": 33,
   "id": "2d9d0703",
   "metadata": {},
   "outputs": [],
   "source": [
    "# Création d'un nouveau DataFrame comme résultat de cette jointure\n",
    "# merge de type inner join (how = 'inner') sur les champs \"tconst\" et \"titleID\"\n",
    "# pour récupérer les lignes pour lesquelles les valeurs de region et de startYear sont disponibles.\n",
    "df_title_fr_recent_years = pd.merge(\n",
    "    left = df_title_basics_recent_years, right = df_title_akas_fr, how = 'inner',\n",
    "    left_on = \"tconst\", right_on = \"titleId\")"
   ]
  },
  {
   "cell_type": "code",
   "execution_count": 34,
   "id": "1dab14b5",
   "metadata": {
    "collapsed": true
   },
   "outputs": [
    {
     "data": {
      "text/html": [
       "<div>\n",
       "<style scoped>\n",
       "    .dataframe tbody tr th:only-of-type {\n",
       "        vertical-align: middle;\n",
       "    }\n",
       "\n",
       "    .dataframe tbody tr th {\n",
       "        vertical-align: top;\n",
       "    }\n",
       "\n",
       "    .dataframe thead th {\n",
       "        text-align: right;\n",
       "    }\n",
       "</style>\n",
       "<table border=\"1\" class=\"dataframe\">\n",
       "  <thead>\n",
       "    <tr style=\"text-align: right;\">\n",
       "      <th></th>\n",
       "      <th>tconst</th>\n",
       "      <th>titleType</th>\n",
       "      <th>primaryTitle</th>\n",
       "      <th>originalTitle</th>\n",
       "      <th>isAdult</th>\n",
       "      <th>startYear</th>\n",
       "      <th>endYear</th>\n",
       "      <th>runtimeMinutes</th>\n",
       "      <th>genres</th>\n",
       "      <th>startYearNumeric</th>\n",
       "      <th>isAdultOk</th>\n",
       "      <th>titleId</th>\n",
       "      <th>ordering</th>\n",
       "      <th>title</th>\n",
       "      <th>region</th>\n",
       "      <th>language</th>\n",
       "      <th>types</th>\n",
       "      <th>attributes</th>\n",
       "      <th>isOriginalTitle</th>\n",
       "    </tr>\n",
       "  </thead>\n",
       "  <tbody>\n",
       "    <tr>\n",
       "      <th>0</th>\n",
       "      <td>tt0013274</td>\n",
       "      <td>movie</td>\n",
       "      <td>Istoriya grazhdanskoy voyny</td>\n",
       "      <td>Istoriya grazhdanskoy voyny</td>\n",
       "      <td>0</td>\n",
       "      <td>2021</td>\n",
       "      <td>\\N</td>\n",
       "      <td>94</td>\n",
       "      <td>Documentary</td>\n",
       "      <td>True</td>\n",
       "      <td>True</td>\n",
       "      <td>tt0013274</td>\n",
       "      <td>2</td>\n",
       "      <td>Histoire de la guerre civile</td>\n",
       "      <td>FR</td>\n",
       "      <td>\\N</td>\n",
       "      <td>\\N</td>\n",
       "      <td>\\N</td>\n",
       "      <td>0</td>\n",
       "    </tr>\n",
       "    <tr>\n",
       "      <th>1</th>\n",
       "      <td>tt0015414</td>\n",
       "      <td>movie</td>\n",
       "      <td>La tierra de los toros</td>\n",
       "      <td>La tierra de los toros</td>\n",
       "      <td>0</td>\n",
       "      <td>2000</td>\n",
       "      <td>\\N</td>\n",
       "      <td>60</td>\n",
       "      <td>\\N</td>\n",
       "      <td>True</td>\n",
       "      <td>True</td>\n",
       "      <td>tt0015414</td>\n",
       "      <td>3</td>\n",
       "      <td>La terre des taureaux</td>\n",
       "      <td>FR</td>\n",
       "      <td>\\N</td>\n",
       "      <td>imdbDisplay</td>\n",
       "      <td>\\N</td>\n",
       "      <td>0</td>\n",
       "    </tr>\n",
       "    <tr>\n",
       "      <th>2</th>\n",
       "      <td>tt0015414</td>\n",
       "      <td>movie</td>\n",
       "      <td>La tierra de los toros</td>\n",
       "      <td>La tierra de los toros</td>\n",
       "      <td>0</td>\n",
       "      <td>2000</td>\n",
       "      <td>\\N</td>\n",
       "      <td>60</td>\n",
       "      <td>\\N</td>\n",
       "      <td>True</td>\n",
       "      <td>True</td>\n",
       "      <td>tt0015414</td>\n",
       "      <td>5</td>\n",
       "      <td>La Terre des taureaux</td>\n",
       "      <td>FR</td>\n",
       "      <td>\\N</td>\n",
       "      <td>alternative</td>\n",
       "      <td>\\N</td>\n",
       "      <td>0</td>\n",
       "    </tr>\n",
       "    <tr>\n",
       "      <th>3</th>\n",
       "      <td>tt0035423</td>\n",
       "      <td>movie</td>\n",
       "      <td>Kate &amp; Leopold</td>\n",
       "      <td>Kate &amp; Leopold</td>\n",
       "      <td>0</td>\n",
       "      <td>2001</td>\n",
       "      <td>\\N</td>\n",
       "      <td>118</td>\n",
       "      <td>Comedy,Fantasy,Romance</td>\n",
       "      <td>True</td>\n",
       "      <td>True</td>\n",
       "      <td>tt0035423</td>\n",
       "      <td>11</td>\n",
       "      <td>Kate et Léopold</td>\n",
       "      <td>FR</td>\n",
       "      <td>\\N</td>\n",
       "      <td>imdbDisplay</td>\n",
       "      <td>\\N</td>\n",
       "      <td>0</td>\n",
       "    </tr>\n",
       "    <tr>\n",
       "      <th>4</th>\n",
       "      <td>tt0036606</td>\n",
       "      <td>movie</td>\n",
       "      <td>Another Time, Another Place</td>\n",
       "      <td>Another Time, Another Place</td>\n",
       "      <td>0</td>\n",
       "      <td>1983</td>\n",
       "      <td>\\N</td>\n",
       "      <td>118</td>\n",
       "      <td>Drama,War</td>\n",
       "      <td>True</td>\n",
       "      <td>True</td>\n",
       "      <td>tt0036606</td>\n",
       "      <td>7</td>\n",
       "      <td>Les Coeurs captifs</td>\n",
       "      <td>FR</td>\n",
       "      <td>\\N</td>\n",
       "      <td>imdbDisplay</td>\n",
       "      <td>\\N</td>\n",
       "      <td>0</td>\n",
       "    </tr>\n",
       "    <tr>\n",
       "      <th>...</th>\n",
       "      <td>...</td>\n",
       "      <td>...</td>\n",
       "      <td>...</td>\n",
       "      <td>...</td>\n",
       "      <td>...</td>\n",
       "      <td>...</td>\n",
       "      <td>...</td>\n",
       "      <td>...</td>\n",
       "      <td>...</td>\n",
       "      <td>...</td>\n",
       "      <td>...</td>\n",
       "      <td>...</td>\n",
       "      <td>...</td>\n",
       "      <td>...</td>\n",
       "      <td>...</td>\n",
       "      <td>...</td>\n",
       "      <td>...</td>\n",
       "      <td>...</td>\n",
       "      <td>...</td>\n",
       "    </tr>\n",
       "    <tr>\n",
       "      <th>2852502</th>\n",
       "      <td>tt9916844</td>\n",
       "      <td>tvEpisode</td>\n",
       "      <td>Episode #3.15</td>\n",
       "      <td>Episode #3.15</td>\n",
       "      <td>0</td>\n",
       "      <td>2010</td>\n",
       "      <td>\\N</td>\n",
       "      <td>\\N</td>\n",
       "      <td>Action,Drama,Family</td>\n",
       "      <td>True</td>\n",
       "      <td>True</td>\n",
       "      <td>tt9916844</td>\n",
       "      <td>4</td>\n",
       "      <td>Épisode #3.15</td>\n",
       "      <td>FR</td>\n",
       "      <td>fr</td>\n",
       "      <td>\\N</td>\n",
       "      <td>\\N</td>\n",
       "      <td>0</td>\n",
       "    </tr>\n",
       "    <tr>\n",
       "      <th>2852503</th>\n",
       "      <td>tt9916846</td>\n",
       "      <td>tvEpisode</td>\n",
       "      <td>Episode #3.18</td>\n",
       "      <td>Episode #3.18</td>\n",
       "      <td>0</td>\n",
       "      <td>2010</td>\n",
       "      <td>\\N</td>\n",
       "      <td>\\N</td>\n",
       "      <td>Action,Drama,Family</td>\n",
       "      <td>True</td>\n",
       "      <td>True</td>\n",
       "      <td>tt9916846</td>\n",
       "      <td>1</td>\n",
       "      <td>Épisode #3.18</td>\n",
       "      <td>FR</td>\n",
       "      <td>fr</td>\n",
       "      <td>\\N</td>\n",
       "      <td>\\N</td>\n",
       "      <td>0</td>\n",
       "    </tr>\n",
       "    <tr>\n",
       "      <th>2852504</th>\n",
       "      <td>tt9916848</td>\n",
       "      <td>tvEpisode</td>\n",
       "      <td>Episode #3.17</td>\n",
       "      <td>Episode #3.17</td>\n",
       "      <td>0</td>\n",
       "      <td>2010</td>\n",
       "      <td>\\N</td>\n",
       "      <td>\\N</td>\n",
       "      <td>Action,Drama,Family</td>\n",
       "      <td>True</td>\n",
       "      <td>True</td>\n",
       "      <td>tt9916848</td>\n",
       "      <td>1</td>\n",
       "      <td>Épisode #3.17</td>\n",
       "      <td>FR</td>\n",
       "      <td>fr</td>\n",
       "      <td>\\N</td>\n",
       "      <td>\\N</td>\n",
       "      <td>0</td>\n",
       "    </tr>\n",
       "    <tr>\n",
       "      <th>2852505</th>\n",
       "      <td>tt9916850</td>\n",
       "      <td>tvEpisode</td>\n",
       "      <td>Episode #3.19</td>\n",
       "      <td>Episode #3.19</td>\n",
       "      <td>0</td>\n",
       "      <td>2010</td>\n",
       "      <td>\\N</td>\n",
       "      <td>\\N</td>\n",
       "      <td>Action,Drama,Family</td>\n",
       "      <td>True</td>\n",
       "      <td>True</td>\n",
       "      <td>tt9916850</td>\n",
       "      <td>3</td>\n",
       "      <td>Épisode #3.19</td>\n",
       "      <td>FR</td>\n",
       "      <td>fr</td>\n",
       "      <td>\\N</td>\n",
       "      <td>\\N</td>\n",
       "      <td>0</td>\n",
       "    </tr>\n",
       "    <tr>\n",
       "      <th>2852506</th>\n",
       "      <td>tt9916852</td>\n",
       "      <td>tvEpisode</td>\n",
       "      <td>Episode #3.20</td>\n",
       "      <td>Episode #3.20</td>\n",
       "      <td>0</td>\n",
       "      <td>2010</td>\n",
       "      <td>\\N</td>\n",
       "      <td>\\N</td>\n",
       "      <td>Action,Drama,Family</td>\n",
       "      <td>True</td>\n",
       "      <td>True</td>\n",
       "      <td>tt9916852</td>\n",
       "      <td>2</td>\n",
       "      <td>Épisode #3.20</td>\n",
       "      <td>FR</td>\n",
       "      <td>fr</td>\n",
       "      <td>\\N</td>\n",
       "      <td>\\N</td>\n",
       "      <td>0</td>\n",
       "    </tr>\n",
       "  </tbody>\n",
       "</table>\n",
       "<p>2852507 rows × 19 columns</p>\n",
       "</div>"
      ],
      "text/plain": [
       "            tconst  titleType                 primaryTitle  \\\n",
       "0        tt0013274      movie  Istoriya grazhdanskoy voyny   \n",
       "1        tt0015414      movie       La tierra de los toros   \n",
       "2        tt0015414      movie       La tierra de los toros   \n",
       "3        tt0035423      movie               Kate & Leopold   \n",
       "4        tt0036606      movie  Another Time, Another Place   \n",
       "...            ...        ...                          ...   \n",
       "2852502  tt9916844  tvEpisode                Episode #3.15   \n",
       "2852503  tt9916846  tvEpisode                Episode #3.18   \n",
       "2852504  tt9916848  tvEpisode                Episode #3.17   \n",
       "2852505  tt9916850  tvEpisode                Episode #3.19   \n",
       "2852506  tt9916852  tvEpisode                Episode #3.20   \n",
       "\n",
       "                       originalTitle isAdult  startYear endYear  \\\n",
       "0        Istoriya grazhdanskoy voyny       0       2021      \\N   \n",
       "1             La tierra de los toros       0       2000      \\N   \n",
       "2             La tierra de los toros       0       2000      \\N   \n",
       "3                     Kate & Leopold       0       2001      \\N   \n",
       "4        Another Time, Another Place       0       1983      \\N   \n",
       "...                              ...     ...        ...     ...   \n",
       "2852502                Episode #3.15       0       2010      \\N   \n",
       "2852503                Episode #3.18       0       2010      \\N   \n",
       "2852504                Episode #3.17       0       2010      \\N   \n",
       "2852505                Episode #3.19       0       2010      \\N   \n",
       "2852506                Episode #3.20       0       2010      \\N   \n",
       "\n",
       "        runtimeMinutes                  genres  startYearNumeric  isAdultOk  \\\n",
       "0                   94             Documentary              True       True   \n",
       "1                   60                      \\N              True       True   \n",
       "2                   60                      \\N              True       True   \n",
       "3                  118  Comedy,Fantasy,Romance              True       True   \n",
       "4                  118               Drama,War              True       True   \n",
       "...                ...                     ...               ...        ...   \n",
       "2852502             \\N     Action,Drama,Family              True       True   \n",
       "2852503             \\N     Action,Drama,Family              True       True   \n",
       "2852504             \\N     Action,Drama,Family              True       True   \n",
       "2852505             \\N     Action,Drama,Family              True       True   \n",
       "2852506             \\N     Action,Drama,Family              True       True   \n",
       "\n",
       "           titleId  ordering                         title region language  \\\n",
       "0        tt0013274         2  Histoire de la guerre civile     FR       \\N   \n",
       "1        tt0015414         3         La terre des taureaux     FR       \\N   \n",
       "2        tt0015414         5         La Terre des taureaux     FR       \\N   \n",
       "3        tt0035423        11               Kate et Léopold     FR       \\N   \n",
       "4        tt0036606         7            Les Coeurs captifs     FR       \\N   \n",
       "...            ...       ...                           ...    ...      ...   \n",
       "2852502  tt9916844         4                 Épisode #3.15     FR       fr   \n",
       "2852503  tt9916846         1                 Épisode #3.18     FR       fr   \n",
       "2852504  tt9916848         1                 Épisode #3.17     FR       fr   \n",
       "2852505  tt9916850         3                 Épisode #3.19     FR       fr   \n",
       "2852506  tt9916852         2                 Épisode #3.20     FR       fr   \n",
       "\n",
       "               types attributes isOriginalTitle  \n",
       "0                 \\N         \\N               0  \n",
       "1        imdbDisplay         \\N               0  \n",
       "2        alternative         \\N               0  \n",
       "3        imdbDisplay         \\N               0  \n",
       "4        imdbDisplay         \\N               0  \n",
       "...              ...        ...             ...  \n",
       "2852502           \\N         \\N               0  \n",
       "2852503           \\N         \\N               0  \n",
       "2852504           \\N         \\N               0  \n",
       "2852505           \\N         \\N               0  \n",
       "2852506           \\N         \\N               0  \n",
       "\n",
       "[2852507 rows x 19 columns]"
      ]
     },
     "execution_count": 34,
     "metadata": {},
     "output_type": "execute_result"
    }
   ],
   "source": [
    "# Affichage\n",
    "df_title_fr_recent_years"
   ]
  },
  {
   "cell_type": "markdown",
   "id": "b412ccea",
   "metadata": {},
   "source": [
    "***\n",
    "# Filtre du nouveau DataFrame sur certaines valeurs"
   ]
  },
  {
   "cell_type": "markdown",
   "id": "47946d0f",
   "metadata": {},
   "source": [
    "## Filtre sur les *types* de titre pour ne garder que les films \"longs métrages\""
   ]
  },
  {
   "cell_type": "markdown",
   "id": "6a8526c8",
   "metadata": {},
   "source": [
    "### Vérification des *types* de titre"
   ]
  },
  {
   "cell_type": "code",
   "execution_count": 35,
   "id": "d2e074f0",
   "metadata": {},
   "outputs": [
    {
     "data": {
      "text/plain": [
       "tvEpisode       2719662\n",
       "movie             54094\n",
       "short             31352\n",
       "tvMovie           18375\n",
       "tvSeries          13467\n",
       "video              9344\n",
       "tvMiniSeries       3739\n",
       "videoGame          1228\n",
       "tvSpecial           936\n",
       "tvShort             310\n",
       "Name: titleType, dtype: int64"
      ]
     },
     "execution_count": 35,
     "metadata": {},
     "output_type": "execute_result"
    }
   ],
   "source": [
    "# Affichage et décompte des catégories de \"type\" de titre (titleType)\n",
    "df_title_fr_recent_years[\"titleType\"].value_counts()"
   ]
  },
  {
   "cell_type": "markdown",
   "id": "792dce49",
   "metadata": {},
   "source": [
    "- Les *types* de titre les plus fréquents sont les \"épisodes de télé\" ; ils ne nous intéressent pas.\n",
    "- Les films (\"**movies**\") sont les deuxièmes *types* les plus fréquents, c'est ce type qui nous intéresse et que l'on va garder.\n",
    "- Les autres types ne nous intéressent pas non plus et ne seront donc pas gardés."
   ]
  },
  {
   "cell_type": "markdown",
   "id": "52aaf703",
   "metadata": {},
   "source": [
    "### Nouveau DataFrame avec filtre sur les *types* de film"
   ]
  },
  {
   "cell_type": "code",
   "execution_count": 36,
   "id": "7cd8cec4",
   "metadata": {},
   "outputs": [],
   "source": [
    "# Création d'un nouveau DataFrame en filtrant le précédent\n",
    "# pour ne garder que les types \"movie\" dans la colonne \"titleType\"\n",
    "df_movie_title_fr_recent_years = df_title_fr_recent_years[df_title_fr_recent_years[\"titleType\"] == \"movie\"]"
   ]
  },
  {
   "cell_type": "code",
   "execution_count": 37,
   "id": "1ab58cf7",
   "metadata": {},
   "outputs": [
    {
     "name": "stdout",
     "output_type": "stream",
     "text": [
      "<class 'pandas.core.frame.DataFrame'>\n",
      "Int64Index: 54094 entries, 0 to 2852410\n",
      "Data columns (total 19 columns):\n",
      " #   Column            Non-Null Count  Dtype \n",
      "---  ------            --------------  ----- \n",
      " 0   tconst            54094 non-null  object\n",
      " 1   titleType         54094 non-null  object\n",
      " 2   primaryTitle      54094 non-null  object\n",
      " 3   originalTitle     54094 non-null  object\n",
      " 4   isAdult           54094 non-null  object\n",
      " 5   startYear         54094 non-null  int64 \n",
      " 6   endYear           54094 non-null  object\n",
      " 7   runtimeMinutes    54094 non-null  object\n",
      " 8   genres            54094 non-null  object\n",
      " 9   startYearNumeric  54094 non-null  bool  \n",
      " 10  isAdultOk         54094 non-null  bool  \n",
      " 11  titleId           54094 non-null  object\n",
      " 12  ordering          54094 non-null  int64 \n",
      " 13  title             54094 non-null  object\n",
      " 14  region            54094 non-null  object\n",
      " 15  language          54094 non-null  object\n",
      " 16  types             54094 non-null  object\n",
      " 17  attributes        54094 non-null  object\n",
      " 18  isOriginalTitle   54094 non-null  object\n",
      "dtypes: bool(2), int64(2), object(15)\n",
      "memory usage: 7.5+ MB\n"
     ]
    }
   ],
   "source": [
    "# Affichage des infos du DataFrame mis à jour\n",
    "df_movie_title_fr_recent_years.info()"
   ]
  },
  {
   "cell_type": "markdown",
   "id": "70a3fe0d",
   "metadata": {},
   "source": [
    "## Suppression des colonnes inutiles"
   ]
  },
  {
   "cell_type": "markdown",
   "id": "830c78a4",
   "metadata": {},
   "source": [
    "On va regarder le contenu des différentes colonnes pour voir si les données qu'elles contiennent sont intéressantes ou pertinentes, et choisir celles à garder et celles à supprimer, afin d'alléger le dataset"
   ]
  },
  {
   "cell_type": "markdown",
   "id": "42b1d322",
   "metadata": {},
   "source": [
    "### Inpsection des données des différentes colonnes"
   ]
  },
  {
   "cell_type": "markdown",
   "id": "622a3070",
   "metadata": {},
   "source": [
    "#### Colonne \"*isOriginalTitle*\""
   ]
  },
  {
   "cell_type": "code",
   "execution_count": 38,
   "id": "d1fe0e99",
   "metadata": {},
   "outputs": [
    {
     "data": {
      "text/plain": [
       "0    54094\n",
       "Name: isOriginalTitle, dtype: int64"
      ]
     },
     "execution_count": 38,
     "metadata": {},
     "output_type": "execute_result"
    }
   ],
   "source": [
    "df_movie_title_fr_recent_years[\"isOriginalTitle\"].value_counts()"
   ]
  },
  {
   "cell_type": "markdown",
   "id": "e2027aa0",
   "metadata": {},
   "source": [
    "#### Colonne \"*attributes*\""
   ]
  },
  {
   "cell_type": "code",
   "execution_count": 39,
   "id": "42c99a81",
   "metadata": {},
   "outputs": [
    {
     "name": "stdout",
     "output_type": "stream",
     "text": [
      "\\N                        52383\n",
      "DVD box title               207\n",
      "new title                   187\n",
      "alternative spelling        173\n",
      "complete title              129\n",
      "                          ...  \n",
      "Pay-TV title                  1\n",
      "bowdlerized title             1\n",
      "long new title                1\n",
      "informal short title          1\n",
      "second copyright title        1\n",
      "Name: attributes, Length: 65, dtype: int64\n",
      "\n",
      "- Nombre d'occurences de la valeur la plus présente :  52383\n",
      "- En pourcentage :  96.84 %\n"
     ]
    }
   ],
   "source": [
    "print(df_movie_title_fr_recent_years[\"attributes\"].value_counts())\n",
    "\n",
    "print(\"\\n- Nombre d'occurences de la valeur la plus présente : \",\n",
    "      df_movie_title_fr_recent_years[\"attributes\"].value_counts().values[0])\n",
    "print(\"- En pourcentage : \",\n",
    "      round(df_movie_title_fr_recent_years[\"attributes\"].value_counts().values[0] /\n",
    "      len(df_movie_title_fr_recent_years) * 100, 2), \"%\")"
   ]
  },
  {
   "cell_type": "markdown",
   "id": "5d0f65f0",
   "metadata": {},
   "source": [
    "#### Colonne \"*language*\""
   ]
  },
  {
   "cell_type": "code",
   "execution_count": 40,
   "id": "b1a6f970",
   "metadata": {
    "scrolled": true
   },
   "outputs": [
    {
     "name": "stdout",
     "output_type": "stream",
     "text": [
      "\\N     53997\n",
      "fr        73\n",
      "en        17\n",
      "qal        7\n",
      "Name: language, dtype: int64\n",
      "\n",
      "- Nombre d'occurences de la valeur la plus présente :  53997\n",
      "- En pourcentage :  99.82 %\n"
     ]
    }
   ],
   "source": [
    "print(df_movie_title_fr_recent_years[\"language\"].value_counts())\n",
    "\n",
    "print(\"\\n- Nombre d'occurences de la valeur la plus présente : \",\n",
    "      df_movie_title_fr_recent_years[\"language\"].value_counts().values[0])\n",
    "print(\"- En pourcentage : \",\n",
    "      round(df_movie_title_fr_recent_years[\"language\"].value_counts().values[0] /\n",
    "      len(df_movie_title_fr_recent_years) * 100, 2), \"%\")"
   ]
  },
  {
   "cell_type": "markdown",
   "id": "00519452",
   "metadata": {},
   "source": [
    "#### Colonne \"*endYear*\""
   ]
  },
  {
   "cell_type": "code",
   "execution_count": 41,
   "id": "0d46208e",
   "metadata": {
    "scrolled": false
   },
   "outputs": [
    {
     "name": "stdout",
     "output_type": "stream",
     "text": [
      "\\N    54094\n",
      "Name: endYear, dtype: int64\n"
     ]
    }
   ],
   "source": [
    "print(df_movie_title_fr_recent_years[\"endYear\"].value_counts())"
   ]
  },
  {
   "cell_type": "markdown",
   "id": "a30c49d7",
   "metadata": {},
   "source": [
    "#### Colonne \"*ordering*\""
   ]
  },
  {
   "cell_type": "code",
   "execution_count": 42,
   "id": "51f5cfe8",
   "metadata": {
    "scrolled": true
   },
   "outputs": [
    {
     "name": "stdout",
     "output_type": "stream",
     "text": [
      "2      9052\n",
      "1      8107\n",
      "3      5123\n",
      "4      3920\n",
      "5      3149\n",
      "       ... \n",
      "75        1\n",
      "102       1\n",
      "188       1\n",
      "79        1\n",
      "71        1\n",
      "Name: ordering, Length: 89, dtype: int64\n"
     ]
    }
   ],
   "source": [
    "print(df_movie_title_fr_recent_years[\"ordering\"].value_counts())"
   ]
  },
  {
   "cell_type": "markdown",
   "id": "5b5af58b",
   "metadata": {},
   "source": [
    "#### Comparaison des colonnes \"*primaryTitle*\" et \"*title*\""
   ]
  },
  {
   "cell_type": "code",
   "execution_count": 43,
   "id": "5d68e35c",
   "metadata": {
    "scrolled": true
   },
   "outputs": [
    {
     "data": {
      "text/plain": [
       "23359"
      ]
     },
     "execution_count": 43,
     "metadata": {},
     "output_type": "execute_result"
    }
   ],
   "source": [
    "len(df_movie_title_fr_recent_years[\n",
    "    df_movie_title_fr_recent_years[\"primaryTitle\"] == df_movie_title_fr_recent_years[\"title\"]])"
   ]
  },
  {
   "cell_type": "markdown",
   "id": "0ae142b4",
   "metadata": {},
   "source": [
    "Il y a environ la moitié des films pour lesquels les colonnes \"*primaryTitle*\" et \"*title*\" ont des valeurs différentes ; on va donc garder les deux."
   ]
  },
  {
   "cell_type": "markdown",
   "id": "bcb3845b",
   "metadata": {},
   "source": [
    "#### Comparaison des colonnes \"*tconst*\" et \"*titleId*\""
   ]
  },
  {
   "cell_type": "code",
   "execution_count": 44,
   "id": "26c24e27",
   "metadata": {},
   "outputs": [
    {
     "data": {
      "text/plain": [
       "54094"
      ]
     },
     "execution_count": 44,
     "metadata": {},
     "output_type": "execute_result"
    }
   ],
   "source": [
    "len(df_movie_title_fr_recent_years[\n",
    "    df_movie_title_fr_recent_years[\"tconst\"] == df_movie_title_fr_recent_years[\"titleId\"]])"
   ]
  },
  {
   "cell_type": "code",
   "execution_count": 45,
   "id": "a8ac0e7a",
   "metadata": {
    "collapsed": true
   },
   "outputs": [
    {
     "name": "stdout",
     "output_type": "stream",
     "text": [
      "<class 'pandas.core.frame.DataFrame'>\n",
      "Int64Index: 54094 entries, 0 to 2852410\n",
      "Data columns (total 19 columns):\n",
      " #   Column            Non-Null Count  Dtype \n",
      "---  ------            --------------  ----- \n",
      " 0   tconst            54094 non-null  object\n",
      " 1   titleType         54094 non-null  object\n",
      " 2   primaryTitle      54094 non-null  object\n",
      " 3   originalTitle     54094 non-null  object\n",
      " 4   isAdult           54094 non-null  object\n",
      " 5   startYear         54094 non-null  int64 \n",
      " 6   endYear           54094 non-null  object\n",
      " 7   runtimeMinutes    54094 non-null  object\n",
      " 8   genres            54094 non-null  object\n",
      " 9   startYearNumeric  54094 non-null  bool  \n",
      " 10  isAdultOk         54094 non-null  bool  \n",
      " 11  titleId           54094 non-null  object\n",
      " 12  ordering          54094 non-null  int64 \n",
      " 13  title             54094 non-null  object\n",
      " 14  region            54094 non-null  object\n",
      " 15  language          54094 non-null  object\n",
      " 16  types             54094 non-null  object\n",
      " 17  attributes        54094 non-null  object\n",
      " 18  isOriginalTitle   54094 non-null  object\n",
      "dtypes: bool(2), int64(2), object(15)\n",
      "memory usage: 7.5+ MB\n"
     ]
    }
   ],
   "source": [
    "# Affichage des colonnes\n",
    "df_movie_title_fr_recent_years.info()"
   ]
  },
  {
   "cell_type": "markdown",
   "id": "f3cc1489",
   "metadata": {},
   "source": [
    "### Suppression des colonnes inutiles"
   ]
  },
  {
   "cell_type": "markdown",
   "id": "0911df7b",
   "metadata": {},
   "source": [
    "#### Suppression de la colonne \"*titleId*\"\n",
    "Toutes les données de la colonne \"*titleId*\" sont égales à celles de la colonne \"*tconst*\" (identifiant du film, c'est dû à la construction du DataFrame), cette colonne ne sert donc à rien et peut être supprimée."
   ]
  },
  {
   "cell_type": "code",
   "execution_count": 46,
   "id": "4adfa169",
   "metadata": {},
   "outputs": [
    {
     "name": "stderr",
     "output_type": "stream",
     "text": [
      "C:\\Users\\julie\\AppData\\Local\\Temp\\ipykernel_5420\\3512727902.py:1: SettingWithCopyWarning: \n",
      "A value is trying to be set on a copy of a slice from a DataFrame\n",
      "\n",
      "See the caveats in the documentation: https://pandas.pydata.org/pandas-docs/stable/user_guide/indexing.html#returning-a-view-versus-a-copy\n",
      "  df_movie_title_fr_recent_years.drop(columns = \"titleId\", inplace = True)\n"
     ]
    }
   ],
   "source": [
    "df_movie_title_fr_recent_years.drop(columns = \"titleId\", inplace = True)"
   ]
  },
  {
   "cell_type": "markdown",
   "id": "b2cb0aa1",
   "metadata": {},
   "source": [
    "#### Suppression de la colonne \"*region*\"\n",
    "Toutes les données de la colonne \"*region*\" sont égales et valent `FR` (dû à la construction du DataFrame), cette colonne ne sert donc à rien et peut être supprimée."
   ]
  },
  {
   "cell_type": "code",
   "execution_count": 47,
   "id": "06528dab",
   "metadata": {},
   "outputs": [
    {
     "name": "stderr",
     "output_type": "stream",
     "text": [
      "C:\\Users\\julie\\AppData\\Local\\Temp\\ipykernel_5420\\313186156.py:1: SettingWithCopyWarning: \n",
      "A value is trying to be set on a copy of a slice from a DataFrame\n",
      "\n",
      "See the caveats in the documentation: https://pandas.pydata.org/pandas-docs/stable/user_guide/indexing.html#returning-a-view-versus-a-copy\n",
      "  df_movie_title_fr_recent_years.drop(columns = \"region\", inplace = True)\n"
     ]
    }
   ],
   "source": [
    "df_movie_title_fr_recent_years.drop(columns = \"region\", inplace = True)"
   ]
  },
  {
   "cell_type": "markdown",
   "id": "7889339d",
   "metadata": {},
   "source": [
    "#### Suppression de la colonne \"*endYear*\"\n",
    "Toutes les données de la colonne \"*endYear*\" valent `\\N`, cette colonne ne sert donc à rien et peut être supprimée."
   ]
  },
  {
   "cell_type": "code",
   "execution_count": 48,
   "id": "e05afc78",
   "metadata": {},
   "outputs": [
    {
     "name": "stderr",
     "output_type": "stream",
     "text": [
      "C:\\Users\\julie\\AppData\\Local\\Temp\\ipykernel_5420\\2844408875.py:1: SettingWithCopyWarning: \n",
      "A value is trying to be set on a copy of a slice from a DataFrame\n",
      "\n",
      "See the caveats in the documentation: https://pandas.pydata.org/pandas-docs/stable/user_guide/indexing.html#returning-a-view-versus-a-copy\n",
      "  df_movie_title_fr_recent_years.drop(columns = \"endYear\", inplace = True)\n"
     ]
    }
   ],
   "source": [
    "df_movie_title_fr_recent_years.drop(columns = \"endYear\", inplace = True)"
   ]
  },
  {
   "cell_type": "markdown",
   "id": "765c4cc4",
   "metadata": {},
   "source": [
    "#### Suppression de la colonne \"*isOriginalTitle*\"\n",
    "Toutes les données de la colonne \"*isOriginalTitle*\" valent `0`, cette colonne ne sert donc à rien et peut être supprimée."
   ]
  },
  {
   "cell_type": "code",
   "execution_count": 49,
   "id": "fd22c5be",
   "metadata": {
    "scrolled": true
   },
   "outputs": [
    {
     "name": "stderr",
     "output_type": "stream",
     "text": [
      "C:\\Users\\julie\\AppData\\Local\\Temp\\ipykernel_5420\\1461385085.py:1: SettingWithCopyWarning: \n",
      "A value is trying to be set on a copy of a slice from a DataFrame\n",
      "\n",
      "See the caveats in the documentation: https://pandas.pydata.org/pandas-docs/stable/user_guide/indexing.html#returning-a-view-versus-a-copy\n",
      "  df_movie_title_fr_recent_years.drop(columns = \"isOriginalTitle\", inplace = True)\n"
     ]
    }
   ],
   "source": [
    "df_movie_title_fr_recent_years.drop(columns = \"isOriginalTitle\", inplace = True)"
   ]
  },
  {
   "cell_type": "markdown",
   "id": "69ad7331",
   "metadata": {},
   "source": [
    "#### Suppression de la colonne \"*attributes*\"\n",
    "Près de 97 % des données de la colonne \"*attributes*\" valent `\\N`, cette colonne n'apporte rien à notre analyse et peut être supprimée."
   ]
  },
  {
   "cell_type": "code",
   "execution_count": 50,
   "id": "27a3ebc1",
   "metadata": {},
   "outputs": [
    {
     "name": "stderr",
     "output_type": "stream",
     "text": [
      "C:\\Users\\julie\\AppData\\Local\\Temp\\ipykernel_5420\\2355916286.py:1: SettingWithCopyWarning: \n",
      "A value is trying to be set on a copy of a slice from a DataFrame\n",
      "\n",
      "See the caveats in the documentation: https://pandas.pydata.org/pandas-docs/stable/user_guide/indexing.html#returning-a-view-versus-a-copy\n",
      "  df_movie_title_fr_recent_years.drop(columns = \"attributes\", inplace = True)\n"
     ]
    }
   ],
   "source": [
    "df_movie_title_fr_recent_years.drop(columns = \"attributes\", inplace = True)"
   ]
  },
  {
   "cell_type": "markdown",
   "id": "7990a833",
   "metadata": {},
   "source": [
    "#### Suppression de la colonne \"*language*\"\n",
    "Près de 100 % des données de la colonne \"*language*\" valent `\\N`, cette colonne n'apporte rien à notre analyse et peut être supprimée."
   ]
  },
  {
   "cell_type": "code",
   "execution_count": 51,
   "id": "c5dd1870",
   "metadata": {},
   "outputs": [
    {
     "name": "stderr",
     "output_type": "stream",
     "text": [
      "C:\\Users\\julie\\AppData\\Local\\Temp\\ipykernel_5420\\1018434411.py:1: SettingWithCopyWarning: \n",
      "A value is trying to be set on a copy of a slice from a DataFrame\n",
      "\n",
      "See the caveats in the documentation: https://pandas.pydata.org/pandas-docs/stable/user_guide/indexing.html#returning-a-view-versus-a-copy\n",
      "  df_movie_title_fr_recent_years.drop(columns = \"language\", inplace = True)\n"
     ]
    }
   ],
   "source": [
    "df_movie_title_fr_recent_years.drop(columns = \"language\", inplace = True)"
   ]
  },
  {
   "cell_type": "markdown",
   "id": "80f40659",
   "metadata": {},
   "source": [
    "#### Suppression des colonnes \"*startYearNumeric*\" et  \"*isAdultOk*\"\n",
    "Ces colonnes ont été crééee uniquement pour vérifier les données, elles ne servent plus et peuvent être supprimées."
   ]
  },
  {
   "cell_type": "code",
   "execution_count": 52,
   "id": "6f504196",
   "metadata": {},
   "outputs": [
    {
     "name": "stderr",
     "output_type": "stream",
     "text": [
      "C:\\Users\\julie\\AppData\\Local\\Temp\\ipykernel_5420\\3307970101.py:1: SettingWithCopyWarning: \n",
      "A value is trying to be set on a copy of a slice from a DataFrame\n",
      "\n",
      "See the caveats in the documentation: https://pandas.pydata.org/pandas-docs/stable/user_guide/indexing.html#returning-a-view-versus-a-copy\n",
      "  df_movie_title_fr_recent_years.drop(columns = \"startYearNumeric\", inplace = True)\n",
      "C:\\Users\\julie\\AppData\\Local\\Temp\\ipykernel_5420\\3307970101.py:2: SettingWithCopyWarning: \n",
      "A value is trying to be set on a copy of a slice from a DataFrame\n",
      "\n",
      "See the caveats in the documentation: https://pandas.pydata.org/pandas-docs/stable/user_guide/indexing.html#returning-a-view-versus-a-copy\n",
      "  df_movie_title_fr_recent_years.drop(columns = \"isAdultOk\", inplace = True)\n"
     ]
    }
   ],
   "source": [
    "df_movie_title_fr_recent_years.drop(columns = \"startYearNumeric\", inplace = True)\n",
    "df_movie_title_fr_recent_years.drop(columns = \"isAdultOk\", inplace = True)"
   ]
  },
  {
   "cell_type": "markdown",
   "id": "e07585ed",
   "metadata": {},
   "source": [
    "### Infos de la table modifiée"
   ]
  },
  {
   "cell_type": "code",
   "execution_count": 53,
   "id": "dac56ae2",
   "metadata": {
    "scrolled": true
   },
   "outputs": [
    {
     "name": "stdout",
     "output_type": "stream",
     "text": [
      "<class 'pandas.core.frame.DataFrame'>\n",
      "Int64Index: 54094 entries, 0 to 2852410\n",
      "Data columns (total 11 columns):\n",
      " #   Column          Non-Null Count  Dtype \n",
      "---  ------          --------------  ----- \n",
      " 0   tconst          54094 non-null  object\n",
      " 1   titleType       54094 non-null  object\n",
      " 2   primaryTitle    54094 non-null  object\n",
      " 3   originalTitle   54094 non-null  object\n",
      " 4   isAdult         54094 non-null  object\n",
      " 5   startYear       54094 non-null  int64 \n",
      " 6   runtimeMinutes  54094 non-null  object\n",
      " 7   genres          54094 non-null  object\n",
      " 8   ordering        54094 non-null  int64 \n",
      " 9   title           54094 non-null  object\n",
      " 10  types           54094 non-null  object\n",
      "dtypes: int64(2), object(9)\n",
      "memory usage: 5.0+ MB\n"
     ]
    }
   ],
   "source": [
    "# Affichage des données de la table mise à jour, après la suppression des colonnes.\n",
    "df_movie_title_fr_recent_years.info()"
   ]
  },
  {
   "cell_type": "markdown",
   "id": "3a0c1802",
   "metadata": {},
   "source": [
    "## Exploration des genres des films"
   ]
  },
  {
   "cell_type": "markdown",
   "id": "1fe3efb7",
   "metadata": {},
   "source": [
    "On s'intéresse aux données de la colonne \"*genres*\", afin de lister les genres de film présents, puis \"éclater\" les données de cette colonne pour n'avoir qu'un seul *genre* par ligne dans cette colonne."
   ]
  },
  {
   "cell_type": "code",
   "execution_count": 54,
   "id": "ae2af7be",
   "metadata": {
    "collapsed": true
   },
   "outputs": [
    {
     "data": {
      "text/html": [
       "<div>\n",
       "<style scoped>\n",
       "    .dataframe tbody tr th:only-of-type {\n",
       "        vertical-align: middle;\n",
       "    }\n",
       "\n",
       "    .dataframe tbody tr th {\n",
       "        vertical-align: top;\n",
       "    }\n",
       "\n",
       "    .dataframe thead th {\n",
       "        text-align: right;\n",
       "    }\n",
       "</style>\n",
       "<table border=\"1\" class=\"dataframe\">\n",
       "  <thead>\n",
       "    <tr style=\"text-align: right;\">\n",
       "      <th></th>\n",
       "      <th>tconst</th>\n",
       "      <th>titleType</th>\n",
       "      <th>primaryTitle</th>\n",
       "      <th>originalTitle</th>\n",
       "      <th>isAdult</th>\n",
       "      <th>startYear</th>\n",
       "      <th>runtimeMinutes</th>\n",
       "      <th>genres</th>\n",
       "      <th>ordering</th>\n",
       "      <th>title</th>\n",
       "      <th>types</th>\n",
       "    </tr>\n",
       "  </thead>\n",
       "  <tbody>\n",
       "    <tr>\n",
       "      <th>0</th>\n",
       "      <td>tt0013274</td>\n",
       "      <td>movie</td>\n",
       "      <td>Istoriya grazhdanskoy voyny</td>\n",
       "      <td>Istoriya grazhdanskoy voyny</td>\n",
       "      <td>0</td>\n",
       "      <td>2021</td>\n",
       "      <td>94</td>\n",
       "      <td>Documentary</td>\n",
       "      <td>2</td>\n",
       "      <td>Histoire de la guerre civile</td>\n",
       "      <td>\\N</td>\n",
       "    </tr>\n",
       "    <tr>\n",
       "      <th>1</th>\n",
       "      <td>tt0015414</td>\n",
       "      <td>movie</td>\n",
       "      <td>La tierra de los toros</td>\n",
       "      <td>La tierra de los toros</td>\n",
       "      <td>0</td>\n",
       "      <td>2000</td>\n",
       "      <td>60</td>\n",
       "      <td>\\N</td>\n",
       "      <td>3</td>\n",
       "      <td>La terre des taureaux</td>\n",
       "      <td>imdbDisplay</td>\n",
       "    </tr>\n",
       "    <tr>\n",
       "      <th>2</th>\n",
       "      <td>tt0015414</td>\n",
       "      <td>movie</td>\n",
       "      <td>La tierra de los toros</td>\n",
       "      <td>La tierra de los toros</td>\n",
       "      <td>0</td>\n",
       "      <td>2000</td>\n",
       "      <td>60</td>\n",
       "      <td>\\N</td>\n",
       "      <td>5</td>\n",
       "      <td>La Terre des taureaux</td>\n",
       "      <td>alternative</td>\n",
       "    </tr>\n",
       "    <tr>\n",
       "      <th>3</th>\n",
       "      <td>tt0035423</td>\n",
       "      <td>movie</td>\n",
       "      <td>Kate &amp; Leopold</td>\n",
       "      <td>Kate &amp; Leopold</td>\n",
       "      <td>0</td>\n",
       "      <td>2001</td>\n",
       "      <td>118</td>\n",
       "      <td>Comedy,Fantasy,Romance</td>\n",
       "      <td>11</td>\n",
       "      <td>Kate et Léopold</td>\n",
       "      <td>imdbDisplay</td>\n",
       "    </tr>\n",
       "    <tr>\n",
       "      <th>4</th>\n",
       "      <td>tt0036606</td>\n",
       "      <td>movie</td>\n",
       "      <td>Another Time, Another Place</td>\n",
       "      <td>Another Time, Another Place</td>\n",
       "      <td>0</td>\n",
       "      <td>1983</td>\n",
       "      <td>118</td>\n",
       "      <td>Drama,War</td>\n",
       "      <td>7</td>\n",
       "      <td>Les Coeurs captifs</td>\n",
       "      <td>imdbDisplay</td>\n",
       "    </tr>\n",
       "    <tr>\n",
       "      <th>...</th>\n",
       "      <td>...</td>\n",
       "      <td>...</td>\n",
       "      <td>...</td>\n",
       "      <td>...</td>\n",
       "      <td>...</td>\n",
       "      <td>...</td>\n",
       "      <td>...</td>\n",
       "      <td>...</td>\n",
       "      <td>...</td>\n",
       "      <td>...</td>\n",
       "      <td>...</td>\n",
       "    </tr>\n",
       "    <tr>\n",
       "      <th>2851935</th>\n",
       "      <td>tt9913936</td>\n",
       "      <td>movie</td>\n",
       "      <td>Paradise</td>\n",
       "      <td>Paradise</td>\n",
       "      <td>0</td>\n",
       "      <td>2019</td>\n",
       "      <td>135</td>\n",
       "      <td>Crime,Drama</td>\n",
       "      <td>6</td>\n",
       "      <td>Le paradis de Diego</td>\n",
       "      <td>imdbDisplay</td>\n",
       "    </tr>\n",
       "    <tr>\n",
       "      <th>2852016</th>\n",
       "      <td>tt9914164</td>\n",
       "      <td>movie</td>\n",
       "      <td>Une vie de château</td>\n",
       "      <td>Une vie de château</td>\n",
       "      <td>0</td>\n",
       "      <td>2019</td>\n",
       "      <td>55</td>\n",
       "      <td>Documentary</td>\n",
       "      <td>1</td>\n",
       "      <td>Une vie de château</td>\n",
       "      <td>imdbDisplay</td>\n",
       "    </tr>\n",
       "    <tr>\n",
       "      <th>2852339</th>\n",
       "      <td>tt9915790</td>\n",
       "      <td>movie</td>\n",
       "      <td>Bobbyr Bondhura</td>\n",
       "      <td>Bobbyr Bondhura</td>\n",
       "      <td>0</td>\n",
       "      <td>2019</td>\n",
       "      <td>106</td>\n",
       "      <td>Family</td>\n",
       "      <td>3</td>\n",
       "      <td>Bobbyr Bondhura</td>\n",
       "      <td>imdbDisplay</td>\n",
       "    </tr>\n",
       "    <tr>\n",
       "      <th>2852390</th>\n",
       "      <td>tt9916162</td>\n",
       "      <td>movie</td>\n",
       "      <td>Making of 'La Virgen de los sicarios'</td>\n",
       "      <td>Making of 'La Virgen de los sicarios'</td>\n",
       "      <td>0</td>\n",
       "      <td>1999</td>\n",
       "      <td>45</td>\n",
       "      <td>Documentary</td>\n",
       "      <td>2</td>\n",
       "      <td>Making of 'La Virgen de los sicarios'</td>\n",
       "      <td>imdbDisplay</td>\n",
       "    </tr>\n",
       "    <tr>\n",
       "      <th>2852410</th>\n",
       "      <td>tt9916362</td>\n",
       "      <td>movie</td>\n",
       "      <td>Coven</td>\n",
       "      <td>Akelarre</td>\n",
       "      <td>0</td>\n",
       "      <td>2020</td>\n",
       "      <td>92</td>\n",
       "      <td>Drama,History</td>\n",
       "      <td>12</td>\n",
       "      <td>Les sorcières d'Akelarre</td>\n",
       "      <td>imdbDisplay</td>\n",
       "    </tr>\n",
       "  </tbody>\n",
       "</table>\n",
       "<p>54094 rows × 11 columns</p>\n",
       "</div>"
      ],
      "text/plain": [
       "            tconst titleType                           primaryTitle  \\\n",
       "0        tt0013274     movie            Istoriya grazhdanskoy voyny   \n",
       "1        tt0015414     movie                 La tierra de los toros   \n",
       "2        tt0015414     movie                 La tierra de los toros   \n",
       "3        tt0035423     movie                         Kate & Leopold   \n",
       "4        tt0036606     movie            Another Time, Another Place   \n",
       "...            ...       ...                                    ...   \n",
       "2851935  tt9913936     movie                               Paradise   \n",
       "2852016  tt9914164     movie                     Une vie de château   \n",
       "2852339  tt9915790     movie                        Bobbyr Bondhura   \n",
       "2852390  tt9916162     movie  Making of 'La Virgen de los sicarios'   \n",
       "2852410  tt9916362     movie                                  Coven   \n",
       "\n",
       "                                 originalTitle isAdult  startYear  \\\n",
       "0                  Istoriya grazhdanskoy voyny       0       2021   \n",
       "1                       La tierra de los toros       0       2000   \n",
       "2                       La tierra de los toros       0       2000   \n",
       "3                               Kate & Leopold       0       2001   \n",
       "4                  Another Time, Another Place       0       1983   \n",
       "...                                        ...     ...        ...   \n",
       "2851935                               Paradise       0       2019   \n",
       "2852016                     Une vie de château       0       2019   \n",
       "2852339                        Bobbyr Bondhura       0       2019   \n",
       "2852390  Making of 'La Virgen de los sicarios'       0       1999   \n",
       "2852410                               Akelarre       0       2020   \n",
       "\n",
       "        runtimeMinutes                  genres  ordering  \\\n",
       "0                   94             Documentary         2   \n",
       "1                   60                      \\N         3   \n",
       "2                   60                      \\N         5   \n",
       "3                  118  Comedy,Fantasy,Romance        11   \n",
       "4                  118               Drama,War         7   \n",
       "...                ...                     ...       ...   \n",
       "2851935            135             Crime,Drama         6   \n",
       "2852016             55             Documentary         1   \n",
       "2852339            106                  Family         3   \n",
       "2852390             45             Documentary         2   \n",
       "2852410             92           Drama,History        12   \n",
       "\n",
       "                                         title        types  \n",
       "0                 Histoire de la guerre civile           \\N  \n",
       "1                        La terre des taureaux  imdbDisplay  \n",
       "2                        La Terre des taureaux  alternative  \n",
       "3                              Kate et Léopold  imdbDisplay  \n",
       "4                           Les Coeurs captifs  imdbDisplay  \n",
       "...                                        ...          ...  \n",
       "2851935                    Le paradis de Diego  imdbDisplay  \n",
       "2852016                     Une vie de château  imdbDisplay  \n",
       "2852339                        Bobbyr Bondhura  imdbDisplay  \n",
       "2852390  Making of 'La Virgen de los sicarios'  imdbDisplay  \n",
       "2852410               Les sorcières d'Akelarre  imdbDisplay  \n",
       "\n",
       "[54094 rows x 11 columns]"
      ]
     },
     "execution_count": 54,
     "metadata": {},
     "output_type": "execute_result"
    }
   ],
   "source": [
    "df_movie_title_fr_recent_years"
   ]
  },
  {
   "cell_type": "code",
   "execution_count": 55,
   "id": "b7a6aea7",
   "metadata": {},
   "outputs": [
    {
     "data": {
      "text/plain": [
       "False    54094\n",
       "Name: genres, dtype: int64"
      ]
     },
     "execution_count": 55,
     "metadata": {},
     "output_type": "execute_result"
    }
   ],
   "source": [
    "# Décompte des valeurs manquantes dans la colonne \"genres\"\n",
    "df_movie_title_fr_recent_years[\"genres\"].isna().value_counts()"
   ]
  },
  {
   "cell_type": "markdown",
   "id": "222a40c5",
   "metadata": {},
   "source": [
    "Il n'y a aucune valeur manquante dans cette colonne."
   ]
  },
  {
   "cell_type": "code",
   "execution_count": 56,
   "id": "709b5799",
   "metadata": {},
   "outputs": [],
   "source": [
    "# Création d'une copie du DataFrame et reset des index\n",
    "df_movie_title_fr_recent_years_copy = df_movie_title_fr_recent_years.copy()\n",
    "df_movie_title_fr_recent_years_copy.reset_index(inplace = True)"
   ]
  },
  {
   "cell_type": "code",
   "execution_count": 57,
   "id": "5bf46abd",
   "metadata": {
    "scrolled": true
   },
   "outputs": [
    {
     "name": "stderr",
     "output_type": "stream",
     "text": [
      "C:\\Users\\julie\\AppData\\Local\\Temp\\ipykernel_5420\\1437450091.py:15: SettingWithCopyWarning: \n",
      "A value is trying to be set on a copy of a slice from a DataFrame\n",
      "\n",
      "See the caveats in the documentation: https://pandas.pydata.org/pandas-docs/stable/user_guide/indexing.html#returning-a-view-versus-a-copy\n",
      "  df_movie_title_fr_recent_years_copy[\"genres\"][i] = list_tmp\n"
     ]
    }
   ],
   "source": [
    "# Initialisation d'un dictionnaire qui va servir à lister les genres présents, avec :\n",
    "    # chaque clé est un genre\n",
    "    # chaque valeur est la nombre d'occurences de ce genre\n",
    "dict_genres = {\"\\\\N\" : 0}\n",
    "\n",
    "list_tmp = [] # liste temporaire utilisée dans la boucle\n",
    "\n",
    "nb_movies = len(df_movie_title_fr_recent_years_copy) # Nbre de films\n",
    "\n",
    "# Boucle sur les films de notre DataFrame ..._copy\n",
    "for i in range(nb_movies):\n",
    "    try:\n",
    "        list_tmp = df_movie_title_fr_recent_years_copy[\"genres\"][i].split(\",\")\n",
    "            # Affectation la liste des genres de la ligne courant à la ligne temp\n",
    "        df_movie_title_fr_recent_years_copy[\"genres\"][i] = list_tmp\n",
    "            # Remplacement de la valeur dans la colonne \"genres\" par cette liste de genres\n",
    "        # Vérification, pour chaque genre de cette liste, s'il est déjà présent dans le dictionnaire\n",
    "        for str_genre in list_tmp:\n",
    "            if not str_genre in dict_genres:\n",
    "                # Si le genre n'est pas dans le dictionnaire, on l'ajoute\n",
    "                dict_genres[str_genre] = 1\n",
    "            else:\n",
    "                # Si le genre est déjà dans le dictionnaire, on incrémente son nombre d'occurences\n",
    "                dict_genres[str_genre] += 1\n",
    "    except:\n",
    "        value_i = df_movie_title_fr_recent_years_copy[\"genres\"][i]\n",
    "        print(f\"Erreur pour i = {i} : {value_i}\")"
   ]
  },
  {
   "cell_type": "code",
   "execution_count": 58,
   "id": "72c168c8",
   "metadata": {},
   "outputs": [
    {
     "data": {
      "text/plain": [
       "[('Drama', 23768),\n",
       " ('Comedy', 12815),\n",
       " ('Documentary', 10654),\n",
       " ('Action', 7286),\n",
       " ('Thriller', 6275),\n",
       " ('Crime', 5659),\n",
       " ('Romance', 5600),\n",
       " ('Adventure', 4675),\n",
       " ('Horror', 4482),\n",
       " ('Mystery', 2667),\n",
       " ('Fantasy', 2340),\n",
       " ('Biography', 2256),\n",
       " ('Family', 2113),\n",
       " ('Sci-Fi', 2050),\n",
       " ('Animation', 1953),\n",
       " ('History', 1613),\n",
       " ('Music', 1415),\n",
       " ('Adult', 1269),\n",
       " ('\\\\N', 1254),\n",
       " ('War', 937),\n",
       " ('Sport', 684),\n",
       " ('Musical', 492),\n",
       " ('Western', 187),\n",
       " ('News', 61),\n",
       " ('Reality-TV', 10),\n",
       " ('Talk-Show', 2),\n",
       " ('Short', 2),\n",
       " ('Game-Show', 1)]"
      ]
     },
     "execution_count": 58,
     "metadata": {},
     "output_type": "execute_result"
    }
   ],
   "source": [
    "# Affichage du dictionnaire\n",
    "sorted(dict_genres.items(), key = lambda x : x[1], reverse = True)"
   ]
  },
  {
   "cell_type": "markdown",
   "id": "95537df7",
   "metadata": {},
   "source": [
    "### Enregistrement en fichier csv ou Excel"
   ]
  },
  {
   "cell_type": "code",
   "execution_count": 59,
   "id": "92c8d02b",
   "metadata": {},
   "outputs": [],
   "source": [
    "df_movie_title_fr_recent_years_copy.to_csv(\n",
    "    r\"C:\\Users\\julie\\Wild Code School\\Projet 2\\movies_in_Fr_from_1980.csv\", index = True)"
   ]
  },
  {
   "cell_type": "code",
   "execution_count": 60,
   "id": "c97147ea",
   "metadata": {},
   "outputs": [],
   "source": [
    "df_movie_title_fr_recent_years.to_excel(\n",
    "    r\"C:\\Users\\julie\\Wild Code School\\Projet 2\\movies_in_Fr_from_1980.xlsx\", index = True)"
   ]
  },
  {
   "cell_type": "markdown",
   "id": "8b99345a",
   "metadata": {},
   "source": [
    "### Eclatement des genres de film"
   ]
  },
  {
   "cell_type": "code",
   "execution_count": 61,
   "id": "697bba8d",
   "metadata": {},
   "outputs": [],
   "source": [
    "df_movie_title_fr_recent_years_exploded = df_movie_title_fr_recent_years_copy.explode(column = \"genres\")"
   ]
  },
  {
   "cell_type": "code",
   "execution_count": 62,
   "id": "1e738db9",
   "metadata": {},
   "outputs": [
    {
     "data": {
      "text/html": [
       "<div>\n",
       "<style scoped>\n",
       "    .dataframe tbody tr th:only-of-type {\n",
       "        vertical-align: middle;\n",
       "    }\n",
       "\n",
       "    .dataframe tbody tr th {\n",
       "        vertical-align: top;\n",
       "    }\n",
       "\n",
       "    .dataframe thead th {\n",
       "        text-align: right;\n",
       "    }\n",
       "</style>\n",
       "<table border=\"1\" class=\"dataframe\">\n",
       "  <thead>\n",
       "    <tr style=\"text-align: right;\">\n",
       "      <th></th>\n",
       "      <th>index</th>\n",
       "      <th>tconst</th>\n",
       "      <th>titleType</th>\n",
       "      <th>primaryTitle</th>\n",
       "      <th>originalTitle</th>\n",
       "      <th>isAdult</th>\n",
       "      <th>startYear</th>\n",
       "      <th>runtimeMinutes</th>\n",
       "      <th>genres</th>\n",
       "      <th>ordering</th>\n",
       "      <th>title</th>\n",
       "      <th>types</th>\n",
       "    </tr>\n",
       "  </thead>\n",
       "  <tbody>\n",
       "    <tr>\n",
       "      <th>0</th>\n",
       "      <td>0</td>\n",
       "      <td>tt0013274</td>\n",
       "      <td>movie</td>\n",
       "      <td>Istoriya grazhdanskoy voyny</td>\n",
       "      <td>Istoriya grazhdanskoy voyny</td>\n",
       "      <td>0</td>\n",
       "      <td>2021</td>\n",
       "      <td>94</td>\n",
       "      <td>Documentary</td>\n",
       "      <td>2</td>\n",
       "      <td>Histoire de la guerre civile</td>\n",
       "      <td>\\N</td>\n",
       "    </tr>\n",
       "    <tr>\n",
       "      <th>1</th>\n",
       "      <td>1</td>\n",
       "      <td>tt0015414</td>\n",
       "      <td>movie</td>\n",
       "      <td>La tierra de los toros</td>\n",
       "      <td>La tierra de los toros</td>\n",
       "      <td>0</td>\n",
       "      <td>2000</td>\n",
       "      <td>60</td>\n",
       "      <td>\\N</td>\n",
       "      <td>3</td>\n",
       "      <td>La terre des taureaux</td>\n",
       "      <td>imdbDisplay</td>\n",
       "    </tr>\n",
       "    <tr>\n",
       "      <th>2</th>\n",
       "      <td>2</td>\n",
       "      <td>tt0015414</td>\n",
       "      <td>movie</td>\n",
       "      <td>La tierra de los toros</td>\n",
       "      <td>La tierra de los toros</td>\n",
       "      <td>0</td>\n",
       "      <td>2000</td>\n",
       "      <td>60</td>\n",
       "      <td>\\N</td>\n",
       "      <td>5</td>\n",
       "      <td>La Terre des taureaux</td>\n",
       "      <td>alternative</td>\n",
       "    </tr>\n",
       "    <tr>\n",
       "      <th>3</th>\n",
       "      <td>3</td>\n",
       "      <td>tt0035423</td>\n",
       "      <td>movie</td>\n",
       "      <td>Kate &amp; Leopold</td>\n",
       "      <td>Kate &amp; Leopold</td>\n",
       "      <td>0</td>\n",
       "      <td>2001</td>\n",
       "      <td>118</td>\n",
       "      <td>Comedy</td>\n",
       "      <td>11</td>\n",
       "      <td>Kate et Léopold</td>\n",
       "      <td>imdbDisplay</td>\n",
       "    </tr>\n",
       "    <tr>\n",
       "      <th>3</th>\n",
       "      <td>3</td>\n",
       "      <td>tt0035423</td>\n",
       "      <td>movie</td>\n",
       "      <td>Kate &amp; Leopold</td>\n",
       "      <td>Kate &amp; Leopold</td>\n",
       "      <td>0</td>\n",
       "      <td>2001</td>\n",
       "      <td>118</td>\n",
       "      <td>Fantasy</td>\n",
       "      <td>11</td>\n",
       "      <td>Kate et Léopold</td>\n",
       "      <td>imdbDisplay</td>\n",
       "    </tr>\n",
       "    <tr>\n",
       "      <th>...</th>\n",
       "      <td>...</td>\n",
       "      <td>...</td>\n",
       "      <td>...</td>\n",
       "      <td>...</td>\n",
       "      <td>...</td>\n",
       "      <td>...</td>\n",
       "      <td>...</td>\n",
       "      <td>...</td>\n",
       "      <td>...</td>\n",
       "      <td>...</td>\n",
       "      <td>...</td>\n",
       "      <td>...</td>\n",
       "    </tr>\n",
       "    <tr>\n",
       "      <th>54090</th>\n",
       "      <td>2852016</td>\n",
       "      <td>tt9914164</td>\n",
       "      <td>movie</td>\n",
       "      <td>Une vie de château</td>\n",
       "      <td>Une vie de château</td>\n",
       "      <td>0</td>\n",
       "      <td>2019</td>\n",
       "      <td>55</td>\n",
       "      <td>Documentary</td>\n",
       "      <td>1</td>\n",
       "      <td>Une vie de château</td>\n",
       "      <td>imdbDisplay</td>\n",
       "    </tr>\n",
       "    <tr>\n",
       "      <th>54091</th>\n",
       "      <td>2852339</td>\n",
       "      <td>tt9915790</td>\n",
       "      <td>movie</td>\n",
       "      <td>Bobbyr Bondhura</td>\n",
       "      <td>Bobbyr Bondhura</td>\n",
       "      <td>0</td>\n",
       "      <td>2019</td>\n",
       "      <td>106</td>\n",
       "      <td>Family</td>\n",
       "      <td>3</td>\n",
       "      <td>Bobbyr Bondhura</td>\n",
       "      <td>imdbDisplay</td>\n",
       "    </tr>\n",
       "    <tr>\n",
       "      <th>54092</th>\n",
       "      <td>2852390</td>\n",
       "      <td>tt9916162</td>\n",
       "      <td>movie</td>\n",
       "      <td>Making of 'La Virgen de los sicarios'</td>\n",
       "      <td>Making of 'La Virgen de los sicarios'</td>\n",
       "      <td>0</td>\n",
       "      <td>1999</td>\n",
       "      <td>45</td>\n",
       "      <td>Documentary</td>\n",
       "      <td>2</td>\n",
       "      <td>Making of 'La Virgen de los sicarios'</td>\n",
       "      <td>imdbDisplay</td>\n",
       "    </tr>\n",
       "    <tr>\n",
       "      <th>54093</th>\n",
       "      <td>2852410</td>\n",
       "      <td>tt9916362</td>\n",
       "      <td>movie</td>\n",
       "      <td>Coven</td>\n",
       "      <td>Akelarre</td>\n",
       "      <td>0</td>\n",
       "      <td>2020</td>\n",
       "      <td>92</td>\n",
       "      <td>Drama</td>\n",
       "      <td>12</td>\n",
       "      <td>Les sorcières d'Akelarre</td>\n",
       "      <td>imdbDisplay</td>\n",
       "    </tr>\n",
       "    <tr>\n",
       "      <th>54093</th>\n",
       "      <td>2852410</td>\n",
       "      <td>tt9916362</td>\n",
       "      <td>movie</td>\n",
       "      <td>Coven</td>\n",
       "      <td>Akelarre</td>\n",
       "      <td>0</td>\n",
       "      <td>2020</td>\n",
       "      <td>92</td>\n",
       "      <td>History</td>\n",
       "      <td>12</td>\n",
       "      <td>Les sorcières d'Akelarre</td>\n",
       "      <td>imdbDisplay</td>\n",
       "    </tr>\n",
       "  </tbody>\n",
       "</table>\n",
       "<p>102520 rows × 12 columns</p>\n",
       "</div>"
      ],
      "text/plain": [
       "         index     tconst titleType                           primaryTitle  \\\n",
       "0            0  tt0013274     movie            Istoriya grazhdanskoy voyny   \n",
       "1            1  tt0015414     movie                 La tierra de los toros   \n",
       "2            2  tt0015414     movie                 La tierra de los toros   \n",
       "3            3  tt0035423     movie                         Kate & Leopold   \n",
       "3            3  tt0035423     movie                         Kate & Leopold   \n",
       "...        ...        ...       ...                                    ...   \n",
       "54090  2852016  tt9914164     movie                     Une vie de château   \n",
       "54091  2852339  tt9915790     movie                        Bobbyr Bondhura   \n",
       "54092  2852390  tt9916162     movie  Making of 'La Virgen de los sicarios'   \n",
       "54093  2852410  tt9916362     movie                                  Coven   \n",
       "54093  2852410  tt9916362     movie                                  Coven   \n",
       "\n",
       "                               originalTitle isAdult  startYear  \\\n",
       "0                Istoriya grazhdanskoy voyny       0       2021   \n",
       "1                     La tierra de los toros       0       2000   \n",
       "2                     La tierra de los toros       0       2000   \n",
       "3                             Kate & Leopold       0       2001   \n",
       "3                             Kate & Leopold       0       2001   \n",
       "...                                      ...     ...        ...   \n",
       "54090                     Une vie de château       0       2019   \n",
       "54091                        Bobbyr Bondhura       0       2019   \n",
       "54092  Making of 'La Virgen de los sicarios'       0       1999   \n",
       "54093                               Akelarre       0       2020   \n",
       "54093                               Akelarre       0       2020   \n",
       "\n",
       "      runtimeMinutes       genres  ordering  \\\n",
       "0                 94  Documentary         2   \n",
       "1                 60           \\N         3   \n",
       "2                 60           \\N         5   \n",
       "3                118       Comedy        11   \n",
       "3                118      Fantasy        11   \n",
       "...              ...          ...       ...   \n",
       "54090             55  Documentary         1   \n",
       "54091            106       Family         3   \n",
       "54092             45  Documentary         2   \n",
       "54093             92        Drama        12   \n",
       "54093             92      History        12   \n",
       "\n",
       "                                       title        types  \n",
       "0               Histoire de la guerre civile           \\N  \n",
       "1                      La terre des taureaux  imdbDisplay  \n",
       "2                      La Terre des taureaux  alternative  \n",
       "3                            Kate et Léopold  imdbDisplay  \n",
       "3                            Kate et Léopold  imdbDisplay  \n",
       "...                                      ...          ...  \n",
       "54090                     Une vie de château  imdbDisplay  \n",
       "54091                        Bobbyr Bondhura  imdbDisplay  \n",
       "54092  Making of 'La Virgen de los sicarios'  imdbDisplay  \n",
       "54093               Les sorcières d'Akelarre  imdbDisplay  \n",
       "54093               Les sorcières d'Akelarre  imdbDisplay  \n",
       "\n",
       "[102520 rows x 12 columns]"
      ]
     },
     "execution_count": 62,
     "metadata": {},
     "output_type": "execute_result"
    }
   ],
   "source": [
    "df_movie_title_fr_recent_years_exploded"
   ]
  },
  {
   "cell_type": "code",
   "execution_count": 63,
   "id": "59565e5f",
   "metadata": {},
   "outputs": [
    {
     "name": "stdout",
     "output_type": "stream",
     "text": [
      "<class 'pandas.core.frame.DataFrame'>\n",
      "Int64Index: 102520 entries, 0 to 54093\n",
      "Data columns (total 12 columns):\n",
      " #   Column          Non-Null Count   Dtype \n",
      "---  ------          --------------   ----- \n",
      " 0   index           102520 non-null  int64 \n",
      " 1   tconst          102520 non-null  object\n",
      " 2   titleType       102520 non-null  object\n",
      " 3   primaryTitle    102520 non-null  object\n",
      " 4   originalTitle   102520 non-null  object\n",
      " 5   isAdult         102520 non-null  object\n",
      " 6   startYear       102520 non-null  int64 \n",
      " 7   runtimeMinutes  102520 non-null  object\n",
      " 8   genres          102520 non-null  object\n",
      " 9   ordering        102520 non-null  int64 \n",
      " 10  title           102520 non-null  object\n",
      " 11  types           102520 non-null  object\n",
      "dtypes: int64(3), object(9)\n",
      "memory usage: 10.2+ MB\n"
     ]
    }
   ],
   "source": [
    "df_movie_title_fr_recent_years_exploded.info()"
   ]
  },
  {
   "cell_type": "markdown",
   "id": "b6427c0f",
   "metadata": {},
   "source": [
    "### Enregistrement en fichier csv ou Excel"
   ]
  },
  {
   "cell_type": "code",
   "execution_count": 64,
   "id": "c896adc7",
   "metadata": {},
   "outputs": [],
   "source": [
    "df_movie_title_fr_recent_years_exploded.to_csv(\n",
    "    r\"C:\\Users\\julie\\Wild Code School\\Projet 2\\movies_in_Fr_from_1980_genres_exploded.csv\", index = True)"
   ]
  }
 ],
 "metadata": {
  "kernelspec": {
   "display_name": "Python 3 (ipykernel)",
   "language": "python",
   "name": "python3"
  },
  "language_info": {
   "codemirror_mode": {
    "name": "ipython",
    "version": 3
   },
   "file_extension": ".py",
   "mimetype": "text/x-python",
   "name": "python",
   "nbconvert_exporter": "python",
   "pygments_lexer": "ipython3",
   "version": "3.9.13"
  }
 },
 "nbformat": 4,
 "nbformat_minor": 5
}

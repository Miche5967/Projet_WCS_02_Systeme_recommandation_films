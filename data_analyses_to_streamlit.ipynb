{
 "cells": [
  {
   "cell_type": "markdown",
   "id": "a18fc94a",
   "metadata": {},
   "source": [
    "# Imports des modules"
   ]
  },
  {
   "cell_type": "code",
   "execution_count": 1,
   "id": "c7c32050",
   "metadata": {},
   "outputs": [],
   "source": [
    "import pandas as pd\n",
    "import numpy as np\n",
    "import dask.dataframe as dd\n",
    "import plotly.express as px\n",
    "import streamlit as st\n",
    "import time"
   ]
  },
  {
   "cell_type": "markdown",
   "id": "e1b223ed",
   "metadata": {},
   "source": [
    "# Chargement des données"
   ]
  },
  {
   "cell_type": "markdown",
   "id": "de8c0b6f",
   "metadata": {},
   "source": [
    "## Fonction pour lire et traiter les fichiers *title_akas* et *title_basics*"
   ]
  },
  {
   "cell_type": "code",
   "execution_count": 2,
   "id": "d19d1f48",
   "metadata": {},
   "outputs": [
    {
     "name": "stdout",
     "output_type": "stream",
     "text": [
      "Temps de chargement : 136.13365745544434 secondes\n"
     ]
    }
   ],
   "source": [
    "#@st.cache_data\n",
    "def load_and_process_title_akas_and_basics():\n",
    "    # Définition des colonnes à conserver lors de la lecture du fichier csv title.akas\n",
    "    columns_to_include_akas = ['titleId', 'title', 'region']\n",
    "    \n",
    "    # Lecture du fichier csv\n",
    "    df_title_akas_pyarrow_trim_dtype = pd.read_csv(\n",
    "        r\"https://datasets.imdbws.com/title.akas.tsv.gz\", usecols = columns_to_include_akas,\n",
    "        dtype = {'titleId': 'string', 'title': 'string', 'region': 'string'}, delimiter = '\\t', engine = \"pyarrow\")\n",
    "    \n",
    "    # Filtre sur la colonne \"region\" pour ne garder que la valeur \"FR\"\n",
    "    df_title_akas_fr = df_title_akas_pyarrow_trim_dtype.loc[df_title_akas_pyarrow_trim_dtype[\"region\"] == \"FR\"]\n",
    "    \n",
    "    # Suppression de la colonne \"region\"\n",
    "    df_title_akas_fr_trim = df_title_akas_fr.drop(columns = \"region\")\n",
    "    \n",
    "    # Définition des colonnes à conserver lors de la lecture du fichier csv title.basics\n",
    "    columns_to_include_basics = ['tconst', 'titleType', 'startYear', 'runtimeMinutes', 'genres']\n",
    "    \n",
    "    # Initialisation d'un DataFrame pour la lecture du fichier title.basics\n",
    "    df_title_basics_recent_years = pd.DataFrame()\n",
    "    \n",
    "    # Définition des \"chunks\"\n",
    "    chunksize = 500000\n",
    "    df_chunks = pd.read_csv(\n",
    "        r\"https://datasets.imdbws.com/title.basics.tsv.gz\", usecols = columns_to_include_basics,\n",
    "        dtype = {'tconst': 'string', 'titleType': 'string', 'startYear': 'string',\n",
    "                 'runtimeMinutes': 'string', 'genres': 'string'},\n",
    "        delimiter = '\\t', low_memory = False, chunksize = chunksize)\n",
    "\n",
    "    for chunk in df_chunks:\n",
    "        # Filtrer et traiter chaque morceau\n",
    "        \n",
    "        # Suppression des lignes pour lesquelles la colonne \"startYear\" ne contient pas de nombre\n",
    "        chunk = chunk[chunk[\"startYear\"].str.isnumeric()]\n",
    "        \n",
    "        # Changement de type de données de la colonne \"startYear\", passage en type \"integer\"\n",
    "        chunk[\"startYear\"] = chunk[\"startYear\"].astype(\"int32\")\n",
    "        \n",
    "        # Filtre sur la colonne \"startYear\" pour ne garder que les années à partir de 1980\n",
    "        chunk = chunk[chunk[\"startYear\"] >= 1980]\n",
    "        \n",
    "        # Filtre sur la colonne \"titleType\" pour ne garder les titres de type \"movie\"\n",
    "        chunk = chunk[chunk[\"titleType\"] == \"movie\"]\n",
    "        \n",
    "        # Concaténer le morceau traité au DataFrame final\n",
    "        df_title_basics_recent_years = pd.concat([df_title_basics_recent_years, chunk])\n",
    "    \n",
    "    # Fusion des deux DataFrame\n",
    "    df_title_fr_recent_years = pd.merge(\n",
    "        left = df_title_basics_recent_years, right = df_title_akas_fr_trim, how = 'inner',\n",
    "        left_on = \"tconst\", right_on = \"titleId\")\n",
    "    \n",
    "    # Suppression des doublons\n",
    "    df_movie_fr_recent_years_trim = df_title_fr_recent_years.copy()\n",
    "    df_movie_fr_recent_years_trim.drop_duplicates(subset = 'tconst', inplace = True)\n",
    "    \n",
    "    # Suppression des colonnes inutiles\n",
    "    # Colonne \"titleType\" devenue inutile car contient uniquement \"movie\"\n",
    "    df_movie_fr_recent_years_trim.drop(columns = \"titleType\", inplace = True)\n",
    "    # Colonne \"titleId\" car en doublon avec \"tconst\"\n",
    "    df_movie_fr_recent_years_trim.drop(columns = \"titleId\", inplace = True)\n",
    "    \n",
    "    # Suppression des lignes où il n'y a pas de genre (\"\\N\")\n",
    "    df_movie_fr_recent_years_trim = df_movie_fr_recent_years_trim[\n",
    "        df_movie_fr_recent_years_trim[\"genres\"] != \"\\\\N\"]\n",
    "    \n",
    "    return df_movie_fr_recent_years_trim\n",
    "\n",
    "start_time = time.time()\n",
    "df_movie_fr_recent_years_trim = load_and_process_title_akas_and_basics()\n",
    "end_time = time.time()\n",
    "loading_time = end_time - start_time\n",
    "print(f\"Temps de chargement : {loading_time} secondes\")"
   ]
  },
  {
   "cell_type": "code",
   "execution_count": 3,
   "id": "07808085",
   "metadata": {
    "scrolled": true
   },
   "outputs": [
    {
     "name": "stdout",
     "output_type": "stream",
     "text": [
      "<class 'pandas.core.frame.DataFrame'>\n",
      "Int64Index: 48862 entries, 0 to 54740\n",
      "Data columns (total 5 columns):\n",
      " #   Column          Non-Null Count  Dtype \n",
      "---  ------          --------------  ----- \n",
      " 0   tconst          48862 non-null  string\n",
      " 1   startYear       48862 non-null  int32 \n",
      " 2   runtimeMinutes  48862 non-null  string\n",
      " 3   genres          48862 non-null  string\n",
      " 4   title           48862 non-null  string\n",
      "dtypes: int32(1), string(4)\n",
      "memory usage: 2.1 MB\n"
     ]
    }
   ],
   "source": [
    "df_movie_fr_recent_years_trim.info()"
   ]
  },
  {
   "cell_type": "markdown",
   "id": "b2b67f1a",
   "metadata": {},
   "source": [
    "# Traitement des genres"
   ]
  },
  {
   "cell_type": "markdown",
   "id": "4a41db49",
   "metadata": {},
   "source": [
    "## Extraction des genres avec leur nombre d'occurences, suppression des genres les moins représentés"
   ]
  },
  {
   "cell_type": "code",
   "execution_count": 4,
   "id": "1dc48f18",
   "metadata": {},
   "outputs": [
    {
     "name": "stderr",
     "output_type": "stream",
     "text": [
      "C:\\Users\\julie\\AppData\\Local\\Temp\\ipykernel_78744\\1461944247.py:20: SettingWithCopyWarning: \n",
      "A value is trying to be set on a copy of a slice from a DataFrame\n",
      "\n",
      "See the caveats in the documentation: https://pandas.pydata.org/pandas-docs/stable/user_guide/indexing.html#returning-a-view-versus-a-copy\n",
      "  df_copy[\"genres\"][i] = list_tmp\n"
     ]
    }
   ],
   "source": [
    "#@st.cache_data\n",
    "def process_genres(df):\n",
    "    # Création d'une copie du DataFrame et reset des index\n",
    "    df_copy = df.copy()\n",
    "    df_copy.reset_index(inplace = True, drop = True)\n",
    "    df_copy[\"genres\"] = df_copy[\"genres\"].astype(\"object\")\n",
    "\n",
    "    # Initialisation d'un dictionnaire qui va servir à lister les genres présents, avec :\n",
    "        # chaque clé est un genre\n",
    "        # chaque valeur est la nombre d'occurences de ce genre\n",
    "    dict_genres = {}\n",
    "\n",
    "    list_tmp = [] # liste temporaire utilisée dans la boucle\n",
    "    nb_movies = len(df_copy) # Nbre de films\n",
    "\n",
    "    # Boucle sur les films de notre DataFrame ..._copy\n",
    "    for i in range(nb_movies):\n",
    "        list_tmp = df_copy[\"genres\"][i].split(\",\")\n",
    "            # Affectation la liste des genres de la ligne courant à la ligne temp\n",
    "        df_copy[\"genres\"][i] = list_tmp\n",
    "            # Remplacement de la valeur dans la colonne \"genres\" par cette liste de genres\n",
    "        # Vérification, pour chaque genre de cette liste, s'il est déjà présent dans le dictionnaire\n",
    "        for str_genre in list_tmp:\n",
    "            if not str_genre in dict_genres:\n",
    "                # Si le genre n'est pas dans le dictionnaire, on l'ajoute\n",
    "                dict_genres[str_genre] = 1\n",
    "            else:\n",
    "                # Si le genre est déjà dans le dictionnaire, on incrémente son nombre d'occurences\n",
    "                dict_genres[str_genre] += 1\n",
    "    \n",
    "    # Création d'un DataFrame des genres\n",
    "    df_genres = pd.DataFrame.from_dict(dict_genres, orient = 'index', columns = ['Occurences'])\n",
    "    df_genres.sort_values(by = \"Occurences\", ascending = False, inplace = True)\n",
    "    df_genres.reset_index(inplace = True)\n",
    "    df_genres.rename(columns = {\"index\" : \"Genre\"}, inplace = True)\n",
    "    \n",
    "    # Liste des genres que l'on veut supprimer\n",
    "    list_genres_to_delete = ['Adult','News', 'Reality-TV', 'Talk-Show', 'Short', 'Game-Show']\n",
    "\n",
    "    # Ajout d'une colonne \"genres_to_delete\" montrant s'il y a l'un des genres à supprimer dans la colonne \"genres\" (True)\n",
    "    df_copy[\"genres_to_delete\"] = df_copy.genres.apply(lambda x : any(gen in x for gen in list_genres_to_delete))\n",
    "    \n",
    "    # Suppression des lignes pour lesquelles \"genres_to_delete\" est True, c'est-à-dire\n",
    "    # les lignes ayant un genre que l'on veut supprimer\n",
    "    df_copy.drop(df_copy[df_copy.genres_to_delete == True].index, inplace = True)\n",
    "    \n",
    "    # Reset des index\n",
    "    df_copy.reset_index(inplace = True, drop = True)\n",
    "    \n",
    "    # Suppression de la colonne temporaire \"genres_to_delete\"\n",
    "    df_copy.drop(\"genres_to_delete\", axis = 1, inplace = True)\n",
    "    \n",
    "    return df_copy, df_genres\n",
    "\n",
    "df_movie_fr_recent_years_trim_copy, df_genres = process_genres(df_movie_fr_recent_years_trim)"
   ]
  },
  {
   "cell_type": "code",
   "execution_count": 5,
   "id": "2e541b36",
   "metadata": {
    "collapsed": true
   },
   "outputs": [
    {
     "name": "stdout",
     "output_type": "stream",
     "text": [
      "<class 'pandas.core.frame.DataFrame'>\n",
      "RangeIndex: 47932 entries, 0 to 47931\n",
      "Data columns (total 5 columns):\n",
      " #   Column          Non-Null Count  Dtype \n",
      "---  ------          --------------  ----- \n",
      " 0   tconst          47932 non-null  string\n",
      " 1   startYear       47932 non-null  int32 \n",
      " 2   runtimeMinutes  47932 non-null  string\n",
      " 3   genres          47932 non-null  object\n",
      " 4   title           47932 non-null  string\n",
      "dtypes: int32(1), object(1), string(3)\n",
      "memory usage: 1.6+ MB\n"
     ]
    }
   ],
   "source": [
    "df_movie_fr_recent_years_trim_copy.info()"
   ]
  },
  {
   "cell_type": "code",
   "execution_count": 6,
   "id": "2a87d4f9",
   "metadata": {
    "collapsed": true
   },
   "outputs": [
    {
     "data": {
      "text/html": [
       "<div>\n",
       "<style scoped>\n",
       "    .dataframe tbody tr th:only-of-type {\n",
       "        vertical-align: middle;\n",
       "    }\n",
       "\n",
       "    .dataframe tbody tr th {\n",
       "        vertical-align: top;\n",
       "    }\n",
       "\n",
       "    .dataframe thead th {\n",
       "        text-align: right;\n",
       "    }\n",
       "</style>\n",
       "<table border=\"1\" class=\"dataframe\">\n",
       "  <thead>\n",
       "    <tr style=\"text-align: right;\">\n",
       "      <th></th>\n",
       "      <th>Genre</th>\n",
       "      <th>Occurences</th>\n",
       "      <th>Selected</th>\n",
       "    </tr>\n",
       "  </thead>\n",
       "  <tbody>\n",
       "    <tr>\n",
       "      <th>0</th>\n",
       "      <td>Drama</td>\n",
       "      <td>22181</td>\n",
       "      <td>False</td>\n",
       "    </tr>\n",
       "    <tr>\n",
       "      <th>1</th>\n",
       "      <td>Comedy</td>\n",
       "      <td>11764</td>\n",
       "      <td>False</td>\n",
       "    </tr>\n",
       "    <tr>\n",
       "      <th>2</th>\n",
       "      <td>Documentary</td>\n",
       "      <td>10236</td>\n",
       "      <td>False</td>\n",
       "    </tr>\n",
       "    <tr>\n",
       "      <th>3</th>\n",
       "      <td>Action</td>\n",
       "      <td>6561</td>\n",
       "      <td>False</td>\n",
       "    </tr>\n",
       "    <tr>\n",
       "      <th>4</th>\n",
       "      <td>Thriller</td>\n",
       "      <td>5772</td>\n",
       "      <td>False</td>\n",
       "    </tr>\n",
       "    <tr>\n",
       "      <th>5</th>\n",
       "      <td>Crime</td>\n",
       "      <td>5185</td>\n",
       "      <td>False</td>\n",
       "    </tr>\n",
       "    <tr>\n",
       "      <th>6</th>\n",
       "      <td>Romance</td>\n",
       "      <td>5179</td>\n",
       "      <td>False</td>\n",
       "    </tr>\n",
       "    <tr>\n",
       "      <th>7</th>\n",
       "      <td>Adventure</td>\n",
       "      <td>4163</td>\n",
       "      <td>False</td>\n",
       "    </tr>\n",
       "    <tr>\n",
       "      <th>8</th>\n",
       "      <td>Horror</td>\n",
       "      <td>4103</td>\n",
       "      <td>False</td>\n",
       "    </tr>\n",
       "    <tr>\n",
       "      <th>9</th>\n",
       "      <td>Mystery</td>\n",
       "      <td>2485</td>\n",
       "      <td>False</td>\n",
       "    </tr>\n",
       "    <tr>\n",
       "      <th>10</th>\n",
       "      <td>Biography</td>\n",
       "      <td>2119</td>\n",
       "      <td>False</td>\n",
       "    </tr>\n",
       "    <tr>\n",
       "      <th>11</th>\n",
       "      <td>Fantasy</td>\n",
       "      <td>2119</td>\n",
       "      <td>False</td>\n",
       "    </tr>\n",
       "    <tr>\n",
       "      <th>12</th>\n",
       "      <td>Family</td>\n",
       "      <td>1918</td>\n",
       "      <td>False</td>\n",
       "    </tr>\n",
       "    <tr>\n",
       "      <th>13</th>\n",
       "      <td>Sci-Fi</td>\n",
       "      <td>1858</td>\n",
       "      <td>False</td>\n",
       "    </tr>\n",
       "    <tr>\n",
       "      <th>14</th>\n",
       "      <td>Animation</td>\n",
       "      <td>1733</td>\n",
       "      <td>False</td>\n",
       "    </tr>\n",
       "    <tr>\n",
       "      <th>15</th>\n",
       "      <td>History</td>\n",
       "      <td>1535</td>\n",
       "      <td>False</td>\n",
       "    </tr>\n",
       "    <tr>\n",
       "      <th>16</th>\n",
       "      <td>Music</td>\n",
       "      <td>1364</td>\n",
       "      <td>False</td>\n",
       "    </tr>\n",
       "    <tr>\n",
       "      <th>17</th>\n",
       "      <td>War</td>\n",
       "      <td>854</td>\n",
       "      <td>False</td>\n",
       "    </tr>\n",
       "    <tr>\n",
       "      <th>18</th>\n",
       "      <td>Adult</td>\n",
       "      <td>852</td>\n",
       "      <td>False</td>\n",
       "    </tr>\n",
       "    <tr>\n",
       "      <th>19</th>\n",
       "      <td>Sport</td>\n",
       "      <td>649</td>\n",
       "      <td>False</td>\n",
       "    </tr>\n",
       "    <tr>\n",
       "      <th>20</th>\n",
       "      <td>Musical</td>\n",
       "      <td>469</td>\n",
       "      <td>False</td>\n",
       "    </tr>\n",
       "    <tr>\n",
       "      <th>21</th>\n",
       "      <td>Western</td>\n",
       "      <td>168</td>\n",
       "      <td>False</td>\n",
       "    </tr>\n",
       "    <tr>\n",
       "      <th>22</th>\n",
       "      <td>News</td>\n",
       "      <td>62</td>\n",
       "      <td>False</td>\n",
       "    </tr>\n",
       "    <tr>\n",
       "      <th>23</th>\n",
       "      <td>Reality-TV</td>\n",
       "      <td>11</td>\n",
       "      <td>False</td>\n",
       "    </tr>\n",
       "    <tr>\n",
       "      <th>24</th>\n",
       "      <td>Talk-Show</td>\n",
       "      <td>2</td>\n",
       "      <td>False</td>\n",
       "    </tr>\n",
       "    <tr>\n",
       "      <th>25</th>\n",
       "      <td>Short</td>\n",
       "      <td>2</td>\n",
       "      <td>False</td>\n",
       "    </tr>\n",
       "    <tr>\n",
       "      <th>26</th>\n",
       "      <td>Game-Show</td>\n",
       "      <td>1</td>\n",
       "      <td>False</td>\n",
       "    </tr>\n",
       "  </tbody>\n",
       "</table>\n",
       "</div>"
      ],
      "text/plain": [
       "          Genre  Occurences  Selected\n",
       "0         Drama       22181     False\n",
       "1        Comedy       11764     False\n",
       "2   Documentary       10236     False\n",
       "3        Action        6561     False\n",
       "4      Thriller        5772     False\n",
       "5         Crime        5185     False\n",
       "6       Romance        5179     False\n",
       "7     Adventure        4163     False\n",
       "8        Horror        4103     False\n",
       "9       Mystery        2485     False\n",
       "10    Biography        2119     False\n",
       "11      Fantasy        2119     False\n",
       "12       Family        1918     False\n",
       "13       Sci-Fi        1858     False\n",
       "14    Animation        1733     False\n",
       "15      History        1535     False\n",
       "16        Music        1364     False\n",
       "17          War         854     False\n",
       "18        Adult         852     False\n",
       "19        Sport         649     False\n",
       "20      Musical         469     False\n",
       "21      Western         168     False\n",
       "22         News          62     False\n",
       "23   Reality-TV          11     False\n",
       "24    Talk-Show           2     False\n",
       "25        Short           2     False\n",
       "26    Game-Show           1     False"
      ]
     },
     "execution_count": 6,
     "metadata": {},
     "output_type": "execute_result"
    }
   ],
   "source": [
    "df_genres[\"Selected\"] = False\n",
    "df_genres"
   ]
  },
  {
   "cell_type": "markdown",
   "id": "4fb10263",
   "metadata": {},
   "source": [
    "## \"Eclatement\" de la colonne \"genres\""
   ]
  },
  {
   "cell_type": "code",
   "execution_count": 7,
   "id": "14d7ee9d",
   "metadata": {
    "collapsed": true
   },
   "outputs": [
    {
     "name": "stdout",
     "output_type": "stream",
     "text": [
      "<class 'pandas.core.frame.DataFrame'>\n",
      "Int64Index: 92074 entries, 0 to 47931\n",
      "Data columns (total 5 columns):\n",
      " #   Column          Non-Null Count  Dtype \n",
      "---  ------          --------------  ----- \n",
      " 0   tconst          92074 non-null  string\n",
      " 1   startYear       92074 non-null  int32 \n",
      " 2   runtimeMinutes  92074 non-null  string\n",
      " 3   genres          92074 non-null  string\n",
      " 4   title           92074 non-null  string\n",
      "dtypes: int32(1), string(4)\n",
      "memory usage: 3.9 MB\n"
     ]
    }
   ],
   "source": [
    "# Création d'un DataFrame avec la colonne \"genres\" éclatée\n",
    "df_movie_title_fr_recent_years_exploded = df_movie_fr_recent_years_trim_copy.explode(column = \"genres\")\n",
    "df_movie_title_fr_recent_years_exploded[\"genres\"] = df_movie_title_fr_recent_years_exploded[\"genres\"].astype(\"string\")\n",
    "df_movie_title_fr_recent_years_exploded.info()"
   ]
  },
  {
   "cell_type": "markdown",
   "id": "aab18c13",
   "metadata": {},
   "source": [
    "## Réduction du nombre de genres"
   ]
  },
  {
   "cell_type": "code",
   "execution_count": 8,
   "id": "bbcba104",
   "metadata": {
    "collapsed": true
   },
   "outputs": [
    {
     "data": {
      "text/html": [
       "<div>\n",
       "<style scoped>\n",
       "    .dataframe tbody tr th:only-of-type {\n",
       "        vertical-align: middle;\n",
       "    }\n",
       "\n",
       "    .dataframe tbody tr th {\n",
       "        vertical-align: top;\n",
       "    }\n",
       "\n",
       "    .dataframe thead th {\n",
       "        text-align: right;\n",
       "    }\n",
       "</style>\n",
       "<table border=\"1\" class=\"dataframe\">\n",
       "  <thead>\n",
       "    <tr style=\"text-align: right;\">\n",
       "      <th></th>\n",
       "      <th>Genre</th>\n",
       "      <th>Occurences</th>\n",
       "      <th>Selected</th>\n",
       "    </tr>\n",
       "  </thead>\n",
       "  <tbody>\n",
       "    <tr>\n",
       "      <th>0</th>\n",
       "      <td>Drama</td>\n",
       "      <td>22181</td>\n",
       "      <td>True</td>\n",
       "    </tr>\n",
       "    <tr>\n",
       "      <th>1</th>\n",
       "      <td>Comedy</td>\n",
       "      <td>11764</td>\n",
       "      <td>True</td>\n",
       "    </tr>\n",
       "    <tr>\n",
       "      <th>3</th>\n",
       "      <td>Action</td>\n",
       "      <td>6561</td>\n",
       "      <td>True</td>\n",
       "    </tr>\n",
       "    <tr>\n",
       "      <th>4</th>\n",
       "      <td>Thriller</td>\n",
       "      <td>5772</td>\n",
       "      <td>True</td>\n",
       "    </tr>\n",
       "    <tr>\n",
       "      <th>5</th>\n",
       "      <td>Crime</td>\n",
       "      <td>5185</td>\n",
       "      <td>True</td>\n",
       "    </tr>\n",
       "    <tr>\n",
       "      <th>6</th>\n",
       "      <td>Romance</td>\n",
       "      <td>5179</td>\n",
       "      <td>True</td>\n",
       "    </tr>\n",
       "    <tr>\n",
       "      <th>7</th>\n",
       "      <td>Adventure</td>\n",
       "      <td>4163</td>\n",
       "      <td>True</td>\n",
       "    </tr>\n",
       "    <tr>\n",
       "      <th>8</th>\n",
       "      <td>Horror</td>\n",
       "      <td>4103</td>\n",
       "      <td>True</td>\n",
       "    </tr>\n",
       "    <tr>\n",
       "      <th>9</th>\n",
       "      <td>Mystery</td>\n",
       "      <td>2485</td>\n",
       "      <td>True</td>\n",
       "    </tr>\n",
       "    <tr>\n",
       "      <th>11</th>\n",
       "      <td>Fantasy</td>\n",
       "      <td>2119</td>\n",
       "      <td>True</td>\n",
       "    </tr>\n",
       "  </tbody>\n",
       "</table>\n",
       "</div>"
      ],
      "text/plain": [
       "        Genre  Occurences  Selected\n",
       "0       Drama       22181      True\n",
       "1      Comedy       11764      True\n",
       "3      Action        6561      True\n",
       "4    Thriller        5772      True\n",
       "5       Crime        5185      True\n",
       "6     Romance        5179      True\n",
       "7   Adventure        4163      True\n",
       "8      Horror        4103      True\n",
       "9     Mystery        2485      True\n",
       "11    Fantasy        2119      True"
      ]
     },
     "execution_count": 8,
     "metadata": {},
     "output_type": "execute_result"
    }
   ],
   "source": [
    "# Définition d'une liste de genres à conserver\n",
    "#list_genres_to_keep = ['Drama', 'Comedy', 'Documentary', 'Action', 'Thriller', 'Crime', 'Romance', 'Adventure', 'Horror',\n",
    "#                       'Mystery', 'Fantasy', 'Biography', 'Family', 'Sci-Fi', 'Animation', 'History', 'Music', 'War',\n",
    "#                       'Sport', 'Musical', 'Western']\n",
    "list_genres_to_keep = ['Drama', 'Comedy', 'Action', 'Thriller', 'Crime',\n",
    "                       'Romance', 'Adventure', 'Horror', 'Mystery', 'Fantasy']\n",
    "\n",
    "df_genres.loc[df_genres[\"Genre\"].isin(list_genres_to_keep), \"Selected\"] = True\n",
    "\n",
    "# Création d'un DataFrame des genres ne contenant que les genres à conserver\n",
    "#df_genres_trim = df_genres.loc[df_genres.Genre.isin(list_genres_to_keep)]\n",
    "df_genres_trim = df_genres.loc[df_genres.Selected]\n",
    "df_genres_trim"
   ]
  },
  {
   "cell_type": "code",
   "execution_count": 9,
   "id": "92b79b5d",
   "metadata": {
    "collapsed": true
   },
   "outputs": [
    {
     "name": "stdout",
     "output_type": "stream",
     "text": [
      "<class 'pandas.core.frame.DataFrame'>\n",
      "Int64Index: 69272 entries, 1 to 47931\n",
      "Data columns (total 5 columns):\n",
      " #   Column          Non-Null Count  Dtype \n",
      "---  ------          --------------  ----- \n",
      " 0   tconst          69272 non-null  string\n",
      " 1   startYear       69272 non-null  int32 \n",
      " 2   runtimeMinutes  69272 non-null  string\n",
      " 3   genres          69272 non-null  string\n",
      " 4   title           69272 non-null  string\n",
      "dtypes: int32(1), string(4)\n",
      "memory usage: 2.9 MB\n"
     ]
    }
   ],
   "source": [
    "# Création d'un DataFrame avec uniquement les genres à conserver définis plus haut\n",
    "df_movie_title_fr_recent_years_exploded_trim = df_movie_title_fr_recent_years_exploded.loc[\n",
    "    df_movie_title_fr_recent_years_exploded[\"genres\"].isin(df_genres_trim[\"Genre\"])]\n",
    "\n",
    "df_movie_title_fr_recent_years_exploded_trim.info()"
   ]
  },
  {
   "cell_type": "markdown",
   "id": "fa32390d",
   "metadata": {},
   "source": [
    "# Fusion des données avec les notes et votes (\"*title_ratings*\")"
   ]
  },
  {
   "cell_type": "markdown",
   "id": "5ab89e38",
   "metadata": {},
   "source": [
    "## Fonction pour lire et traiter les fichiers *title_ratings*"
   ]
  },
  {
   "cell_type": "code",
   "execution_count": 10,
   "id": "cebedae9",
   "metadata": {},
   "outputs": [],
   "source": [
    "#@st.cache_data\n",
    "def load_and_process_title_ratings():\n",
    "    df_title_ratings = pd.read_csv(r\"https://datasets.imdbws.com/title.ratings.tsv.gz\",\n",
    "                                   delimiter = '\\t', low_memory = False)\n",
    "    return df_title_ratings\n",
    "\n",
    "df_title_ratings = load_and_process_title_ratings()"
   ]
  },
  {
   "cell_type": "markdown",
   "id": "00129116",
   "metadata": {},
   "source": [
    "## Fusion avec le DataFrame des films par genre éclaté"
   ]
  },
  {
   "cell_type": "code",
   "execution_count": 11,
   "id": "327c2f3e",
   "metadata": {},
   "outputs": [],
   "source": [
    "# Création d'un nouveau DataFrame comme résultat de cette jointure\n",
    "# Merge de type inner join (how = 'inner') sur les champs \"tconst\" de chaque table\n",
    "# pour récupérer les lignes pour lesquelles les notes et nombes de votes sont disponibles.\n",
    "df_movie_title_fr_recent_years_exploded_ratings = pd.merge(\n",
    "    left = df_movie_title_fr_recent_years_exploded_trim, right = df_title_ratings, how = 'inner',\n",
    "    left_on = \"tconst\", right_on = \"tconst\")"
   ]
  },
  {
   "cell_type": "markdown",
   "id": "62344e26",
   "metadata": {},
   "source": [
    "## Nouveau DataFrame pour aggréger les données par genre et par année"
   ]
  },
  {
   "cell_type": "code",
   "execution_count": 12,
   "id": "52f109aa",
   "metadata": {},
   "outputs": [
    {
     "name": "stderr",
     "output_type": "stream",
     "text": [
      "C:\\Users\\julie\\AppData\\Local\\Temp\\ipykernel_78744\\436460260.py:5: SettingWithCopyWarning: \n",
      "A value is trying to be set on a copy of a slice from a DataFrame.\n",
      "Try using .loc[row_indexer,col_indexer] = value instead\n",
      "\n",
      "See the caveats in the documentation: https://pandas.pydata.org/pandas-docs/stable/user_guide/indexing.html#returning-a-view-versus-a-copy\n",
      "  df_years_genres_ratings[\"weighted_rating\"] = df_years_genres_ratings.averageRating * df_years_genres_ratings.numVotes\n"
     ]
    }
   ],
   "source": [
    "# Création d'un nouveau DataFrame pour ne conserver que les colonnes qui nous intéressent\n",
    "df_years_genres_ratings = df_movie_title_fr_recent_years_exploded_ratings[[\"startYear\", \"genres\", \"averageRating\", \"numVotes\"]]\n",
    "\n",
    "# Nouvelle colonne \"weighted_rating\" pour le calcul des moyennes pondérées\n",
    "df_years_genres_ratings[\"weighted_rating\"] = df_years_genres_ratings.averageRating * df_years_genres_ratings.numVotes\n",
    "\n",
    "# Création d'un nouveau DataFrame df_group_years_genres en groupant les données du précédent par année et par genre\n",
    "# avec comme aggrégation les somme des nombres de votes et des valeurs de la nouvelle colonne weighted_rating\"\n",
    "df_group_years_genres = df_years_genres_ratings.groupby(\n",
    "    by = [\"startYear\", \"genres\"]).agg({\"numVotes\" : \"sum\", \"weighted_rating\" : \"sum\"})\n",
    "\n",
    "# Division de la colonne \"weighted_rating\"  par le nombre de vote pour calculer la moyenne pondérée\n",
    "df_group_years_genres.weighted_rating = df_group_years_genres.weighted_rating / df_group_years_genres.numVotes\n",
    "\n",
    "# Création d'un DataFrame pour le tracé, en ré-initialisant les index\n",
    "df_group_years_genres_to_plot = df_group_years_genres.reset_index()"
   ]
  },
  {
   "cell_type": "code",
   "execution_count": 13,
   "id": "abe81760",
   "metadata": {
    "collapsed": true
   },
   "outputs": [
    {
     "name": "stdout",
     "output_type": "stream",
     "text": [
      "<class 'pandas.core.frame.DataFrame'>\n",
      "RangeIndex: 440 entries, 0 to 439\n",
      "Data columns (total 4 columns):\n",
      " #   Column           Non-Null Count  Dtype  \n",
      "---  ------           --------------  -----  \n",
      " 0   startYear        440 non-null    int64  \n",
      " 1   genres           440 non-null    string \n",
      " 2   numVotes         440 non-null    int64  \n",
      " 3   weighted_rating  440 non-null    float64\n",
      "dtypes: float64(1), int64(2), string(1)\n",
      "memory usage: 13.9 KB\n"
     ]
    }
   ],
   "source": [
    "df_group_years_genres_to_plot.info()"
   ]
  },
  {
   "cell_type": "code",
   "execution_count": 14,
   "id": "708f0e59",
   "metadata": {
    "collapsed": true
   },
   "outputs": [
    {
     "data": {
      "text/html": [
       "<div>\n",
       "<style scoped>\n",
       "    .dataframe tbody tr th:only-of-type {\n",
       "        vertical-align: middle;\n",
       "    }\n",
       "\n",
       "    .dataframe tbody tr th {\n",
       "        vertical-align: top;\n",
       "    }\n",
       "\n",
       "    .dataframe thead th {\n",
       "        text-align: right;\n",
       "    }\n",
       "</style>\n",
       "<table border=\"1\" class=\"dataframe\">\n",
       "  <thead>\n",
       "    <tr style=\"text-align: right;\">\n",
       "      <th></th>\n",
       "      <th>startYear</th>\n",
       "      <th>genres</th>\n",
       "      <th>numVotes</th>\n",
       "      <th>weighted_rating</th>\n",
       "    </tr>\n",
       "  </thead>\n",
       "  <tbody>\n",
       "    <tr>\n",
       "      <th>0</th>\n",
       "      <td>1980</td>\n",
       "      <td>Action</td>\n",
       "      <td>1928345</td>\n",
       "      <td>8.114136</td>\n",
       "    </tr>\n",
       "    <tr>\n",
       "      <th>1</th>\n",
       "      <td>1980</td>\n",
       "      <td>Adventure</td>\n",
       "      <td>2129972</td>\n",
       "      <td>7.934840</td>\n",
       "    </tr>\n",
       "    <tr>\n",
       "      <th>2</th>\n",
       "      <td>1980</td>\n",
       "      <td>Comedy</td>\n",
       "      <td>1170877</td>\n",
       "      <td>7.088511</td>\n",
       "    </tr>\n",
       "    <tr>\n",
       "      <th>3</th>\n",
       "      <td>1980</td>\n",
       "      <td>Crime</td>\n",
       "      <td>315144</td>\n",
       "      <td>6.661269</td>\n",
       "    </tr>\n",
       "    <tr>\n",
       "      <th>4</th>\n",
       "      <td>1980</td>\n",
       "      <td>Drama</td>\n",
       "      <td>2523690</td>\n",
       "      <td>7.809570</td>\n",
       "    </tr>\n",
       "    <tr>\n",
       "      <th>...</th>\n",
       "      <td>...</td>\n",
       "      <td>...</td>\n",
       "      <td>...</td>\n",
       "      <td>...</td>\n",
       "    </tr>\n",
       "    <tr>\n",
       "      <th>435</th>\n",
       "      <td>2023</td>\n",
       "      <td>Fantasy</td>\n",
       "      <td>51166</td>\n",
       "      <td>6.158119</td>\n",
       "    </tr>\n",
       "    <tr>\n",
       "      <th>436</th>\n",
       "      <td>2023</td>\n",
       "      <td>Horror</td>\n",
       "      <td>361767</td>\n",
       "      <td>6.218669</td>\n",
       "    </tr>\n",
       "    <tr>\n",
       "      <th>437</th>\n",
       "      <td>2023</td>\n",
       "      <td>Mystery</td>\n",
       "      <td>311774</td>\n",
       "      <td>6.424598</td>\n",
       "    </tr>\n",
       "    <tr>\n",
       "      <th>438</th>\n",
       "      <td>2023</td>\n",
       "      <td>Romance</td>\n",
       "      <td>168467</td>\n",
       "      <td>5.951151</td>\n",
       "    </tr>\n",
       "    <tr>\n",
       "      <th>439</th>\n",
       "      <td>2023</td>\n",
       "      <td>Thriller</td>\n",
       "      <td>968269</td>\n",
       "      <td>6.635106</td>\n",
       "    </tr>\n",
       "  </tbody>\n",
       "</table>\n",
       "<p>440 rows × 4 columns</p>\n",
       "</div>"
      ],
      "text/plain": [
       "     startYear     genres  numVotes  weighted_rating\n",
       "0         1980     Action   1928345         8.114136\n",
       "1         1980  Adventure   2129972         7.934840\n",
       "2         1980     Comedy   1170877         7.088511\n",
       "3         1980      Crime    315144         6.661269\n",
       "4         1980      Drama   2523690         7.809570\n",
       "..         ...        ...       ...              ...\n",
       "435       2023    Fantasy     51166         6.158119\n",
       "436       2023     Horror    361767         6.218669\n",
       "437       2023    Mystery    311774         6.424598\n",
       "438       2023    Romance    168467         5.951151\n",
       "439       2023   Thriller    968269         6.635106\n",
       "\n",
       "[440 rows x 4 columns]"
      ]
     },
     "execution_count": 14,
     "metadata": {},
     "output_type": "execute_result"
    }
   ],
   "source": [
    "df_group_years_genres_to_plot"
   ]
  },
  {
   "cell_type": "markdown",
   "id": "87239c04",
   "metadata": {},
   "source": [
    "# Tracés"
   ]
  },
  {
   "cell_type": "markdown",
   "id": "746e11f6",
   "metadata": {},
   "source": [
    "## Bubble plot de la moyenne pondérée (y) par année (x) et par genre (catégorie), avec le nombre de votes pour la taille des bulles"
   ]
  },
  {
   "cell_type": "code",
   "execution_count": 17,
   "id": "981e29c3",
   "metadata": {},
   "outputs": [
    {
     "data": {
      "application/vnd.plotly.v1+json": {
       "config": {
        "plotlyServerURL": "https://plot.ly"
       },
       "data": [
        {
         "hovertemplate": "Movie genre=Action<br>Year=%{x}<br>Weighted rating=%{y}<br>Number of votes=%{marker.size}<extra></extra>",
         "legendgroup": "Action",
         "marker": {
          "color": "#FD3216",
          "size": [
           1928345,
           1739174,
           1728951,
           1729216,
           3151588,
           1389601,
           2437654,
           1922830,
           2276634,
           2619411,
           2416070,
           2574762,
           2029977,
           3017557,
           4042141,
           4095731,
           3445478,
           5962900,
           4890677,
           5754798,
           6040956,
           7853535,
           9046287,
           12172818,
           9408931,
           9756175,
           8291903,
           10272773,
           14389494,
           12316018,
           14076658,
           14857132,
           14201909,
           15514026,
           18215907,
           13377705,
           14122305,
           14102914,
           12515818,
           11152764,
           4992581,
           10005590,
           8967582,
           1454698
          ],
          "sizemode": "area",
          "sizeref": 48663.625,
          "symbol": "circle"
         },
         "mode": "markers",
         "name": "Action",
         "orientation": "v",
         "showlegend": true,
         "type": "scatter",
         "x": [
          1980,
          1981,
          1982,
          1983,
          1984,
          1985,
          1986,
          1987,
          1988,
          1989,
          1990,
          1991,
          1992,
          1993,
          1994,
          1995,
          1996,
          1997,
          1998,
          1999,
          2000,
          2001,
          2002,
          2003,
          2004,
          2005,
          2006,
          2007,
          2008,
          2009,
          2010,
          2011,
          2012,
          2013,
          2014,
          2015,
          2016,
          2017,
          2018,
          2019,
          2020,
          2021,
          2022,
          2023
         ],
         "xaxis": "x",
         "y": [
          8.114136059678119,
          7.770792284153282,
          7.491040983810415,
          7.486860403789926,
          7.307730452076858,
          6.548579772179208,
          7.093447224257421,
          6.952081983326659,
          7.266174975863489,
          7.083067949245078,
          6.62033939414007,
          7.403376972318218,
          6.58605186167134,
          7.222486998588593,
          7.212038570648575,
          6.792955176987943,
          6.657197085571291,
          6.544570460681883,
          6.71751270836328,
          7.273475159336608,
          6.998247843553238,
          7.093176919692852,
          7.119381377132961,
          7.27269790774823,
          6.9505701444723105,
          7.012565939007859,
          6.933985937848043,
          6.82884808220721,
          7.173226793103358,
          6.890457037331385,
          7.034206968727946,
          6.776398257752573,
          7.02754628972767,
          6.737937902128048,
          6.921514492800166,
          6.952684843925023,
          6.749522942607457,
          6.984916819318334,
          6.864813350593625,
          6.909262026884098,
          6.182334888507567,
          6.721149247570608,
          6.815028610834002,
          6.6140191297437685
         ],
         "yaxis": "y"
        },
        {
         "hovertemplate": "Movie genre=Adventure<br>Year=%{x}<br>Weighted rating=%{y}<br>Number of votes=%{marker.size}<extra></extra>",
         "legendgroup": "Adventure",
         "marker": {
          "color": "#00FE35",
          "size": [
           2129972,
           1933075,
           1383609,
           1683114,
           1644923,
           2873917,
           2516475,
           1556041,
           935552,
           2917302,
           1732717,
           1182475,
           1398628,
           2006398,
           2486034,
           4055447,
           3018429,
           4168679,
           2893899,
           4117733,
           6249488,
           7483080,
           7430602,
           7505654,
           7155253,
           6993981,
           7596223,
           8356218,
           9305899,
           10751586,
           11071422,
           9625544,
           10809167,
           10981340,
           15448397,
           12182132,
           10827484,
           9471909,
           10705534,
           8242074,
           2779763,
           7450653,
           5711767,
           938854
          ],
          "sizemode": "area",
          "sizeref": 48663.625,
          "symbol": "circle"
         },
         "mode": "markers",
         "name": "Adventure",
         "orientation": "v",
         "showlegend": true,
         "type": "scatter",
         "x": [
          1980,
          1981,
          1982,
          1983,
          1984,
          1985,
          1986,
          1987,
          1988,
          1989,
          1990,
          1991,
          1992,
          1993,
          1994,
          1995,
          1996,
          1997,
          1998,
          1999,
          2000,
          2001,
          2002,
          2003,
          2004,
          2005,
          2006,
          2007,
          2008,
          2009,
          2010,
          2011,
          2012,
          2013,
          2014,
          2015,
          2016,
          2017,
          2018,
          2019,
          2020,
          2021,
          2022,
          2023
         ],
         "xaxis": "x",
         "y": [
          7.934840317149709,
          7.7326483969840805,
          7.386883288559124,
          7.555266012878509,
          6.965191258192633,
          7.417763769795719,
          7.531605122244409,
          7.1193242980101425,
          6.771998563414968,
          7.4292327294191685,
          7.260176935991279,
          6.6337503964143005,
          7.173498957549827,
          7.294906693487533,
          7.346572170774816,
          7.128101143967608,
          6.687445985974824,
          6.867419463096104,
          6.705610665748874,
          6.9047492637332235,
          7.284776880922085,
          7.631224575976737,
          7.209806217585062,
          7.593827133518278,
          6.99334424652769,
          6.745316508580736,
          6.869423370009016,
          6.834723687199161,
          6.823354562519967,
          7.2009453395992,
          7.321952356255593,
          6.647953601375673,
          6.953073830758652,
          6.843976591199252,
          7.332154902544257,
          7.117549284476643,
          6.696660636949453,
          6.905777863786487,
          7.0268302543338805,
          6.921083928632526,
          6.428908291822,
          7.077654951854556,
          6.654819165417637,
          6.583354067831633
         ],
         "yaxis": "y"
        },
        {
         "hovertemplate": "Movie genre=Comedy<br>Year=%{x}<br>Weighted rating=%{y}<br>Number of votes=%{marker.size}<extra></extra>",
         "legendgroup": "Comedy",
         "marker": {
          "color": "#6A76FC",
          "size": [
           1170877,
           663729,
           1013492,
           1202433,
           2186766,
           3671437,
           2230947,
           2960830,
           3532675,
           3986516,
           3354961,
           2506606,
           3202917,
           3730929,
           4570326,
           4705619,
           3785226,
           4872316,
           8351979,
           6787932,
           6812713,
           7872739,
           5910317,
           8711303,
           9195922,
           8073900,
           9678261,
           9152273,
           9266782,
           10981753,
           10439978,
           11303823,
           10684569,
           11488251,
           10987037,
           8851299,
           9476824,
           8579904,
           7466895,
           9185310,
           4908807,
           5298302,
           6427013,
           1204961
          ],
          "sizemode": "area",
          "sizeref": 48663.625,
          "symbol": "circle"
         },
         "mode": "markers",
         "name": "Comedy",
         "orientation": "v",
         "showlegend": true,
         "type": "scatter",
         "x": [
          1980,
          1981,
          1982,
          1983,
          1984,
          1985,
          1986,
          1987,
          1988,
          1989,
          1990,
          1991,
          1992,
          1993,
          1994,
          1995,
          1996,
          1997,
          1998,
          1999,
          2000,
          2001,
          2002,
          2003,
          2004,
          2005,
          2006,
          2007,
          2008,
          2009,
          2010,
          2011,
          2012,
          2013,
          2014,
          2015,
          2016,
          2017,
          2018,
          2019,
          2020,
          2021,
          2022,
          2023
         ],
         "xaxis": "x",
         "y": [
          7.088511175810952,
          6.788464418459944,
          6.756849684062627,
          6.9657525200988335,
          7.0196091397067635,
          7.474552770481967,
          6.725235247632508,
          6.932030309068741,
          6.9333515537093,
          7.089849858874265,
          6.800840456863731,
          6.660269823019653,
          6.902338305987947,
          6.830054927338472,
          6.680965296567465,
          6.991620677322155,
          6.4398290617257725,
          6.924035386867354,
          7.211362564489207,
          6.824108314579463,
          6.739790961398198,
          6.887290458886038,
          6.372318100704243,
          6.7512720427701804,
          6.635197177618514,
          6.449684836324453,
          6.514281429277429,
          6.741450763105514,
          6.415296399548408,
          6.911532712491349,
          6.776358666656194,
          6.69364283216395,
          6.719721581656687,
          6.8330462922511,
          6.920628182102236,
          6.733886483780516,
          6.895826186072465,
          6.966765607167633,
          6.842270595742943,
          6.855915064379972,
          6.526335726786569,
          6.727843392090523,
          6.651942838765069,
          6.462102673862474
         ],
         "yaxis": "y"
        },
        {
         "hovertemplate": "Movie genre=Crime<br>Year=%{x}<br>Weighted rating=%{y}<br>Number of votes=%{marker.size}<extra></extra>",
         "legendgroup": "Crime",
         "marker": {
          "color": "#FED4C4",
          "size": [
           315144,
           375003,
           371702,
           1357666,
           1024068,
           593411,
           787374,
           1780289,
           1553955,
           1242307,
           2953284,
           2976987,
           3059949,
           2388854,
           5424831,
           6489154,
           3049924,
           3727243,
           5364349,
           3455359,
           4338427,
           4378304,
           6446785,
           5798868,
           4667346,
           7059221,
           5663134,
           7121670,
           9185270,
           4147693,
           4410032,
           3879530,
           4703680,
           9266683,
           6553707,
           5371696,
           4312819,
           6026021,
           4028577,
           6434158,
           2359609,
           4116969,
           3430881,
           554881
          ],
          "sizemode": "area",
          "sizeref": 48663.625,
          "symbol": "circle"
         },
         "mode": "markers",
         "name": "Crime",
         "orientation": "v",
         "showlegend": true,
         "type": "scatter",
         "x": [
          1980,
          1981,
          1982,
          1983,
          1984,
          1985,
          1986,
          1987,
          1988,
          1989,
          1990,
          1991,
          1992,
          1993,
          1994,
          1995,
          1996,
          1997,
          1998,
          1999,
          2000,
          2001,
          2002,
          2003,
          2004,
          2005,
          2006,
          2007,
          2008,
          2009,
          2010,
          2011,
          2012,
          2013,
          2014,
          2015,
          2016,
          2017,
          2018,
          2019,
          2020,
          2021,
          2022,
          2023
         ],
         "xaxis": "x",
         "y": [
          6.6612694514253805,
          6.940196211763639,
          6.854285422193048,
          7.682074088914358,
          7.420447079686115,
          6.8485016287193865,
          6.860898251656773,
          7.144554058357941,
          6.9203082457342715,
          6.605632826668448,
          7.548306055225302,
          7.780969382802143,
          7.385130471128767,
          7.2054360375309665,
          7.9706883956385,
          7.833097488516993,
          7.131763873460454,
          7.067124359747942,
          7.533994432502434,
          7.4409618219119915,
          7.1373932994608404,
          6.940709416248849,
          7.396160628902623,
          7.10010769343258,
          6.939393908229645,
          7.137464983742541,
          7.217910171293846,
          7.149061708840763,
          7.652754573354947,
          6.711701348195249,
          6.921296738889876,
          6.835066283802419,
          6.6950270213960135,
          7.062687490227086,
          6.999343623387496,
          6.953585329475086,
          6.6669594295517625,
          6.901934775866198,
          6.638716847164644,
          7.313164939375128,
          6.342763313752405,
          6.444195159108558,
          6.872438682659061,
          6.981946939974517
         ],
         "yaxis": "y"
        },
        {
         "hovertemplate": "Movie genre=Drama<br>Year=%{x}<br>Weighted rating=%{y}<br>Number of votes=%{marker.size}<extra></extra>",
         "legendgroup": "Drama",
         "marker": {
          "color": "#FE00CE",
          "size": [
           2523690,
           1273575,
           2474375,
           2179304,
           2385744,
           2452622,
           3150188,
           3293626,
           3532085,
           3117079,
           4988636,
           4212381,
           4219810,
           7461777,
           13109615,
           9982176,
           5660477,
           10409688,
           9939784,
           12821297,
           10811135,
           12216774,
           14026323,
           11521382,
           14238016,
           13078254,
           17348288,
           14857945,
           17388177,
           13656576,
           14366893,
           16462062,
           17703300,
           17826260,
           19465450,
           15915123,
           15587840,
           15068843,
           12785124,
           17224973,
           7286770,
           9404300,
           10268999,
           1007190
          ],
          "sizemode": "area",
          "sizeref": 48663.625,
          "symbol": "circle"
         },
         "mode": "markers",
         "name": "Drama",
         "orientation": "v",
         "showlegend": true,
         "type": "scatter",
         "x": [
          1980,
          1981,
          1982,
          1983,
          1984,
          1985,
          1986,
          1987,
          1988,
          1989,
          1990,
          1991,
          1992,
          1993,
          1994,
          1995,
          1996,
          1997,
          1998,
          1999,
          2000,
          2001,
          2002,
          2003,
          2004,
          2005,
          2006,
          2007,
          2008,
          2009,
          2010,
          2011,
          2012,
          2013,
          2014,
          2015,
          2016,
          2017,
          2018,
          2019,
          2020,
          2021,
          2022,
          2023
         ],
         "xaxis": "x",
         "y": [
          7.80956995510542,
          7.285750819543411,
          7.55224777974236,
          7.443645127068091,
          7.441191217498608,
          7.273648813392362,
          7.3420932972889235,
          7.418267344258274,
          7.420373179014661,
          7.26249103728202,
          7.518676908878499,
          7.571085663903621,
          7.191593673648813,
          7.639151250432706,
          8.341492972905765,
          7.769895521778016,
          7.021221144437121,
          7.506147571377739,
          7.503529634044361,
          7.717955016563457,
          7.45635526704643,
          7.467651100036719,
          7.494106067570239,
          7.665056214610366,
          7.334366677211206,
          7.261619807965191,
          7.46021382628649,
          7.296779971927477,
          7.330399282224928,
          7.181918520425619,
          6.971024256949641,
          7.107432082323587,
          7.262007772562177,
          7.08865451867077,
          7.28462776355029,
          7.04148338030438,
          7.103640356842257,
          7.051380009732664,
          6.926439133480442,
          7.348221120578824,
          6.577364360340726,
          6.8746543283391635,
          6.997869383374173,
          6.712470040409456
         ],
         "yaxis": "y"
        },
        {
         "hovertemplate": "Movie genre=Fantasy<br>Year=%{x}<br>Weighted rating=%{y}<br>Number of votes=%{marker.size}<extra></extra>",
         "legendgroup": "Fantasy",
         "marker": {
          "color": "#0DF9FF",
          "size": [
           1411647,
           196827,
           438101,
           1185567,
           915998,
           460756,
           389360,
           563018,
           941274,
           836159,
           1024995,
           1091694,
           1004678,
           1628161,
           766969,
           759629,
           814619,
           525148,
           1140299,
           3959599,
           1259125,
           2447294,
           2100410,
           3058167,
           2032886,
           3246223,
           4140557,
           3262024,
           2363275,
           3837984,
           3582338,
           4933075,
           3466070,
           3833020,
           2063740,
           1398873,
           3785733,
           4897406,
           2410821,
           2429470,
           909913,
           2916475,
           1807742,
           51166
          ],
          "sizemode": "area",
          "sizeref": 48663.625,
          "symbol": "circle"
         },
         "mode": "markers",
         "name": "Fantasy",
         "orientation": "v",
         "showlegend": true,
         "type": "scatter",
         "x": [
          1980,
          1981,
          1982,
          1983,
          1984,
          1985,
          1986,
          1987,
          1988,
          1989,
          1990,
          1991,
          1992,
          1993,
          1994,
          1995,
          1996,
          1997,
          1998,
          1999,
          2000,
          2001,
          2002,
          2003,
          2004,
          2005,
          2006,
          2007,
          2008,
          2009,
          2010,
          2011,
          2012,
          2013,
          2014,
          2015,
          2016,
          2017,
          2018,
          2019,
          2020,
          2021,
          2022,
          2023
         ],
         "xaxis": "x",
         "y": [
          8.554157661228338,
          6.899398456512571,
          6.962177671358887,
          8.066169014488427,
          7.1213865095775315,
          6.3978515743690805,
          6.828100729402095,
          6.469255512257156,
          7.023052054980802,
          6.677896309194782,
          7.13711032736745,
          7.105385758280251,
          6.842691190610325,
          7.399205115464625,
          6.808666321585357,
          6.594024977982673,
          6.287787419640348,
          6.220928385902641,
          6.916864261040305,
          7.431932299205045,
          6.046389437109103,
          6.71823377166781,
          6.606545769635452,
          7.231589445573116,
          6.769869731996777,
          6.886231075314296,
          7.12170369831885,
          6.350181451761238,
          6.468536670510203,
          6.809695402586358,
          6.585258621604103,
          6.615957531559929,
          6.901965107455995,
          6.759296455536366,
          6.414922713132468,
          6.384686029396522,
          6.744251985018489,
          6.571284716848062,
          6.439040517732341,
          6.4727359876845565,
          5.774193356947312,
          7.222952845472702,
          6.6580087202709235,
          6.158118672555994
         ],
         "yaxis": "y"
        },
        {
         "hovertemplate": "Movie genre=Horror<br>Year=%{x}<br>Weighted rating=%{y}<br>Number of votes=%{marker.size}<extra></extra>",
         "legendgroup": "Horror",
         "marker": {
          "color": "#F6F926",
          "size": [
           1685482,
           1002076,
           1054630,
           580157,
           817878,
           634259,
           740700,
           1604987,
           1037991,
           590306,
           1120166,
           212857,
           1381388,
           228567,
           680948,
           424743,
           1105618,
           1433492,
           1260470,
           1504774,
           2113513,
           1379362,
           2144750,
           1390797,
           2624155,
           2827600,
           2077410,
           5139197,
           2282552,
           3646847,
           2697247,
           2837320,
           2608552,
           3882388,
           2474868,
           2236072,
           3981171,
           4186483,
           4079661,
           4175828,
           2251976,
           2153421,
           2655862,
           361767
          ],
          "sizemode": "area",
          "sizeref": 48663.625,
          "symbol": "circle"
         },
         "mode": "markers",
         "name": "Horror",
         "orientation": "v",
         "showlegend": true,
         "type": "scatter",
         "x": [
          1980,
          1981,
          1982,
          1983,
          1984,
          1985,
          1986,
          1987,
          1988,
          1989,
          1990,
          1991,
          1992,
          1993,
          1994,
          1995,
          1996,
          1997,
          1998,
          1999,
          2000,
          2001,
          2002,
          2003,
          2004,
          2005,
          2006,
          2007,
          2008,
          2009,
          2010,
          2011,
          2012,
          2013,
          2014,
          2015,
          2016,
          2017,
          2018,
          2019,
          2020,
          2021,
          2022,
          2023
         ],
         "xaxis": "x",
         "y": [
          7.54088420997673,
          6.522100818700379,
          7.044348160018205,
          6.298213414644657,
          6.7148685989842,
          6.320471132455354,
          6.3771840151208306,
          6.908697827459039,
          6.108617993797634,
          5.760182684912571,
          6.288681856082045,
          5.195588117844375,
          6.720964928028911,
          5.349336080886567,
          6.9448905055892665,
          5.4406419882140495,
          6.869110217091256,
          6.190604551682186,
          6.261846216093996,
          6.4619220560695485,
          6.653809841718504,
          6.341478306637416,
          6.554679659633989,
          5.885037787685765,
          6.686984915144112,
          6.003754243881737,
          5.878198381638675,
          6.578594943918281,
          6.243023028610081,
          6.249710667872823,
          6.013439369846366,
          6.114215139638813,
          5.7627125317034125,
          6.334438881430707,
          6.118401385447628,
          5.979503432805384,
          6.5040659645114465,
          6.542401724789041,
          6.30499965560864,
          6.265169087424099,
          5.982175653736984,
          5.933765900861931,
          6.165789449903647,
          6.218668922262119
         ],
         "yaxis": "y"
        },
        {
         "hovertemplate": "Movie genre=Mystery<br>Year=%{x}<br>Weighted rating=%{y}<br>Number of votes=%{marker.size}<extra></extra>",
         "legendgroup": "Mystery",
         "marker": {
          "color": "#FF9616",
          "size": [
           390613,
           244736,
           669788,
           129583,
           142172,
           352669,
           527431,
           195469,
           346961,
           411123,
           259516,
           225391,
           494210,
           598101,
           428067,
           3706825,
           929965,
           2934309,
           1467481,
           3333825,
           2670599,
           3220033,
           3362316,
           2130377,
           3342807,
           2147269,
           4501046,
           5309156,
           1865070,
           4841694,
           3385478,
           4670569,
           2741825,
           3813773,
           4392256,
           2456643,
           3308738,
           3637699,
           3036892,
           3060802,
           2156645,
           1925120,
           2077815,
           311774
          ],
          "sizemode": "area",
          "sizeref": 48663.625,
          "symbol": "circle"
         },
         "mode": "markers",
         "name": "Mystery",
         "orientation": "v",
         "showlegend": true,
         "type": "scatter",
         "x": [
          1980,
          1981,
          1982,
          1983,
          1984,
          1985,
          1986,
          1987,
          1988,
          1989,
          1990,
          1991,
          1992,
          1993,
          1994,
          1995,
          1996,
          1997,
          1998,
          1999,
          2000,
          2001,
          2002,
          2003,
          2004,
          2005,
          2006,
          2007,
          2008,
          2009,
          2010,
          2011,
          2012,
          2013,
          2014,
          2015,
          2016,
          2017,
          2018,
          2019,
          2020,
          2021,
          2022,
          2023
         ],
         "xaxis": "x",
         "y": [
          6.479300484110872,
          6.360483132845189,
          7.462358388027256,
          6.474684950958073,
          6.529205469431393,
          6.5423876212539245,
          7.301383688103278,
          6.56216689091365,
          6.920722213735838,
          6.896796822362163,
          6.8607145609519256,
          6.488216033470724,
          7.064643774913499,
          6.734869528725082,
          6.843076434296501,
          8.302191174387785,
          7.16021710494481,
          7.357990177585251,
          6.633849978296141,
          7.211064917924606,
          7.384965507738151,
          7.236315559498924,
          7.051112031111889,
          7.470062857419133,
          6.877698293679534,
          6.520591923974127,
          7.3293066989317595,
          7.124116130699493,
          6.3097421544499666,
          6.939488245229873,
          7.1858298001050365,
          6.925731383049903,
          6.639493585476827,
          7.181837670988807,
          6.844529394461525,
          6.686351008266159,
          6.848239661163864,
          6.969172545611937,
          6.506389492942126,
          6.372195555282569,
          6.474083402692608,
          6.3866393783244675,
          6.514332604202011,
          6.424597945948027
         ],
         "yaxis": "y"
        },
        {
         "hovertemplate": "Movie genre=Romance<br>Year=%{x}<br>Weighted rating=%{y}<br>Number of votes=%{marker.size}<extra></extra>",
         "legendgroup": "Romance",
         "marker": {
          "color": "#479B55",
          "size": [
           266421,
           235142,
           333231,
           284430,
           552487,
           782955,
           450071,
           896715,
           1089247,
           744351,
           1452317,
           601029,
           722274,
           1455616,
           3488911,
           2056465,
           1569514,
           4151209,
           2438281,
           2822926,
           2899817,
           3840452,
           3040571,
           2545882,
           6137968,
           4217135,
           3202088,
           3209256,
           6027724,
           4546671,
           4796731,
           5557204,
           4008043,
           3694360,
           3313100,
           2547421,
           2419278,
           2078701,
           2247774,
           1870642,
           1357128,
           1016904,
           1497665,
           168467
          ],
          "sizemode": "area",
          "sizeref": 48663.625,
          "symbol": "circle"
         },
         "mode": "markers",
         "name": "Romance",
         "orientation": "v",
         "showlegend": true,
         "type": "scatter",
         "x": [
          1980,
          1981,
          1982,
          1983,
          1984,
          1985,
          1986,
          1987,
          1988,
          1989,
          1990,
          1991,
          1992,
          1993,
          1994,
          1995,
          1996,
          1997,
          1998,
          1999,
          2000,
          2001,
          2002,
          2003,
          2004,
          2005,
          2006,
          2007,
          2008,
          2009,
          2010,
          2011,
          2012,
          2013,
          2014,
          2015,
          2016,
          2017,
          2018,
          2019,
          2020,
          2021,
          2022,
          2023
         ],
         "xaxis": "x",
         "y": [
          6.530743072055131,
          6.744336188345765,
          7.138172618994032,
          6.231219983827304,
          6.571825762416129,
          6.77708335728107,
          6.514813218358881,
          6.897798631672271,
          7.114685098972043,
          7.132079758071125,
          7.137367461786924,
          6.629787081821343,
          6.6539017048931575,
          6.892089259804784,
          7.9895823653856475,
          7.023587175079566,
          6.711712734005558,
          7.800613267122904,
          6.9808095129314465,
          6.65546500333342,
          6.904686330206355,
          6.943836350512909,
          6.602319860315711,
          6.794038922463805,
          7.161512344150377,
          6.854165896989306,
          6.478722227496558,
          6.628269542847314,
          6.795209817171456,
          6.795557738837933,
          6.503279274989572,
          6.764809155827283,
          6.8331559067604815,
          7.003773752422612,
          6.704777640276478,
          6.407358658031005,
          6.810764905893411,
          6.749660388867855,
          6.649209484583414,
          6.942833476421464,
          6.136388240460738,
          6.49448404175812,
          5.994524943829227,
          5.951150670457716
         ],
         "yaxis": "y"
        },
        {
         "hovertemplate": "Movie genre=Thriller<br>Year=%{x}<br>Weighted rating=%{y}<br>Number of votes=%{marker.size}<extra></extra>",
         "legendgroup": "Thriller",
         "marker": {
          "color": "#EEA6FB",
          "size": [
           429061,
           513489,
           624949,
           648684,
           407984,
           888794,
           614338,
           1496561,
           1551654,
           941718,
           1478892,
           2425606,
           2621002,
           1359371,
           1117965,
           2597239,
           3331915,
           3389119,
           2294609,
           3234735,
           3762194,
           3723062,
           4321494,
           3583416,
           5165430,
           3626266,
           7085616,
           7421198,
           5247370,
           5454139,
           6758196,
           6263967,
           8405335,
           6747389,
           8632995,
           4587938,
           4701085,
           5170773,
           3954695,
           6074919,
           2979551,
           4425620,
           3653072,
           968269
          ],
          "sizemode": "area",
          "sizeref": 48663.625,
          "symbol": "circle"
         },
         "mode": "markers",
         "name": "Thriller",
         "orientation": "v",
         "showlegend": true,
         "type": "scatter",
         "x": [
          1980,
          1981,
          1982,
          1983,
          1984,
          1985,
          1986,
          1987,
          1988,
          1989,
          1990,
          1991,
          1992,
          1993,
          1994,
          1995,
          1996,
          1997,
          1998,
          1999,
          2000,
          2001,
          2002,
          2003,
          2004,
          2005,
          2006,
          2007,
          2008,
          2009,
          2010,
          2011,
          2012,
          2013,
          2014,
          2015,
          2016,
          2017,
          2018,
          2019,
          2020,
          2021,
          2022,
          2023
         ],
         "xaxis": "x",
         "y": [
          6.27755936801527,
          6.302132470218447,
          7.002932879322952,
          6.317775527067108,
          6.335490362367151,
          6.652209285841264,
          6.547138220328223,
          6.9508096896818765,
          7.370628696861542,
          6.409261583616327,
          7.019767839707024,
          7.9823563266251805,
          7.400801372910056,
          6.74673852833406,
          6.865495789224171,
          7.031301740040097,
          7.066257782686534,
          7.085722926813723,
          6.4549191169388775,
          7.308234986791808,
          7.235848762716649,
          6.9961986665814315,
          6.788493493222482,
          6.778446013524524,
          7.159904886911641,
          6.952152875712924,
          7.171052608552312,
          6.9970932321169705,
          6.7338743599174435,
          6.505171613704748,
          6.981170759178928,
          6.819185972723036,
          7.097769154947423,
          6.601724681947343,
          7.018223999898066,
          6.479332567266602,
          6.714426946119885,
          6.493301949244339,
          6.366210441007461,
          7.116541109437014,
          6.386314011742038,
          6.0368639874187116,
          6.314333415820986,
          6.635105740243672
         ],
         "yaxis": "y"
        }
       ],
       "layout": {
        "height": 600,
        "legend": {
         "itemsizing": "constant",
         "title": {
          "text": "Movie genre"
         },
         "tracegroupgap": 0
        },
        "plot_bgcolor": "white",
        "template": {
         "data": {
          "candlestick": [
           {
            "decreasing": {
             "line": {
              "color": "#000033"
             }
            },
            "increasing": {
             "line": {
              "color": "#000032"
             }
            },
            "type": "candlestick"
           }
          ],
          "contour": [
           {
            "colorscale": [
             [
              0,
              "#000011"
             ],
             [
              0.1111111111111111,
              "#000012"
             ],
             [
              0.2222222222222222,
              "#000013"
             ],
             [
              0.3333333333333333,
              "#000014"
             ],
             [
              0.4444444444444444,
              "#000015"
             ],
             [
              0.5555555555555556,
              "#000016"
             ],
             [
              0.6666666666666666,
              "#000017"
             ],
             [
              0.7777777777777778,
              "#000018"
             ],
             [
              0.8888888888888888,
              "#000019"
             ],
             [
              1,
              "#000020"
             ]
            ],
            "type": "contour"
           }
          ],
          "contourcarpet": [
           {
            "colorscale": [
             [
              0,
              "#000011"
             ],
             [
              0.1111111111111111,
              "#000012"
             ],
             [
              0.2222222222222222,
              "#000013"
             ],
             [
              0.3333333333333333,
              "#000014"
             ],
             [
              0.4444444444444444,
              "#000015"
             ],
             [
              0.5555555555555556,
              "#000016"
             ],
             [
              0.6666666666666666,
              "#000017"
             ],
             [
              0.7777777777777778,
              "#000018"
             ],
             [
              0.8888888888888888,
              "#000019"
             ],
             [
              1,
              "#000020"
             ]
            ],
            "type": "contourcarpet"
           }
          ],
          "heatmap": [
           {
            "colorscale": [
             [
              0,
              "#000011"
             ],
             [
              0.1111111111111111,
              "#000012"
             ],
             [
              0.2222222222222222,
              "#000013"
             ],
             [
              0.3333333333333333,
              "#000014"
             ],
             [
              0.4444444444444444,
              "#000015"
             ],
             [
              0.5555555555555556,
              "#000016"
             ],
             [
              0.6666666666666666,
              "#000017"
             ],
             [
              0.7777777777777778,
              "#000018"
             ],
             [
              0.8888888888888888,
              "#000019"
             ],
             [
              1,
              "#000020"
             ]
            ],
            "type": "heatmap"
           }
          ],
          "histogram2d": [
           {
            "colorscale": [
             [
              0,
              "#000011"
             ],
             [
              0.1111111111111111,
              "#000012"
             ],
             [
              0.2222222222222222,
              "#000013"
             ],
             [
              0.3333333333333333,
              "#000014"
             ],
             [
              0.4444444444444444,
              "#000015"
             ],
             [
              0.5555555555555556,
              "#000016"
             ],
             [
              0.6666666666666666,
              "#000017"
             ],
             [
              0.7777777777777778,
              "#000018"
             ],
             [
              0.8888888888888888,
              "#000019"
             ],
             [
              1,
              "#000020"
             ]
            ],
            "type": "histogram2d"
           }
          ],
          "icicle": [
           {
            "textfont": {
             "color": "white"
            },
            "type": "icicle"
           }
          ],
          "sankey": [
           {
            "textfont": {
             "color": "#000036"
            },
            "type": "sankey"
           }
          ],
          "scatter": [
           {
            "marker": {
             "line": {
              "width": 0
             }
            },
            "type": "scatter"
           }
          ],
          "table": [
           {
            "cells": {
             "fill": {
              "color": "#000038"
             },
             "font": {
              "color": "#000037"
             },
             "line": {
              "color": "#000039"
             }
            },
            "header": {
             "fill": {
              "color": "#000040"
             },
             "font": {
              "color": "#000036"
             },
             "line": {
              "color": "#000039"
             }
            },
            "type": "table"
           }
          ],
          "waterfall": [
           {
            "connector": {
             "line": {
              "color": "#000036",
              "width": 2
             }
            },
            "decreasing": {
             "marker": {
              "color": "#000033"
             }
            },
            "increasing": {
             "marker": {
              "color": "#000032"
             }
            },
            "totals": {
             "marker": {
              "color": "#000034"
             }
            },
            "type": "waterfall"
           }
          ]
         },
         "layout": {
          "coloraxis": {
           "colorscale": [
            [
             0,
             "#000011"
            ],
            [
             0.1111111111111111,
             "#000012"
            ],
            [
             0.2222222222222222,
             "#000013"
            ],
            [
             0.3333333333333333,
             "#000014"
            ],
            [
             0.4444444444444444,
             "#000015"
            ],
            [
             0.5555555555555556,
             "#000016"
            ],
            [
             0.6666666666666666,
             "#000017"
            ],
            [
             0.7777777777777778,
             "#000018"
            ],
            [
             0.8888888888888888,
             "#000019"
            ],
            [
             1,
             "#000020"
            ]
           ]
          },
          "colorscale": {
           "diverging": [
            [
             0,
             "#000021"
            ],
            [
             0.1,
             "#000022"
            ],
            [
             0.2,
             "#000023"
            ],
            [
             0.3,
             "#000024"
            ],
            [
             0.4,
             "#000025"
            ],
            [
             0.5,
             "#000026"
            ],
            [
             0.6,
             "#000027"
            ],
            [
             0.7,
             "#000028"
            ],
            [
             0.8,
             "#000029"
            ],
            [
             0.9,
             "#000030"
            ],
            [
             1,
             "#000031"
            ]
           ],
           "sequential": [
            [
             0,
             "#000011"
            ],
            [
             0.1111111111111111,
             "#000012"
            ],
            [
             0.2222222222222222,
             "#000013"
            ],
            [
             0.3333333333333333,
             "#000014"
            ],
            [
             0.4444444444444444,
             "#000015"
            ],
            [
             0.5555555555555556,
             "#000016"
            ],
            [
             0.6666666666666666,
             "#000017"
            ],
            [
             0.7777777777777778,
             "#000018"
            ],
            [
             0.8888888888888888,
             "#000019"
            ],
            [
             1,
             "#000020"
            ]
           ],
           "sequentialminus": [
            [
             0,
             "#000011"
            ],
            [
             0.1111111111111111,
             "#000012"
            ],
            [
             0.2222222222222222,
             "#000013"
            ],
            [
             0.3333333333333333,
             "#000014"
            ],
            [
             0.4444444444444444,
             "#000015"
            ],
            [
             0.5555555555555556,
             "#000016"
            ],
            [
             0.6666666666666666,
             "#000017"
            ],
            [
             0.7777777777777778,
             "#000018"
            ],
            [
             0.8888888888888888,
             "#000019"
            ],
            [
             1,
             "#000020"
            ]
           ]
          },
          "colorway": [
           "#000001",
           "#000002",
           "#000003",
           "#000004",
           "#000005",
           "#000006",
           "#000007",
           "#000008",
           "#000009",
           "#000010"
          ]
         }
        },
        "title": {
         "font": {
          "size": 24
         },
         "text": "Ratings and number of votes of movies produced per year and genre",
         "x": 0.5,
         "xanchor": "center",
         "y": 0.9,
         "yanchor": "top"
        },
        "width": 1000,
        "xaxis": {
         "anchor": "y",
         "domain": [
          0,
          1
         ],
         "gridcolor": "lightgrey",
         "griddash": "dash",
         "linecolor": "black",
         "linewidth": 2,
         "range": [
          1979,
          2023
         ],
         "showline": true,
         "ticks": "outside",
         "title": {
          "text": "Year"
         }
        },
        "yaxis": {
         "anchor": "x",
         "domain": [
          0,
          1
         ],
         "gridcolor": "lightgrey",
         "griddash": "dash",
         "linecolor": "black",
         "linewidth": 2,
         "showline": true,
         "ticks": "outside",
         "title": {
          "text": "Weighted rating"
         }
        }
       }
      },
      "text/html": [
       "<div>                            <div id=\"aa7e11ab-2916-4ad7-b4aa-591f963c4971\" class=\"plotly-graph-div\" style=\"height:600px; width:1000px;\"></div>            <script type=\"text/javascript\">                require([\"plotly\"], function(Plotly) {                    window.PLOTLYENV=window.PLOTLYENV || {};                                    if (document.getElementById(\"aa7e11ab-2916-4ad7-b4aa-591f963c4971\")) {                    Plotly.newPlot(                        \"aa7e11ab-2916-4ad7-b4aa-591f963c4971\",                        [{\"hovertemplate\":\"Movie genre=Action<br>Year=%{x}<br>Weighted rating=%{y}<br>Number of votes=%{marker.size}<extra></extra>\",\"legendgroup\":\"Action\",\"marker\":{\"color\":\"#FD3216\",\"size\":[1928345,1739174,1728951,1729216,3151588,1389601,2437654,1922830,2276634,2619411,2416070,2574762,2029977,3017557,4042141,4095731,3445478,5962900,4890677,5754798,6040956,7853535,9046287,12172818,9408931,9756175,8291903,10272773,14389494,12316018,14076658,14857132,14201909,15514026,18215907,13377705,14122305,14102914,12515818,11152764,4992581,10005590,8967582,1454698],\"sizemode\":\"area\",\"sizeref\":48663.625,\"symbol\":\"circle\"},\"mode\":\"markers\",\"name\":\"Action\",\"orientation\":\"v\",\"showlegend\":true,\"x\":[1980,1981,1982,1983,1984,1985,1986,1987,1988,1989,1990,1991,1992,1993,1994,1995,1996,1997,1998,1999,2000,2001,2002,2003,2004,2005,2006,2007,2008,2009,2010,2011,2012,2013,2014,2015,2016,2017,2018,2019,2020,2021,2022,2023],\"xaxis\":\"x\",\"y\":[8.114136059678119,7.770792284153282,7.491040983810415,7.486860403789926,7.307730452076858,6.548579772179208,7.093447224257421,6.952081983326659,7.266174975863489,7.083067949245078,6.62033939414007,7.403376972318218,6.58605186167134,7.222486998588593,7.212038570648575,6.792955176987943,6.657197085571291,6.544570460681883,6.71751270836328,7.273475159336608,6.998247843553238,7.093176919692852,7.119381377132961,7.27269790774823,6.9505701444723105,7.012565939007859,6.933985937848043,6.82884808220721,7.173226793103358,6.890457037331385,7.034206968727946,6.776398257752573,7.02754628972767,6.737937902128048,6.921514492800166,6.952684843925023,6.749522942607457,6.984916819318334,6.864813350593625,6.909262026884098,6.182334888507567,6.721149247570608,6.815028610834002,6.6140191297437685],\"yaxis\":\"y\",\"type\":\"scatter\"},{\"hovertemplate\":\"Movie genre=Adventure<br>Year=%{x}<br>Weighted rating=%{y}<br>Number of votes=%{marker.size}<extra></extra>\",\"legendgroup\":\"Adventure\",\"marker\":{\"color\":\"#00FE35\",\"size\":[2129972,1933075,1383609,1683114,1644923,2873917,2516475,1556041,935552,2917302,1732717,1182475,1398628,2006398,2486034,4055447,3018429,4168679,2893899,4117733,6249488,7483080,7430602,7505654,7155253,6993981,7596223,8356218,9305899,10751586,11071422,9625544,10809167,10981340,15448397,12182132,10827484,9471909,10705534,8242074,2779763,7450653,5711767,938854],\"sizemode\":\"area\",\"sizeref\":48663.625,\"symbol\":\"circle\"},\"mode\":\"markers\",\"name\":\"Adventure\",\"orientation\":\"v\",\"showlegend\":true,\"x\":[1980,1981,1982,1983,1984,1985,1986,1987,1988,1989,1990,1991,1992,1993,1994,1995,1996,1997,1998,1999,2000,2001,2002,2003,2004,2005,2006,2007,2008,2009,2010,2011,2012,2013,2014,2015,2016,2017,2018,2019,2020,2021,2022,2023],\"xaxis\":\"x\",\"y\":[7.934840317149709,7.7326483969840805,7.386883288559124,7.555266012878509,6.965191258192633,7.417763769795719,7.531605122244409,7.1193242980101425,6.771998563414968,7.4292327294191685,7.260176935991279,6.6337503964143005,7.173498957549827,7.294906693487533,7.346572170774816,7.128101143967608,6.687445985974824,6.867419463096104,6.705610665748874,6.9047492637332235,7.284776880922085,7.631224575976737,7.209806217585062,7.593827133518278,6.99334424652769,6.745316508580736,6.869423370009016,6.834723687199161,6.823354562519967,7.2009453395992,7.321952356255593,6.647953601375673,6.953073830758652,6.843976591199252,7.332154902544257,7.117549284476643,6.696660636949453,6.905777863786487,7.0268302543338805,6.921083928632526,6.428908291822,7.077654951854556,6.654819165417637,6.583354067831633],\"yaxis\":\"y\",\"type\":\"scatter\"},{\"hovertemplate\":\"Movie genre=Comedy<br>Year=%{x}<br>Weighted rating=%{y}<br>Number of votes=%{marker.size}<extra></extra>\",\"legendgroup\":\"Comedy\",\"marker\":{\"color\":\"#6A76FC\",\"size\":[1170877,663729,1013492,1202433,2186766,3671437,2230947,2960830,3532675,3986516,3354961,2506606,3202917,3730929,4570326,4705619,3785226,4872316,8351979,6787932,6812713,7872739,5910317,8711303,9195922,8073900,9678261,9152273,9266782,10981753,10439978,11303823,10684569,11488251,10987037,8851299,9476824,8579904,7466895,9185310,4908807,5298302,6427013,1204961],\"sizemode\":\"area\",\"sizeref\":48663.625,\"symbol\":\"circle\"},\"mode\":\"markers\",\"name\":\"Comedy\",\"orientation\":\"v\",\"showlegend\":true,\"x\":[1980,1981,1982,1983,1984,1985,1986,1987,1988,1989,1990,1991,1992,1993,1994,1995,1996,1997,1998,1999,2000,2001,2002,2003,2004,2005,2006,2007,2008,2009,2010,2011,2012,2013,2014,2015,2016,2017,2018,2019,2020,2021,2022,2023],\"xaxis\":\"x\",\"y\":[7.088511175810952,6.788464418459944,6.756849684062627,6.9657525200988335,7.0196091397067635,7.474552770481967,6.725235247632508,6.932030309068741,6.9333515537093,7.089849858874265,6.800840456863731,6.660269823019653,6.902338305987947,6.830054927338472,6.680965296567465,6.991620677322155,6.4398290617257725,6.924035386867354,7.211362564489207,6.824108314579463,6.739790961398198,6.887290458886038,6.372318100704243,6.7512720427701804,6.635197177618514,6.449684836324453,6.514281429277429,6.741450763105514,6.415296399548408,6.911532712491349,6.776358666656194,6.69364283216395,6.719721581656687,6.8330462922511,6.920628182102236,6.733886483780516,6.895826186072465,6.966765607167633,6.842270595742943,6.855915064379972,6.526335726786569,6.727843392090523,6.651942838765069,6.462102673862474],\"yaxis\":\"y\",\"type\":\"scatter\"},{\"hovertemplate\":\"Movie genre=Crime<br>Year=%{x}<br>Weighted rating=%{y}<br>Number of votes=%{marker.size}<extra></extra>\",\"legendgroup\":\"Crime\",\"marker\":{\"color\":\"#FED4C4\",\"size\":[315144,375003,371702,1357666,1024068,593411,787374,1780289,1553955,1242307,2953284,2976987,3059949,2388854,5424831,6489154,3049924,3727243,5364349,3455359,4338427,4378304,6446785,5798868,4667346,7059221,5663134,7121670,9185270,4147693,4410032,3879530,4703680,9266683,6553707,5371696,4312819,6026021,4028577,6434158,2359609,4116969,3430881,554881],\"sizemode\":\"area\",\"sizeref\":48663.625,\"symbol\":\"circle\"},\"mode\":\"markers\",\"name\":\"Crime\",\"orientation\":\"v\",\"showlegend\":true,\"x\":[1980,1981,1982,1983,1984,1985,1986,1987,1988,1989,1990,1991,1992,1993,1994,1995,1996,1997,1998,1999,2000,2001,2002,2003,2004,2005,2006,2007,2008,2009,2010,2011,2012,2013,2014,2015,2016,2017,2018,2019,2020,2021,2022,2023],\"xaxis\":\"x\",\"y\":[6.6612694514253805,6.940196211763639,6.854285422193048,7.682074088914358,7.420447079686115,6.8485016287193865,6.860898251656773,7.144554058357941,6.9203082457342715,6.605632826668448,7.548306055225302,7.780969382802143,7.385130471128767,7.2054360375309665,7.9706883956385,7.833097488516993,7.131763873460454,7.067124359747942,7.533994432502434,7.4409618219119915,7.1373932994608404,6.940709416248849,7.396160628902623,7.10010769343258,6.939393908229645,7.137464983742541,7.217910171293846,7.149061708840763,7.652754573354947,6.711701348195249,6.921296738889876,6.835066283802419,6.6950270213960135,7.062687490227086,6.999343623387496,6.953585329475086,6.6669594295517625,6.901934775866198,6.638716847164644,7.313164939375128,6.342763313752405,6.444195159108558,6.872438682659061,6.981946939974517],\"yaxis\":\"y\",\"type\":\"scatter\"},{\"hovertemplate\":\"Movie genre=Drama<br>Year=%{x}<br>Weighted rating=%{y}<br>Number of votes=%{marker.size}<extra></extra>\",\"legendgroup\":\"Drama\",\"marker\":{\"color\":\"#FE00CE\",\"size\":[2523690,1273575,2474375,2179304,2385744,2452622,3150188,3293626,3532085,3117079,4988636,4212381,4219810,7461777,13109615,9982176,5660477,10409688,9939784,12821297,10811135,12216774,14026323,11521382,14238016,13078254,17348288,14857945,17388177,13656576,14366893,16462062,17703300,17826260,19465450,15915123,15587840,15068843,12785124,17224973,7286770,9404300,10268999,1007190],\"sizemode\":\"area\",\"sizeref\":48663.625,\"symbol\":\"circle\"},\"mode\":\"markers\",\"name\":\"Drama\",\"orientation\":\"v\",\"showlegend\":true,\"x\":[1980,1981,1982,1983,1984,1985,1986,1987,1988,1989,1990,1991,1992,1993,1994,1995,1996,1997,1998,1999,2000,2001,2002,2003,2004,2005,2006,2007,2008,2009,2010,2011,2012,2013,2014,2015,2016,2017,2018,2019,2020,2021,2022,2023],\"xaxis\":\"x\",\"y\":[7.80956995510542,7.285750819543411,7.55224777974236,7.443645127068091,7.441191217498608,7.273648813392362,7.3420932972889235,7.418267344258274,7.420373179014661,7.26249103728202,7.518676908878499,7.571085663903621,7.191593673648813,7.639151250432706,8.341492972905765,7.769895521778016,7.021221144437121,7.506147571377739,7.503529634044361,7.717955016563457,7.45635526704643,7.467651100036719,7.494106067570239,7.665056214610366,7.334366677211206,7.261619807965191,7.46021382628649,7.296779971927477,7.330399282224928,7.181918520425619,6.971024256949641,7.107432082323587,7.262007772562177,7.08865451867077,7.28462776355029,7.04148338030438,7.103640356842257,7.051380009732664,6.926439133480442,7.348221120578824,6.577364360340726,6.8746543283391635,6.997869383374173,6.712470040409456],\"yaxis\":\"y\",\"type\":\"scatter\"},{\"hovertemplate\":\"Movie genre=Fantasy<br>Year=%{x}<br>Weighted rating=%{y}<br>Number of votes=%{marker.size}<extra></extra>\",\"legendgroup\":\"Fantasy\",\"marker\":{\"color\":\"#0DF9FF\",\"size\":[1411647,196827,438101,1185567,915998,460756,389360,563018,941274,836159,1024995,1091694,1004678,1628161,766969,759629,814619,525148,1140299,3959599,1259125,2447294,2100410,3058167,2032886,3246223,4140557,3262024,2363275,3837984,3582338,4933075,3466070,3833020,2063740,1398873,3785733,4897406,2410821,2429470,909913,2916475,1807742,51166],\"sizemode\":\"area\",\"sizeref\":48663.625,\"symbol\":\"circle\"},\"mode\":\"markers\",\"name\":\"Fantasy\",\"orientation\":\"v\",\"showlegend\":true,\"x\":[1980,1981,1982,1983,1984,1985,1986,1987,1988,1989,1990,1991,1992,1993,1994,1995,1996,1997,1998,1999,2000,2001,2002,2003,2004,2005,2006,2007,2008,2009,2010,2011,2012,2013,2014,2015,2016,2017,2018,2019,2020,2021,2022,2023],\"xaxis\":\"x\",\"y\":[8.554157661228338,6.899398456512571,6.962177671358887,8.066169014488427,7.1213865095775315,6.3978515743690805,6.828100729402095,6.469255512257156,7.023052054980802,6.677896309194782,7.13711032736745,7.105385758280251,6.842691190610325,7.399205115464625,6.808666321585357,6.594024977982673,6.287787419640348,6.220928385902641,6.916864261040305,7.431932299205045,6.046389437109103,6.71823377166781,6.606545769635452,7.231589445573116,6.769869731996777,6.886231075314296,7.12170369831885,6.350181451761238,6.468536670510203,6.809695402586358,6.585258621604103,6.615957531559929,6.901965107455995,6.759296455536366,6.414922713132468,6.384686029396522,6.744251985018489,6.571284716848062,6.439040517732341,6.4727359876845565,5.774193356947312,7.222952845472702,6.6580087202709235,6.158118672555994],\"yaxis\":\"y\",\"type\":\"scatter\"},{\"hovertemplate\":\"Movie genre=Horror<br>Year=%{x}<br>Weighted rating=%{y}<br>Number of votes=%{marker.size}<extra></extra>\",\"legendgroup\":\"Horror\",\"marker\":{\"color\":\"#F6F926\",\"size\":[1685482,1002076,1054630,580157,817878,634259,740700,1604987,1037991,590306,1120166,212857,1381388,228567,680948,424743,1105618,1433492,1260470,1504774,2113513,1379362,2144750,1390797,2624155,2827600,2077410,5139197,2282552,3646847,2697247,2837320,2608552,3882388,2474868,2236072,3981171,4186483,4079661,4175828,2251976,2153421,2655862,361767],\"sizemode\":\"area\",\"sizeref\":48663.625,\"symbol\":\"circle\"},\"mode\":\"markers\",\"name\":\"Horror\",\"orientation\":\"v\",\"showlegend\":true,\"x\":[1980,1981,1982,1983,1984,1985,1986,1987,1988,1989,1990,1991,1992,1993,1994,1995,1996,1997,1998,1999,2000,2001,2002,2003,2004,2005,2006,2007,2008,2009,2010,2011,2012,2013,2014,2015,2016,2017,2018,2019,2020,2021,2022,2023],\"xaxis\":\"x\",\"y\":[7.54088420997673,6.522100818700379,7.044348160018205,6.298213414644657,6.7148685989842,6.320471132455354,6.3771840151208306,6.908697827459039,6.108617993797634,5.760182684912571,6.288681856082045,5.195588117844375,6.720964928028911,5.349336080886567,6.9448905055892665,5.4406419882140495,6.869110217091256,6.190604551682186,6.261846216093996,6.4619220560695485,6.653809841718504,6.341478306637416,6.554679659633989,5.885037787685765,6.686984915144112,6.003754243881737,5.878198381638675,6.578594943918281,6.243023028610081,6.249710667872823,6.013439369846366,6.114215139638813,5.7627125317034125,6.334438881430707,6.118401385447628,5.979503432805384,6.5040659645114465,6.542401724789041,6.30499965560864,6.265169087424099,5.982175653736984,5.933765900861931,6.165789449903647,6.218668922262119],\"yaxis\":\"y\",\"type\":\"scatter\"},{\"hovertemplate\":\"Movie genre=Mystery<br>Year=%{x}<br>Weighted rating=%{y}<br>Number of votes=%{marker.size}<extra></extra>\",\"legendgroup\":\"Mystery\",\"marker\":{\"color\":\"#FF9616\",\"size\":[390613,244736,669788,129583,142172,352669,527431,195469,346961,411123,259516,225391,494210,598101,428067,3706825,929965,2934309,1467481,3333825,2670599,3220033,3362316,2130377,3342807,2147269,4501046,5309156,1865070,4841694,3385478,4670569,2741825,3813773,4392256,2456643,3308738,3637699,3036892,3060802,2156645,1925120,2077815,311774],\"sizemode\":\"area\",\"sizeref\":48663.625,\"symbol\":\"circle\"},\"mode\":\"markers\",\"name\":\"Mystery\",\"orientation\":\"v\",\"showlegend\":true,\"x\":[1980,1981,1982,1983,1984,1985,1986,1987,1988,1989,1990,1991,1992,1993,1994,1995,1996,1997,1998,1999,2000,2001,2002,2003,2004,2005,2006,2007,2008,2009,2010,2011,2012,2013,2014,2015,2016,2017,2018,2019,2020,2021,2022,2023],\"xaxis\":\"x\",\"y\":[6.479300484110872,6.360483132845189,7.462358388027256,6.474684950958073,6.529205469431393,6.5423876212539245,7.301383688103278,6.56216689091365,6.920722213735838,6.896796822362163,6.8607145609519256,6.488216033470724,7.064643774913499,6.734869528725082,6.843076434296501,8.302191174387785,7.16021710494481,7.357990177585251,6.633849978296141,7.211064917924606,7.384965507738151,7.236315559498924,7.051112031111889,7.470062857419133,6.877698293679534,6.520591923974127,7.3293066989317595,7.124116130699493,6.3097421544499666,6.939488245229873,7.1858298001050365,6.925731383049903,6.639493585476827,7.181837670988807,6.844529394461525,6.686351008266159,6.848239661163864,6.969172545611937,6.506389492942126,6.372195555282569,6.474083402692608,6.3866393783244675,6.514332604202011,6.424597945948027],\"yaxis\":\"y\",\"type\":\"scatter\"},{\"hovertemplate\":\"Movie genre=Romance<br>Year=%{x}<br>Weighted rating=%{y}<br>Number of votes=%{marker.size}<extra></extra>\",\"legendgroup\":\"Romance\",\"marker\":{\"color\":\"#479B55\",\"size\":[266421,235142,333231,284430,552487,782955,450071,896715,1089247,744351,1452317,601029,722274,1455616,3488911,2056465,1569514,4151209,2438281,2822926,2899817,3840452,3040571,2545882,6137968,4217135,3202088,3209256,6027724,4546671,4796731,5557204,4008043,3694360,3313100,2547421,2419278,2078701,2247774,1870642,1357128,1016904,1497665,168467],\"sizemode\":\"area\",\"sizeref\":48663.625,\"symbol\":\"circle\"},\"mode\":\"markers\",\"name\":\"Romance\",\"orientation\":\"v\",\"showlegend\":true,\"x\":[1980,1981,1982,1983,1984,1985,1986,1987,1988,1989,1990,1991,1992,1993,1994,1995,1996,1997,1998,1999,2000,2001,2002,2003,2004,2005,2006,2007,2008,2009,2010,2011,2012,2013,2014,2015,2016,2017,2018,2019,2020,2021,2022,2023],\"xaxis\":\"x\",\"y\":[6.530743072055131,6.744336188345765,7.138172618994032,6.231219983827304,6.571825762416129,6.77708335728107,6.514813218358881,6.897798631672271,7.114685098972043,7.132079758071125,7.137367461786924,6.629787081821343,6.6539017048931575,6.892089259804784,7.9895823653856475,7.023587175079566,6.711712734005558,7.800613267122904,6.9808095129314465,6.65546500333342,6.904686330206355,6.943836350512909,6.602319860315711,6.794038922463805,7.161512344150377,6.854165896989306,6.478722227496558,6.628269542847314,6.795209817171456,6.795557738837933,6.503279274989572,6.764809155827283,6.8331559067604815,7.003773752422612,6.704777640276478,6.407358658031005,6.810764905893411,6.749660388867855,6.649209484583414,6.942833476421464,6.136388240460738,6.49448404175812,5.994524943829227,5.951150670457716],\"yaxis\":\"y\",\"type\":\"scatter\"},{\"hovertemplate\":\"Movie genre=Thriller<br>Year=%{x}<br>Weighted rating=%{y}<br>Number of votes=%{marker.size}<extra></extra>\",\"legendgroup\":\"Thriller\",\"marker\":{\"color\":\"#EEA6FB\",\"size\":[429061,513489,624949,648684,407984,888794,614338,1496561,1551654,941718,1478892,2425606,2621002,1359371,1117965,2597239,3331915,3389119,2294609,3234735,3762194,3723062,4321494,3583416,5165430,3626266,7085616,7421198,5247370,5454139,6758196,6263967,8405335,6747389,8632995,4587938,4701085,5170773,3954695,6074919,2979551,4425620,3653072,968269],\"sizemode\":\"area\",\"sizeref\":48663.625,\"symbol\":\"circle\"},\"mode\":\"markers\",\"name\":\"Thriller\",\"orientation\":\"v\",\"showlegend\":true,\"x\":[1980,1981,1982,1983,1984,1985,1986,1987,1988,1989,1990,1991,1992,1993,1994,1995,1996,1997,1998,1999,2000,2001,2002,2003,2004,2005,2006,2007,2008,2009,2010,2011,2012,2013,2014,2015,2016,2017,2018,2019,2020,2021,2022,2023],\"xaxis\":\"x\",\"y\":[6.27755936801527,6.302132470218447,7.002932879322952,6.317775527067108,6.335490362367151,6.652209285841264,6.547138220328223,6.9508096896818765,7.370628696861542,6.409261583616327,7.019767839707024,7.9823563266251805,7.400801372910056,6.74673852833406,6.865495789224171,7.031301740040097,7.066257782686534,7.085722926813723,6.4549191169388775,7.308234986791808,7.235848762716649,6.9961986665814315,6.788493493222482,6.778446013524524,7.159904886911641,6.952152875712924,7.171052608552312,6.9970932321169705,6.7338743599174435,6.505171613704748,6.981170759178928,6.819185972723036,7.097769154947423,6.601724681947343,7.018223999898066,6.479332567266602,6.714426946119885,6.493301949244339,6.366210441007461,7.116541109437014,6.386314011742038,6.0368639874187116,6.314333415820986,6.635105740243672],\"yaxis\":\"y\",\"type\":\"scatter\"}],                        {\"template\":{\"data\":{\"candlestick\":[{\"decreasing\":{\"line\":{\"color\":\"#000033\"}},\"increasing\":{\"line\":{\"color\":\"#000032\"}},\"type\":\"candlestick\"}],\"contourcarpet\":[{\"colorscale\":[[0.0,\"#000011\"],[0.1111111111111111,\"#000012\"],[0.2222222222222222,\"#000013\"],[0.3333333333333333,\"#000014\"],[0.4444444444444444,\"#000015\"],[0.5555555555555556,\"#000016\"],[0.6666666666666666,\"#000017\"],[0.7777777777777778,\"#000018\"],[0.8888888888888888,\"#000019\"],[1.0,\"#000020\"]],\"type\":\"contourcarpet\"}],\"contour\":[{\"colorscale\":[[0.0,\"#000011\"],[0.1111111111111111,\"#000012\"],[0.2222222222222222,\"#000013\"],[0.3333333333333333,\"#000014\"],[0.4444444444444444,\"#000015\"],[0.5555555555555556,\"#000016\"],[0.6666666666666666,\"#000017\"],[0.7777777777777778,\"#000018\"],[0.8888888888888888,\"#000019\"],[1.0,\"#000020\"]],\"type\":\"contour\"}],\"heatmap\":[{\"colorscale\":[[0.0,\"#000011\"],[0.1111111111111111,\"#000012\"],[0.2222222222222222,\"#000013\"],[0.3333333333333333,\"#000014\"],[0.4444444444444444,\"#000015\"],[0.5555555555555556,\"#000016\"],[0.6666666666666666,\"#000017\"],[0.7777777777777778,\"#000018\"],[0.8888888888888888,\"#000019\"],[1.0,\"#000020\"]],\"type\":\"heatmap\"}],\"histogram2d\":[{\"colorscale\":[[0.0,\"#000011\"],[0.1111111111111111,\"#000012\"],[0.2222222222222222,\"#000013\"],[0.3333333333333333,\"#000014\"],[0.4444444444444444,\"#000015\"],[0.5555555555555556,\"#000016\"],[0.6666666666666666,\"#000017\"],[0.7777777777777778,\"#000018\"],[0.8888888888888888,\"#000019\"],[1.0,\"#000020\"]],\"type\":\"histogram2d\"}],\"icicle\":[{\"textfont\":{\"color\":\"white\"},\"type\":\"icicle\"}],\"sankey\":[{\"textfont\":{\"color\":\"#000036\"},\"type\":\"sankey\"}],\"scatter\":[{\"marker\":{\"line\":{\"width\":0}},\"type\":\"scatter\"}],\"table\":[{\"cells\":{\"fill\":{\"color\":\"#000038\"},\"font\":{\"color\":\"#000037\"},\"line\":{\"color\":\"#000039\"}},\"header\":{\"fill\":{\"color\":\"#000040\"},\"font\":{\"color\":\"#000036\"},\"line\":{\"color\":\"#000039\"}},\"type\":\"table\"}],\"waterfall\":[{\"connector\":{\"line\":{\"color\":\"#000036\",\"width\":2}},\"decreasing\":{\"marker\":{\"color\":\"#000033\"}},\"increasing\":{\"marker\":{\"color\":\"#000032\"}},\"totals\":{\"marker\":{\"color\":\"#000034\"}},\"type\":\"waterfall\"}]},\"layout\":{\"coloraxis\":{\"colorscale\":[[0.0,\"#000011\"],[0.1111111111111111,\"#000012\"],[0.2222222222222222,\"#000013\"],[0.3333333333333333,\"#000014\"],[0.4444444444444444,\"#000015\"],[0.5555555555555556,\"#000016\"],[0.6666666666666666,\"#000017\"],[0.7777777777777778,\"#000018\"],[0.8888888888888888,\"#000019\"],[1.0,\"#000020\"]]},\"colorscale\":{\"diverging\":[[0.0,\"#000021\"],[0.1,\"#000022\"],[0.2,\"#000023\"],[0.3,\"#000024\"],[0.4,\"#000025\"],[0.5,\"#000026\"],[0.6,\"#000027\"],[0.7,\"#000028\"],[0.8,\"#000029\"],[0.9,\"#000030\"],[1.0,\"#000031\"]],\"sequential\":[[0.0,\"#000011\"],[0.1111111111111111,\"#000012\"],[0.2222222222222222,\"#000013\"],[0.3333333333333333,\"#000014\"],[0.4444444444444444,\"#000015\"],[0.5555555555555556,\"#000016\"],[0.6666666666666666,\"#000017\"],[0.7777777777777778,\"#000018\"],[0.8888888888888888,\"#000019\"],[1.0,\"#000020\"]],\"sequentialminus\":[[0.0,\"#000011\"],[0.1111111111111111,\"#000012\"],[0.2222222222222222,\"#000013\"],[0.3333333333333333,\"#000014\"],[0.4444444444444444,\"#000015\"],[0.5555555555555556,\"#000016\"],[0.6666666666666666,\"#000017\"],[0.7777777777777778,\"#000018\"],[0.8888888888888888,\"#000019\"],[1.0,\"#000020\"]]},\"colorway\":[\"#000001\",\"#000002\",\"#000003\",\"#000004\",\"#000005\",\"#000006\",\"#000007\",\"#000008\",\"#000009\",\"#000010\"]}},\"xaxis\":{\"anchor\":\"y\",\"domain\":[0.0,1.0],\"title\":{\"text\":\"Year\"},\"ticks\":\"outside\",\"showline\":true,\"linecolor\":\"black\",\"linewidth\":2,\"gridcolor\":\"lightgrey\",\"griddash\":\"dash\",\"range\":[1979,2023]},\"yaxis\":{\"anchor\":\"x\",\"domain\":[0.0,1.0],\"title\":{\"text\":\"Weighted rating\"},\"ticks\":\"outside\",\"showline\":true,\"linecolor\":\"black\",\"linewidth\":2,\"gridcolor\":\"lightgrey\",\"griddash\":\"dash\"},\"legend\":{\"title\":{\"text\":\"Movie genre\"},\"tracegroupgap\":0,\"itemsizing\":\"constant\"},\"title\":{\"text\":\"Ratings and number of votes of movies produced per year and genre\",\"font\":{\"size\":24},\"y\":0.9,\"x\":0.5,\"xanchor\":\"center\",\"yanchor\":\"top\"},\"height\":600,\"width\":1000,\"plot_bgcolor\":\"white\"},                        {\"responsive\": true}                    ).then(function(){\n",
       "                            \n",
       "var gd = document.getElementById('aa7e11ab-2916-4ad7-b4aa-591f963c4971');\n",
       "var x = new MutationObserver(function (mutations, observer) {{\n",
       "        var display = window.getComputedStyle(gd).display;\n",
       "        if (!display || display === 'none') {{\n",
       "            console.log([gd, 'removed!']);\n",
       "            Plotly.purge(gd);\n",
       "            observer.disconnect();\n",
       "        }}\n",
       "}});\n",
       "\n",
       "// Listen for the removal of the full notebook cells\n",
       "var notebookContainer = gd.closest('#notebook-container');\n",
       "if (notebookContainer) {{\n",
       "    x.observe(notebookContainer, {childList: true});\n",
       "}}\n",
       "\n",
       "// Listen for the clearing of the current output cell\n",
       "var outputEl = gd.closest('.output');\n",
       "if (outputEl) {{\n",
       "    x.observe(outputEl, {childList: true});\n",
       "}}\n",
       "\n",
       "                        })                };                });            </script>        </div>"
      ]
     },
     "metadata": {},
     "output_type": "display_data"
    }
   ],
   "source": [
    "#color_list = ['rgb(204, 0, 0)', 'rgb(153, 0, 0)', 'rgb(102, 0, 0)', 'rgb(51, 0, 0)',\n",
    "#              'rgb(204, 204, 0)', 'rgb(153, 153, 0)', 'rgb(102, 102, 0)', 'rgb(51, 51, 0)']\n",
    "fig = px.scatter(data_frame = df_group_years_genres_to_plot, x = \"startYear\", y = \"weighted_rating\",\n",
    "                 size = \"numVotes\", color = \"genres\", color_discrete_sequence = px.colors.qualitative.Light24,\n",
    "                 width = 1000, height = 600,\n",
    "                 labels = {\"startYear\": \"Year\", \"weighted_rating\": \"Weighted rating\", \"genres\": \"Movie genre\",\n",
    "                          \"numVotes\": \"Number of votes\"},\n",
    "                 title = \"Ratings and number of votes of movies produced per year and genre\")\n",
    "\n",
    "fig.update_layout(title = {'y': 0.9, 'x': 0.5, 'xanchor': 'center', 'yanchor': 'top',\n",
    "                           'font' : dict(size = 24)},\n",
    "                 plot_bgcolor = 'white')\n",
    "\n",
    "fig.update_xaxes(ticks = 'outside', showline = True, linecolor = 'black', linewidth = 2,\n",
    "                 gridcolor = 'lightgrey', griddash = 'dash',\n",
    "                 range=[1979, 2023])\n",
    "fig.update_yaxes(ticks = 'outside', showline = True, linecolor = 'black', linewidth = 2,\n",
    "                 gridcolor = 'lightgrey', griddash = 'dash')\n",
    "\n",
    "fig.show()"
   ]
  },
  {
   "cell_type": "markdown",
   "id": "b259eef0",
   "metadata": {},
   "source": [
    "## Scatter plot de la moyenne pondérée (y) par année (x) et par genre (catégorie)"
   ]
  },
  {
   "cell_type": "code",
   "execution_count": 18,
   "id": "251a21b7",
   "metadata": {},
   "outputs": [
    {
     "data": {
      "application/vnd.plotly.v1+json": {
       "config": {
        "plotlyServerURL": "https://plot.ly"
       },
       "data": [
        {
         "hovertemplate": "Movie genre=Action<br>Year=%{x}<br>Weighted rating=%{y}<extra></extra>",
         "legendgroup": "Action",
         "marker": {
          "color": "#FD3216",
          "symbol": "circle"
         },
         "mode": "markers",
         "name": "Action",
         "orientation": "v",
         "showlegend": true,
         "type": "scatter",
         "x": [
          1980,
          1981,
          1982,
          1983,
          1984,
          1985,
          1986,
          1987,
          1988,
          1989,
          1990,
          1991,
          1992,
          1993,
          1994,
          1995,
          1996,
          1997,
          1998,
          1999,
          2000,
          2001,
          2002,
          2003,
          2004,
          2005,
          2006,
          2007,
          2008,
          2009,
          2010,
          2011,
          2012,
          2013,
          2014,
          2015,
          2016,
          2017,
          2018,
          2019,
          2020,
          2021,
          2022,
          2023
         ],
         "xaxis": "x",
         "y": [
          8.114136059678119,
          7.770792284153282,
          7.491040983810415,
          7.486860403789926,
          7.307730452076858,
          6.548579772179208,
          7.093447224257421,
          6.952081983326659,
          7.266174975863489,
          7.083067949245078,
          6.62033939414007,
          7.403376972318218,
          6.58605186167134,
          7.222486998588593,
          7.212038570648575,
          6.792955176987943,
          6.657197085571291,
          6.544570460681883,
          6.71751270836328,
          7.273475159336608,
          6.998247843553238,
          7.093176919692852,
          7.119381377132961,
          7.27269790774823,
          6.9505701444723105,
          7.012565939007859,
          6.933985937848043,
          6.82884808220721,
          7.173226793103358,
          6.890457037331385,
          7.034206968727946,
          6.776398257752573,
          7.02754628972767,
          6.737937902128048,
          6.921514492800166,
          6.952684843925023,
          6.749522942607457,
          6.984916819318334,
          6.864813350593625,
          6.909262026884098,
          6.182334888507567,
          6.721149247570608,
          6.815028610834002,
          6.6140191297437685
         ],
         "yaxis": "y"
        },
        {
         "hovertemplate": "Movie genre=Adventure<br>Year=%{x}<br>Weighted rating=%{y}<extra></extra>",
         "legendgroup": "Adventure",
         "marker": {
          "color": "#00FE35",
          "symbol": "circle"
         },
         "mode": "markers",
         "name": "Adventure",
         "orientation": "v",
         "showlegend": true,
         "type": "scatter",
         "x": [
          1980,
          1981,
          1982,
          1983,
          1984,
          1985,
          1986,
          1987,
          1988,
          1989,
          1990,
          1991,
          1992,
          1993,
          1994,
          1995,
          1996,
          1997,
          1998,
          1999,
          2000,
          2001,
          2002,
          2003,
          2004,
          2005,
          2006,
          2007,
          2008,
          2009,
          2010,
          2011,
          2012,
          2013,
          2014,
          2015,
          2016,
          2017,
          2018,
          2019,
          2020,
          2021,
          2022,
          2023
         ],
         "xaxis": "x",
         "y": [
          7.934840317149709,
          7.7326483969840805,
          7.386883288559124,
          7.555266012878509,
          6.965191258192633,
          7.417763769795719,
          7.531605122244409,
          7.1193242980101425,
          6.771998563414968,
          7.4292327294191685,
          7.260176935991279,
          6.6337503964143005,
          7.173498957549827,
          7.294906693487533,
          7.346572170774816,
          7.128101143967608,
          6.687445985974824,
          6.867419463096104,
          6.705610665748874,
          6.9047492637332235,
          7.284776880922085,
          7.631224575976737,
          7.209806217585062,
          7.593827133518278,
          6.99334424652769,
          6.745316508580736,
          6.869423370009016,
          6.834723687199161,
          6.823354562519967,
          7.2009453395992,
          7.321952356255593,
          6.647953601375673,
          6.953073830758652,
          6.843976591199252,
          7.332154902544257,
          7.117549284476643,
          6.696660636949453,
          6.905777863786487,
          7.0268302543338805,
          6.921083928632526,
          6.428908291822,
          7.077654951854556,
          6.654819165417637,
          6.583354067831633
         ],
         "yaxis": "y"
        },
        {
         "hovertemplate": "Movie genre=Comedy<br>Year=%{x}<br>Weighted rating=%{y}<extra></extra>",
         "legendgroup": "Comedy",
         "marker": {
          "color": "#6A76FC",
          "symbol": "circle"
         },
         "mode": "markers",
         "name": "Comedy",
         "orientation": "v",
         "showlegend": true,
         "type": "scatter",
         "x": [
          1980,
          1981,
          1982,
          1983,
          1984,
          1985,
          1986,
          1987,
          1988,
          1989,
          1990,
          1991,
          1992,
          1993,
          1994,
          1995,
          1996,
          1997,
          1998,
          1999,
          2000,
          2001,
          2002,
          2003,
          2004,
          2005,
          2006,
          2007,
          2008,
          2009,
          2010,
          2011,
          2012,
          2013,
          2014,
          2015,
          2016,
          2017,
          2018,
          2019,
          2020,
          2021,
          2022,
          2023
         ],
         "xaxis": "x",
         "y": [
          7.088511175810952,
          6.788464418459944,
          6.756849684062627,
          6.9657525200988335,
          7.0196091397067635,
          7.474552770481967,
          6.725235247632508,
          6.932030309068741,
          6.9333515537093,
          7.089849858874265,
          6.800840456863731,
          6.660269823019653,
          6.902338305987947,
          6.830054927338472,
          6.680965296567465,
          6.991620677322155,
          6.4398290617257725,
          6.924035386867354,
          7.211362564489207,
          6.824108314579463,
          6.739790961398198,
          6.887290458886038,
          6.372318100704243,
          6.7512720427701804,
          6.635197177618514,
          6.449684836324453,
          6.514281429277429,
          6.741450763105514,
          6.415296399548408,
          6.911532712491349,
          6.776358666656194,
          6.69364283216395,
          6.719721581656687,
          6.8330462922511,
          6.920628182102236,
          6.733886483780516,
          6.895826186072465,
          6.966765607167633,
          6.842270595742943,
          6.855915064379972,
          6.526335726786569,
          6.727843392090523,
          6.651942838765069,
          6.462102673862474
         ],
         "yaxis": "y"
        },
        {
         "hovertemplate": "Movie genre=Crime<br>Year=%{x}<br>Weighted rating=%{y}<extra></extra>",
         "legendgroup": "Crime",
         "marker": {
          "color": "#FED4C4",
          "symbol": "circle"
         },
         "mode": "markers",
         "name": "Crime",
         "orientation": "v",
         "showlegend": true,
         "type": "scatter",
         "x": [
          1980,
          1981,
          1982,
          1983,
          1984,
          1985,
          1986,
          1987,
          1988,
          1989,
          1990,
          1991,
          1992,
          1993,
          1994,
          1995,
          1996,
          1997,
          1998,
          1999,
          2000,
          2001,
          2002,
          2003,
          2004,
          2005,
          2006,
          2007,
          2008,
          2009,
          2010,
          2011,
          2012,
          2013,
          2014,
          2015,
          2016,
          2017,
          2018,
          2019,
          2020,
          2021,
          2022,
          2023
         ],
         "xaxis": "x",
         "y": [
          6.6612694514253805,
          6.940196211763639,
          6.854285422193048,
          7.682074088914358,
          7.420447079686115,
          6.8485016287193865,
          6.860898251656773,
          7.144554058357941,
          6.9203082457342715,
          6.605632826668448,
          7.548306055225302,
          7.780969382802143,
          7.385130471128767,
          7.2054360375309665,
          7.9706883956385,
          7.833097488516993,
          7.131763873460454,
          7.067124359747942,
          7.533994432502434,
          7.4409618219119915,
          7.1373932994608404,
          6.940709416248849,
          7.396160628902623,
          7.10010769343258,
          6.939393908229645,
          7.137464983742541,
          7.217910171293846,
          7.149061708840763,
          7.652754573354947,
          6.711701348195249,
          6.921296738889876,
          6.835066283802419,
          6.6950270213960135,
          7.062687490227086,
          6.999343623387496,
          6.953585329475086,
          6.6669594295517625,
          6.901934775866198,
          6.638716847164644,
          7.313164939375128,
          6.342763313752405,
          6.444195159108558,
          6.872438682659061,
          6.981946939974517
         ],
         "yaxis": "y"
        },
        {
         "hovertemplate": "Movie genre=Drama<br>Year=%{x}<br>Weighted rating=%{y}<extra></extra>",
         "legendgroup": "Drama",
         "marker": {
          "color": "#FE00CE",
          "symbol": "circle"
         },
         "mode": "markers",
         "name": "Drama",
         "orientation": "v",
         "showlegend": true,
         "type": "scatter",
         "x": [
          1980,
          1981,
          1982,
          1983,
          1984,
          1985,
          1986,
          1987,
          1988,
          1989,
          1990,
          1991,
          1992,
          1993,
          1994,
          1995,
          1996,
          1997,
          1998,
          1999,
          2000,
          2001,
          2002,
          2003,
          2004,
          2005,
          2006,
          2007,
          2008,
          2009,
          2010,
          2011,
          2012,
          2013,
          2014,
          2015,
          2016,
          2017,
          2018,
          2019,
          2020,
          2021,
          2022,
          2023
         ],
         "xaxis": "x",
         "y": [
          7.80956995510542,
          7.285750819543411,
          7.55224777974236,
          7.443645127068091,
          7.441191217498608,
          7.273648813392362,
          7.3420932972889235,
          7.418267344258274,
          7.420373179014661,
          7.26249103728202,
          7.518676908878499,
          7.571085663903621,
          7.191593673648813,
          7.639151250432706,
          8.341492972905765,
          7.769895521778016,
          7.021221144437121,
          7.506147571377739,
          7.503529634044361,
          7.717955016563457,
          7.45635526704643,
          7.467651100036719,
          7.494106067570239,
          7.665056214610366,
          7.334366677211206,
          7.261619807965191,
          7.46021382628649,
          7.296779971927477,
          7.330399282224928,
          7.181918520425619,
          6.971024256949641,
          7.107432082323587,
          7.262007772562177,
          7.08865451867077,
          7.28462776355029,
          7.04148338030438,
          7.103640356842257,
          7.051380009732664,
          6.926439133480442,
          7.348221120578824,
          6.577364360340726,
          6.8746543283391635,
          6.997869383374173,
          6.712470040409456
         ],
         "yaxis": "y"
        },
        {
         "hovertemplate": "Movie genre=Fantasy<br>Year=%{x}<br>Weighted rating=%{y}<extra></extra>",
         "legendgroup": "Fantasy",
         "marker": {
          "color": "#0DF9FF",
          "symbol": "circle"
         },
         "mode": "markers",
         "name": "Fantasy",
         "orientation": "v",
         "showlegend": true,
         "type": "scatter",
         "x": [
          1980,
          1981,
          1982,
          1983,
          1984,
          1985,
          1986,
          1987,
          1988,
          1989,
          1990,
          1991,
          1992,
          1993,
          1994,
          1995,
          1996,
          1997,
          1998,
          1999,
          2000,
          2001,
          2002,
          2003,
          2004,
          2005,
          2006,
          2007,
          2008,
          2009,
          2010,
          2011,
          2012,
          2013,
          2014,
          2015,
          2016,
          2017,
          2018,
          2019,
          2020,
          2021,
          2022,
          2023
         ],
         "xaxis": "x",
         "y": [
          8.554157661228338,
          6.899398456512571,
          6.962177671358887,
          8.066169014488427,
          7.1213865095775315,
          6.3978515743690805,
          6.828100729402095,
          6.469255512257156,
          7.023052054980802,
          6.677896309194782,
          7.13711032736745,
          7.105385758280251,
          6.842691190610325,
          7.399205115464625,
          6.808666321585357,
          6.594024977982673,
          6.287787419640348,
          6.220928385902641,
          6.916864261040305,
          7.431932299205045,
          6.046389437109103,
          6.71823377166781,
          6.606545769635452,
          7.231589445573116,
          6.769869731996777,
          6.886231075314296,
          7.12170369831885,
          6.350181451761238,
          6.468536670510203,
          6.809695402586358,
          6.585258621604103,
          6.615957531559929,
          6.901965107455995,
          6.759296455536366,
          6.414922713132468,
          6.384686029396522,
          6.744251985018489,
          6.571284716848062,
          6.439040517732341,
          6.4727359876845565,
          5.774193356947312,
          7.222952845472702,
          6.6580087202709235,
          6.158118672555994
         ],
         "yaxis": "y"
        },
        {
         "hovertemplate": "Movie genre=Horror<br>Year=%{x}<br>Weighted rating=%{y}<extra></extra>",
         "legendgroup": "Horror",
         "marker": {
          "color": "#F6F926",
          "symbol": "circle"
         },
         "mode": "markers",
         "name": "Horror",
         "orientation": "v",
         "showlegend": true,
         "type": "scatter",
         "x": [
          1980,
          1981,
          1982,
          1983,
          1984,
          1985,
          1986,
          1987,
          1988,
          1989,
          1990,
          1991,
          1992,
          1993,
          1994,
          1995,
          1996,
          1997,
          1998,
          1999,
          2000,
          2001,
          2002,
          2003,
          2004,
          2005,
          2006,
          2007,
          2008,
          2009,
          2010,
          2011,
          2012,
          2013,
          2014,
          2015,
          2016,
          2017,
          2018,
          2019,
          2020,
          2021,
          2022,
          2023
         ],
         "xaxis": "x",
         "y": [
          7.54088420997673,
          6.522100818700379,
          7.044348160018205,
          6.298213414644657,
          6.7148685989842,
          6.320471132455354,
          6.3771840151208306,
          6.908697827459039,
          6.108617993797634,
          5.760182684912571,
          6.288681856082045,
          5.195588117844375,
          6.720964928028911,
          5.349336080886567,
          6.9448905055892665,
          5.4406419882140495,
          6.869110217091256,
          6.190604551682186,
          6.261846216093996,
          6.4619220560695485,
          6.653809841718504,
          6.341478306637416,
          6.554679659633989,
          5.885037787685765,
          6.686984915144112,
          6.003754243881737,
          5.878198381638675,
          6.578594943918281,
          6.243023028610081,
          6.249710667872823,
          6.013439369846366,
          6.114215139638813,
          5.7627125317034125,
          6.334438881430707,
          6.118401385447628,
          5.979503432805384,
          6.5040659645114465,
          6.542401724789041,
          6.30499965560864,
          6.265169087424099,
          5.982175653736984,
          5.933765900861931,
          6.165789449903647,
          6.218668922262119
         ],
         "yaxis": "y"
        },
        {
         "hovertemplate": "Movie genre=Mystery<br>Year=%{x}<br>Weighted rating=%{y}<extra></extra>",
         "legendgroup": "Mystery",
         "marker": {
          "color": "#FF9616",
          "symbol": "circle"
         },
         "mode": "markers",
         "name": "Mystery",
         "orientation": "v",
         "showlegend": true,
         "type": "scatter",
         "x": [
          1980,
          1981,
          1982,
          1983,
          1984,
          1985,
          1986,
          1987,
          1988,
          1989,
          1990,
          1991,
          1992,
          1993,
          1994,
          1995,
          1996,
          1997,
          1998,
          1999,
          2000,
          2001,
          2002,
          2003,
          2004,
          2005,
          2006,
          2007,
          2008,
          2009,
          2010,
          2011,
          2012,
          2013,
          2014,
          2015,
          2016,
          2017,
          2018,
          2019,
          2020,
          2021,
          2022,
          2023
         ],
         "xaxis": "x",
         "y": [
          6.479300484110872,
          6.360483132845189,
          7.462358388027256,
          6.474684950958073,
          6.529205469431393,
          6.5423876212539245,
          7.301383688103278,
          6.56216689091365,
          6.920722213735838,
          6.896796822362163,
          6.8607145609519256,
          6.488216033470724,
          7.064643774913499,
          6.734869528725082,
          6.843076434296501,
          8.302191174387785,
          7.16021710494481,
          7.357990177585251,
          6.633849978296141,
          7.211064917924606,
          7.384965507738151,
          7.236315559498924,
          7.051112031111889,
          7.470062857419133,
          6.877698293679534,
          6.520591923974127,
          7.3293066989317595,
          7.124116130699493,
          6.3097421544499666,
          6.939488245229873,
          7.1858298001050365,
          6.925731383049903,
          6.639493585476827,
          7.181837670988807,
          6.844529394461525,
          6.686351008266159,
          6.848239661163864,
          6.969172545611937,
          6.506389492942126,
          6.372195555282569,
          6.474083402692608,
          6.3866393783244675,
          6.514332604202011,
          6.424597945948027
         ],
         "yaxis": "y"
        },
        {
         "hovertemplate": "Movie genre=Romance<br>Year=%{x}<br>Weighted rating=%{y}<extra></extra>",
         "legendgroup": "Romance",
         "marker": {
          "color": "#479B55",
          "symbol": "circle"
         },
         "mode": "markers",
         "name": "Romance",
         "orientation": "v",
         "showlegend": true,
         "type": "scatter",
         "x": [
          1980,
          1981,
          1982,
          1983,
          1984,
          1985,
          1986,
          1987,
          1988,
          1989,
          1990,
          1991,
          1992,
          1993,
          1994,
          1995,
          1996,
          1997,
          1998,
          1999,
          2000,
          2001,
          2002,
          2003,
          2004,
          2005,
          2006,
          2007,
          2008,
          2009,
          2010,
          2011,
          2012,
          2013,
          2014,
          2015,
          2016,
          2017,
          2018,
          2019,
          2020,
          2021,
          2022,
          2023
         ],
         "xaxis": "x",
         "y": [
          6.530743072055131,
          6.744336188345765,
          7.138172618994032,
          6.231219983827304,
          6.571825762416129,
          6.77708335728107,
          6.514813218358881,
          6.897798631672271,
          7.114685098972043,
          7.132079758071125,
          7.137367461786924,
          6.629787081821343,
          6.6539017048931575,
          6.892089259804784,
          7.9895823653856475,
          7.023587175079566,
          6.711712734005558,
          7.800613267122904,
          6.9808095129314465,
          6.65546500333342,
          6.904686330206355,
          6.943836350512909,
          6.602319860315711,
          6.794038922463805,
          7.161512344150377,
          6.854165896989306,
          6.478722227496558,
          6.628269542847314,
          6.795209817171456,
          6.795557738837933,
          6.503279274989572,
          6.764809155827283,
          6.8331559067604815,
          7.003773752422612,
          6.704777640276478,
          6.407358658031005,
          6.810764905893411,
          6.749660388867855,
          6.649209484583414,
          6.942833476421464,
          6.136388240460738,
          6.49448404175812,
          5.994524943829227,
          5.951150670457716
         ],
         "yaxis": "y"
        },
        {
         "hovertemplate": "Movie genre=Thriller<br>Year=%{x}<br>Weighted rating=%{y}<extra></extra>",
         "legendgroup": "Thriller",
         "marker": {
          "color": "#EEA6FB",
          "symbol": "circle"
         },
         "mode": "markers",
         "name": "Thriller",
         "orientation": "v",
         "showlegend": true,
         "type": "scatter",
         "x": [
          1980,
          1981,
          1982,
          1983,
          1984,
          1985,
          1986,
          1987,
          1988,
          1989,
          1990,
          1991,
          1992,
          1993,
          1994,
          1995,
          1996,
          1997,
          1998,
          1999,
          2000,
          2001,
          2002,
          2003,
          2004,
          2005,
          2006,
          2007,
          2008,
          2009,
          2010,
          2011,
          2012,
          2013,
          2014,
          2015,
          2016,
          2017,
          2018,
          2019,
          2020,
          2021,
          2022,
          2023
         ],
         "xaxis": "x",
         "y": [
          6.27755936801527,
          6.302132470218447,
          7.002932879322952,
          6.317775527067108,
          6.335490362367151,
          6.652209285841264,
          6.547138220328223,
          6.9508096896818765,
          7.370628696861542,
          6.409261583616327,
          7.019767839707024,
          7.9823563266251805,
          7.400801372910056,
          6.74673852833406,
          6.865495789224171,
          7.031301740040097,
          7.066257782686534,
          7.085722926813723,
          6.4549191169388775,
          7.308234986791808,
          7.235848762716649,
          6.9961986665814315,
          6.788493493222482,
          6.778446013524524,
          7.159904886911641,
          6.952152875712924,
          7.171052608552312,
          6.9970932321169705,
          6.7338743599174435,
          6.505171613704748,
          6.981170759178928,
          6.819185972723036,
          7.097769154947423,
          6.601724681947343,
          7.018223999898066,
          6.479332567266602,
          6.714426946119885,
          6.493301949244339,
          6.366210441007461,
          7.116541109437014,
          6.386314011742038,
          6.0368639874187116,
          6.314333415820986,
          6.635105740243672
         ],
         "yaxis": "y"
        }
       ],
       "layout": {
        "legend": {
         "title": {
          "text": "Movie genre"
         },
         "tracegroupgap": 0
        },
        "plot_bgcolor": "white",
        "template": {
         "data": {
          "candlestick": [
           {
            "decreasing": {
             "line": {
              "color": "#000033"
             }
            },
            "increasing": {
             "line": {
              "color": "#000032"
             }
            },
            "type": "candlestick"
           }
          ],
          "contour": [
           {
            "colorscale": [
             [
              0,
              "#000011"
             ],
             [
              0.1111111111111111,
              "#000012"
             ],
             [
              0.2222222222222222,
              "#000013"
             ],
             [
              0.3333333333333333,
              "#000014"
             ],
             [
              0.4444444444444444,
              "#000015"
             ],
             [
              0.5555555555555556,
              "#000016"
             ],
             [
              0.6666666666666666,
              "#000017"
             ],
             [
              0.7777777777777778,
              "#000018"
             ],
             [
              0.8888888888888888,
              "#000019"
             ],
             [
              1,
              "#000020"
             ]
            ],
            "type": "contour"
           }
          ],
          "contourcarpet": [
           {
            "colorscale": [
             [
              0,
              "#000011"
             ],
             [
              0.1111111111111111,
              "#000012"
             ],
             [
              0.2222222222222222,
              "#000013"
             ],
             [
              0.3333333333333333,
              "#000014"
             ],
             [
              0.4444444444444444,
              "#000015"
             ],
             [
              0.5555555555555556,
              "#000016"
             ],
             [
              0.6666666666666666,
              "#000017"
             ],
             [
              0.7777777777777778,
              "#000018"
             ],
             [
              0.8888888888888888,
              "#000019"
             ],
             [
              1,
              "#000020"
             ]
            ],
            "type": "contourcarpet"
           }
          ],
          "heatmap": [
           {
            "colorscale": [
             [
              0,
              "#000011"
             ],
             [
              0.1111111111111111,
              "#000012"
             ],
             [
              0.2222222222222222,
              "#000013"
             ],
             [
              0.3333333333333333,
              "#000014"
             ],
             [
              0.4444444444444444,
              "#000015"
             ],
             [
              0.5555555555555556,
              "#000016"
             ],
             [
              0.6666666666666666,
              "#000017"
             ],
             [
              0.7777777777777778,
              "#000018"
             ],
             [
              0.8888888888888888,
              "#000019"
             ],
             [
              1,
              "#000020"
             ]
            ],
            "type": "heatmap"
           }
          ],
          "histogram2d": [
           {
            "colorscale": [
             [
              0,
              "#000011"
             ],
             [
              0.1111111111111111,
              "#000012"
             ],
             [
              0.2222222222222222,
              "#000013"
             ],
             [
              0.3333333333333333,
              "#000014"
             ],
             [
              0.4444444444444444,
              "#000015"
             ],
             [
              0.5555555555555556,
              "#000016"
             ],
             [
              0.6666666666666666,
              "#000017"
             ],
             [
              0.7777777777777778,
              "#000018"
             ],
             [
              0.8888888888888888,
              "#000019"
             ],
             [
              1,
              "#000020"
             ]
            ],
            "type": "histogram2d"
           }
          ],
          "icicle": [
           {
            "textfont": {
             "color": "white"
            },
            "type": "icicle"
           }
          ],
          "sankey": [
           {
            "textfont": {
             "color": "#000036"
            },
            "type": "sankey"
           }
          ],
          "scatter": [
           {
            "marker": {
             "line": {
              "width": 0
             }
            },
            "type": "scatter"
           }
          ],
          "table": [
           {
            "cells": {
             "fill": {
              "color": "#000038"
             },
             "font": {
              "color": "#000037"
             },
             "line": {
              "color": "#000039"
             }
            },
            "header": {
             "fill": {
              "color": "#000040"
             },
             "font": {
              "color": "#000036"
             },
             "line": {
              "color": "#000039"
             }
            },
            "type": "table"
           }
          ],
          "waterfall": [
           {
            "connector": {
             "line": {
              "color": "#000036",
              "width": 2
             }
            },
            "decreasing": {
             "marker": {
              "color": "#000033"
             }
            },
            "increasing": {
             "marker": {
              "color": "#000032"
             }
            },
            "totals": {
             "marker": {
              "color": "#000034"
             }
            },
            "type": "waterfall"
           }
          ]
         },
         "layout": {
          "coloraxis": {
           "colorscale": [
            [
             0,
             "#000011"
            ],
            [
             0.1111111111111111,
             "#000012"
            ],
            [
             0.2222222222222222,
             "#000013"
            ],
            [
             0.3333333333333333,
             "#000014"
            ],
            [
             0.4444444444444444,
             "#000015"
            ],
            [
             0.5555555555555556,
             "#000016"
            ],
            [
             0.6666666666666666,
             "#000017"
            ],
            [
             0.7777777777777778,
             "#000018"
            ],
            [
             0.8888888888888888,
             "#000019"
            ],
            [
             1,
             "#000020"
            ]
           ]
          },
          "colorscale": {
           "diverging": [
            [
             0,
             "#000021"
            ],
            [
             0.1,
             "#000022"
            ],
            [
             0.2,
             "#000023"
            ],
            [
             0.3,
             "#000024"
            ],
            [
             0.4,
             "#000025"
            ],
            [
             0.5,
             "#000026"
            ],
            [
             0.6,
             "#000027"
            ],
            [
             0.7,
             "#000028"
            ],
            [
             0.8,
             "#000029"
            ],
            [
             0.9,
             "#000030"
            ],
            [
             1,
             "#000031"
            ]
           ],
           "sequential": [
            [
             0,
             "#000011"
            ],
            [
             0.1111111111111111,
             "#000012"
            ],
            [
             0.2222222222222222,
             "#000013"
            ],
            [
             0.3333333333333333,
             "#000014"
            ],
            [
             0.4444444444444444,
             "#000015"
            ],
            [
             0.5555555555555556,
             "#000016"
            ],
            [
             0.6666666666666666,
             "#000017"
            ],
            [
             0.7777777777777778,
             "#000018"
            ],
            [
             0.8888888888888888,
             "#000019"
            ],
            [
             1,
             "#000020"
            ]
           ],
           "sequentialminus": [
            [
             0,
             "#000011"
            ],
            [
             0.1111111111111111,
             "#000012"
            ],
            [
             0.2222222222222222,
             "#000013"
            ],
            [
             0.3333333333333333,
             "#000014"
            ],
            [
             0.4444444444444444,
             "#000015"
            ],
            [
             0.5555555555555556,
             "#000016"
            ],
            [
             0.6666666666666666,
             "#000017"
            ],
            [
             0.7777777777777778,
             "#000018"
            ],
            [
             0.8888888888888888,
             "#000019"
            ],
            [
             1,
             "#000020"
            ]
           ]
          },
          "colorway": [
           "#000001",
           "#000002",
           "#000003",
           "#000004",
           "#000005",
           "#000006",
           "#000007",
           "#000008",
           "#000009",
           "#000010"
          ]
         }
        },
        "title": {
         "font": {
          "size": 24
         },
         "text": "Ratings of movies produced per year and genre",
         "x": 0.5,
         "xanchor": "center",
         "y": 0.9,
         "yanchor": "top"
        },
        "width": 1000,
        "xaxis": {
         "anchor": "y",
         "domain": [
          0,
          1
         ],
         "gridcolor": "lightgrey",
         "griddash": "dash",
         "linecolor": "black",
         "linewidth": 2,
         "range": [
          1979,
          2023
         ],
         "showline": true,
         "ticks": "outside",
         "title": {
          "text": "Year"
         }
        },
        "yaxis": {
         "anchor": "x",
         "domain": [
          0,
          1
         ],
         "gridcolor": "lightgrey",
         "griddash": "dash",
         "linecolor": "black",
         "linewidth": 2,
         "showline": true,
         "ticks": "outside",
         "title": {
          "text": "Weighted rating"
         }
        }
       }
      },
      "text/html": [
       "<div>                            <div id=\"8e023d0c-93ff-4d0e-82b4-7ab4c0aa7074\" class=\"plotly-graph-div\" style=\"height:525px; width:1000px;\"></div>            <script type=\"text/javascript\">                require([\"plotly\"], function(Plotly) {                    window.PLOTLYENV=window.PLOTLYENV || {};                                    if (document.getElementById(\"8e023d0c-93ff-4d0e-82b4-7ab4c0aa7074\")) {                    Plotly.newPlot(                        \"8e023d0c-93ff-4d0e-82b4-7ab4c0aa7074\",                        [{\"hovertemplate\":\"Movie genre=Action<br>Year=%{x}<br>Weighted rating=%{y}<extra></extra>\",\"legendgroup\":\"Action\",\"marker\":{\"color\":\"#FD3216\",\"symbol\":\"circle\"},\"mode\":\"markers\",\"name\":\"Action\",\"orientation\":\"v\",\"showlegend\":true,\"x\":[1980,1981,1982,1983,1984,1985,1986,1987,1988,1989,1990,1991,1992,1993,1994,1995,1996,1997,1998,1999,2000,2001,2002,2003,2004,2005,2006,2007,2008,2009,2010,2011,2012,2013,2014,2015,2016,2017,2018,2019,2020,2021,2022,2023],\"xaxis\":\"x\",\"y\":[8.114136059678119,7.770792284153282,7.491040983810415,7.486860403789926,7.307730452076858,6.548579772179208,7.093447224257421,6.952081983326659,7.266174975863489,7.083067949245078,6.62033939414007,7.403376972318218,6.58605186167134,7.222486998588593,7.212038570648575,6.792955176987943,6.657197085571291,6.544570460681883,6.71751270836328,7.273475159336608,6.998247843553238,7.093176919692852,7.119381377132961,7.27269790774823,6.9505701444723105,7.012565939007859,6.933985937848043,6.82884808220721,7.173226793103358,6.890457037331385,7.034206968727946,6.776398257752573,7.02754628972767,6.737937902128048,6.921514492800166,6.952684843925023,6.749522942607457,6.984916819318334,6.864813350593625,6.909262026884098,6.182334888507567,6.721149247570608,6.815028610834002,6.6140191297437685],\"yaxis\":\"y\",\"type\":\"scatter\"},{\"hovertemplate\":\"Movie genre=Adventure<br>Year=%{x}<br>Weighted rating=%{y}<extra></extra>\",\"legendgroup\":\"Adventure\",\"marker\":{\"color\":\"#00FE35\",\"symbol\":\"circle\"},\"mode\":\"markers\",\"name\":\"Adventure\",\"orientation\":\"v\",\"showlegend\":true,\"x\":[1980,1981,1982,1983,1984,1985,1986,1987,1988,1989,1990,1991,1992,1993,1994,1995,1996,1997,1998,1999,2000,2001,2002,2003,2004,2005,2006,2007,2008,2009,2010,2011,2012,2013,2014,2015,2016,2017,2018,2019,2020,2021,2022,2023],\"xaxis\":\"x\",\"y\":[7.934840317149709,7.7326483969840805,7.386883288559124,7.555266012878509,6.965191258192633,7.417763769795719,7.531605122244409,7.1193242980101425,6.771998563414968,7.4292327294191685,7.260176935991279,6.6337503964143005,7.173498957549827,7.294906693487533,7.346572170774816,7.128101143967608,6.687445985974824,6.867419463096104,6.705610665748874,6.9047492637332235,7.284776880922085,7.631224575976737,7.209806217585062,7.593827133518278,6.99334424652769,6.745316508580736,6.869423370009016,6.834723687199161,6.823354562519967,7.2009453395992,7.321952356255593,6.647953601375673,6.953073830758652,6.843976591199252,7.332154902544257,7.117549284476643,6.696660636949453,6.905777863786487,7.0268302543338805,6.921083928632526,6.428908291822,7.077654951854556,6.654819165417637,6.583354067831633],\"yaxis\":\"y\",\"type\":\"scatter\"},{\"hovertemplate\":\"Movie genre=Comedy<br>Year=%{x}<br>Weighted rating=%{y}<extra></extra>\",\"legendgroup\":\"Comedy\",\"marker\":{\"color\":\"#6A76FC\",\"symbol\":\"circle\"},\"mode\":\"markers\",\"name\":\"Comedy\",\"orientation\":\"v\",\"showlegend\":true,\"x\":[1980,1981,1982,1983,1984,1985,1986,1987,1988,1989,1990,1991,1992,1993,1994,1995,1996,1997,1998,1999,2000,2001,2002,2003,2004,2005,2006,2007,2008,2009,2010,2011,2012,2013,2014,2015,2016,2017,2018,2019,2020,2021,2022,2023],\"xaxis\":\"x\",\"y\":[7.088511175810952,6.788464418459944,6.756849684062627,6.9657525200988335,7.0196091397067635,7.474552770481967,6.725235247632508,6.932030309068741,6.9333515537093,7.089849858874265,6.800840456863731,6.660269823019653,6.902338305987947,6.830054927338472,6.680965296567465,6.991620677322155,6.4398290617257725,6.924035386867354,7.211362564489207,6.824108314579463,6.739790961398198,6.887290458886038,6.372318100704243,6.7512720427701804,6.635197177618514,6.449684836324453,6.514281429277429,6.741450763105514,6.415296399548408,6.911532712491349,6.776358666656194,6.69364283216395,6.719721581656687,6.8330462922511,6.920628182102236,6.733886483780516,6.895826186072465,6.966765607167633,6.842270595742943,6.855915064379972,6.526335726786569,6.727843392090523,6.651942838765069,6.462102673862474],\"yaxis\":\"y\",\"type\":\"scatter\"},{\"hovertemplate\":\"Movie genre=Crime<br>Year=%{x}<br>Weighted rating=%{y}<extra></extra>\",\"legendgroup\":\"Crime\",\"marker\":{\"color\":\"#FED4C4\",\"symbol\":\"circle\"},\"mode\":\"markers\",\"name\":\"Crime\",\"orientation\":\"v\",\"showlegend\":true,\"x\":[1980,1981,1982,1983,1984,1985,1986,1987,1988,1989,1990,1991,1992,1993,1994,1995,1996,1997,1998,1999,2000,2001,2002,2003,2004,2005,2006,2007,2008,2009,2010,2011,2012,2013,2014,2015,2016,2017,2018,2019,2020,2021,2022,2023],\"xaxis\":\"x\",\"y\":[6.6612694514253805,6.940196211763639,6.854285422193048,7.682074088914358,7.420447079686115,6.8485016287193865,6.860898251656773,7.144554058357941,6.9203082457342715,6.605632826668448,7.548306055225302,7.780969382802143,7.385130471128767,7.2054360375309665,7.9706883956385,7.833097488516993,7.131763873460454,7.067124359747942,7.533994432502434,7.4409618219119915,7.1373932994608404,6.940709416248849,7.396160628902623,7.10010769343258,6.939393908229645,7.137464983742541,7.217910171293846,7.149061708840763,7.652754573354947,6.711701348195249,6.921296738889876,6.835066283802419,6.6950270213960135,7.062687490227086,6.999343623387496,6.953585329475086,6.6669594295517625,6.901934775866198,6.638716847164644,7.313164939375128,6.342763313752405,6.444195159108558,6.872438682659061,6.981946939974517],\"yaxis\":\"y\",\"type\":\"scatter\"},{\"hovertemplate\":\"Movie genre=Drama<br>Year=%{x}<br>Weighted rating=%{y}<extra></extra>\",\"legendgroup\":\"Drama\",\"marker\":{\"color\":\"#FE00CE\",\"symbol\":\"circle\"},\"mode\":\"markers\",\"name\":\"Drama\",\"orientation\":\"v\",\"showlegend\":true,\"x\":[1980,1981,1982,1983,1984,1985,1986,1987,1988,1989,1990,1991,1992,1993,1994,1995,1996,1997,1998,1999,2000,2001,2002,2003,2004,2005,2006,2007,2008,2009,2010,2011,2012,2013,2014,2015,2016,2017,2018,2019,2020,2021,2022,2023],\"xaxis\":\"x\",\"y\":[7.80956995510542,7.285750819543411,7.55224777974236,7.443645127068091,7.441191217498608,7.273648813392362,7.3420932972889235,7.418267344258274,7.420373179014661,7.26249103728202,7.518676908878499,7.571085663903621,7.191593673648813,7.639151250432706,8.341492972905765,7.769895521778016,7.021221144437121,7.506147571377739,7.503529634044361,7.717955016563457,7.45635526704643,7.467651100036719,7.494106067570239,7.665056214610366,7.334366677211206,7.261619807965191,7.46021382628649,7.296779971927477,7.330399282224928,7.181918520425619,6.971024256949641,7.107432082323587,7.262007772562177,7.08865451867077,7.28462776355029,7.04148338030438,7.103640356842257,7.051380009732664,6.926439133480442,7.348221120578824,6.577364360340726,6.8746543283391635,6.997869383374173,6.712470040409456],\"yaxis\":\"y\",\"type\":\"scatter\"},{\"hovertemplate\":\"Movie genre=Fantasy<br>Year=%{x}<br>Weighted rating=%{y}<extra></extra>\",\"legendgroup\":\"Fantasy\",\"marker\":{\"color\":\"#0DF9FF\",\"symbol\":\"circle\"},\"mode\":\"markers\",\"name\":\"Fantasy\",\"orientation\":\"v\",\"showlegend\":true,\"x\":[1980,1981,1982,1983,1984,1985,1986,1987,1988,1989,1990,1991,1992,1993,1994,1995,1996,1997,1998,1999,2000,2001,2002,2003,2004,2005,2006,2007,2008,2009,2010,2011,2012,2013,2014,2015,2016,2017,2018,2019,2020,2021,2022,2023],\"xaxis\":\"x\",\"y\":[8.554157661228338,6.899398456512571,6.962177671358887,8.066169014488427,7.1213865095775315,6.3978515743690805,6.828100729402095,6.469255512257156,7.023052054980802,6.677896309194782,7.13711032736745,7.105385758280251,6.842691190610325,7.399205115464625,6.808666321585357,6.594024977982673,6.287787419640348,6.220928385902641,6.916864261040305,7.431932299205045,6.046389437109103,6.71823377166781,6.606545769635452,7.231589445573116,6.769869731996777,6.886231075314296,7.12170369831885,6.350181451761238,6.468536670510203,6.809695402586358,6.585258621604103,6.615957531559929,6.901965107455995,6.759296455536366,6.414922713132468,6.384686029396522,6.744251985018489,6.571284716848062,6.439040517732341,6.4727359876845565,5.774193356947312,7.222952845472702,6.6580087202709235,6.158118672555994],\"yaxis\":\"y\",\"type\":\"scatter\"},{\"hovertemplate\":\"Movie genre=Horror<br>Year=%{x}<br>Weighted rating=%{y}<extra></extra>\",\"legendgroup\":\"Horror\",\"marker\":{\"color\":\"#F6F926\",\"symbol\":\"circle\"},\"mode\":\"markers\",\"name\":\"Horror\",\"orientation\":\"v\",\"showlegend\":true,\"x\":[1980,1981,1982,1983,1984,1985,1986,1987,1988,1989,1990,1991,1992,1993,1994,1995,1996,1997,1998,1999,2000,2001,2002,2003,2004,2005,2006,2007,2008,2009,2010,2011,2012,2013,2014,2015,2016,2017,2018,2019,2020,2021,2022,2023],\"xaxis\":\"x\",\"y\":[7.54088420997673,6.522100818700379,7.044348160018205,6.298213414644657,6.7148685989842,6.320471132455354,6.3771840151208306,6.908697827459039,6.108617993797634,5.760182684912571,6.288681856082045,5.195588117844375,6.720964928028911,5.349336080886567,6.9448905055892665,5.4406419882140495,6.869110217091256,6.190604551682186,6.261846216093996,6.4619220560695485,6.653809841718504,6.341478306637416,6.554679659633989,5.885037787685765,6.686984915144112,6.003754243881737,5.878198381638675,6.578594943918281,6.243023028610081,6.249710667872823,6.013439369846366,6.114215139638813,5.7627125317034125,6.334438881430707,6.118401385447628,5.979503432805384,6.5040659645114465,6.542401724789041,6.30499965560864,6.265169087424099,5.982175653736984,5.933765900861931,6.165789449903647,6.218668922262119],\"yaxis\":\"y\",\"type\":\"scatter\"},{\"hovertemplate\":\"Movie genre=Mystery<br>Year=%{x}<br>Weighted rating=%{y}<extra></extra>\",\"legendgroup\":\"Mystery\",\"marker\":{\"color\":\"#FF9616\",\"symbol\":\"circle\"},\"mode\":\"markers\",\"name\":\"Mystery\",\"orientation\":\"v\",\"showlegend\":true,\"x\":[1980,1981,1982,1983,1984,1985,1986,1987,1988,1989,1990,1991,1992,1993,1994,1995,1996,1997,1998,1999,2000,2001,2002,2003,2004,2005,2006,2007,2008,2009,2010,2011,2012,2013,2014,2015,2016,2017,2018,2019,2020,2021,2022,2023],\"xaxis\":\"x\",\"y\":[6.479300484110872,6.360483132845189,7.462358388027256,6.474684950958073,6.529205469431393,6.5423876212539245,7.301383688103278,6.56216689091365,6.920722213735838,6.896796822362163,6.8607145609519256,6.488216033470724,7.064643774913499,6.734869528725082,6.843076434296501,8.302191174387785,7.16021710494481,7.357990177585251,6.633849978296141,7.211064917924606,7.384965507738151,7.236315559498924,7.051112031111889,7.470062857419133,6.877698293679534,6.520591923974127,7.3293066989317595,7.124116130699493,6.3097421544499666,6.939488245229873,7.1858298001050365,6.925731383049903,6.639493585476827,7.181837670988807,6.844529394461525,6.686351008266159,6.848239661163864,6.969172545611937,6.506389492942126,6.372195555282569,6.474083402692608,6.3866393783244675,6.514332604202011,6.424597945948027],\"yaxis\":\"y\",\"type\":\"scatter\"},{\"hovertemplate\":\"Movie genre=Romance<br>Year=%{x}<br>Weighted rating=%{y}<extra></extra>\",\"legendgroup\":\"Romance\",\"marker\":{\"color\":\"#479B55\",\"symbol\":\"circle\"},\"mode\":\"markers\",\"name\":\"Romance\",\"orientation\":\"v\",\"showlegend\":true,\"x\":[1980,1981,1982,1983,1984,1985,1986,1987,1988,1989,1990,1991,1992,1993,1994,1995,1996,1997,1998,1999,2000,2001,2002,2003,2004,2005,2006,2007,2008,2009,2010,2011,2012,2013,2014,2015,2016,2017,2018,2019,2020,2021,2022,2023],\"xaxis\":\"x\",\"y\":[6.530743072055131,6.744336188345765,7.138172618994032,6.231219983827304,6.571825762416129,6.77708335728107,6.514813218358881,6.897798631672271,7.114685098972043,7.132079758071125,7.137367461786924,6.629787081821343,6.6539017048931575,6.892089259804784,7.9895823653856475,7.023587175079566,6.711712734005558,7.800613267122904,6.9808095129314465,6.65546500333342,6.904686330206355,6.943836350512909,6.602319860315711,6.794038922463805,7.161512344150377,6.854165896989306,6.478722227496558,6.628269542847314,6.795209817171456,6.795557738837933,6.503279274989572,6.764809155827283,6.8331559067604815,7.003773752422612,6.704777640276478,6.407358658031005,6.810764905893411,6.749660388867855,6.649209484583414,6.942833476421464,6.136388240460738,6.49448404175812,5.994524943829227,5.951150670457716],\"yaxis\":\"y\",\"type\":\"scatter\"},{\"hovertemplate\":\"Movie genre=Thriller<br>Year=%{x}<br>Weighted rating=%{y}<extra></extra>\",\"legendgroup\":\"Thriller\",\"marker\":{\"color\":\"#EEA6FB\",\"symbol\":\"circle\"},\"mode\":\"markers\",\"name\":\"Thriller\",\"orientation\":\"v\",\"showlegend\":true,\"x\":[1980,1981,1982,1983,1984,1985,1986,1987,1988,1989,1990,1991,1992,1993,1994,1995,1996,1997,1998,1999,2000,2001,2002,2003,2004,2005,2006,2007,2008,2009,2010,2011,2012,2013,2014,2015,2016,2017,2018,2019,2020,2021,2022,2023],\"xaxis\":\"x\",\"y\":[6.27755936801527,6.302132470218447,7.002932879322952,6.317775527067108,6.335490362367151,6.652209285841264,6.547138220328223,6.9508096896818765,7.370628696861542,6.409261583616327,7.019767839707024,7.9823563266251805,7.400801372910056,6.74673852833406,6.865495789224171,7.031301740040097,7.066257782686534,7.085722926813723,6.4549191169388775,7.308234986791808,7.235848762716649,6.9961986665814315,6.788493493222482,6.778446013524524,7.159904886911641,6.952152875712924,7.171052608552312,6.9970932321169705,6.7338743599174435,6.505171613704748,6.981170759178928,6.819185972723036,7.097769154947423,6.601724681947343,7.018223999898066,6.479332567266602,6.714426946119885,6.493301949244339,6.366210441007461,7.116541109437014,6.386314011742038,6.0368639874187116,6.314333415820986,6.635105740243672],\"yaxis\":\"y\",\"type\":\"scatter\"}],                        {\"template\":{\"data\":{\"candlestick\":[{\"decreasing\":{\"line\":{\"color\":\"#000033\"}},\"increasing\":{\"line\":{\"color\":\"#000032\"}},\"type\":\"candlestick\"}],\"contourcarpet\":[{\"colorscale\":[[0.0,\"#000011\"],[0.1111111111111111,\"#000012\"],[0.2222222222222222,\"#000013\"],[0.3333333333333333,\"#000014\"],[0.4444444444444444,\"#000015\"],[0.5555555555555556,\"#000016\"],[0.6666666666666666,\"#000017\"],[0.7777777777777778,\"#000018\"],[0.8888888888888888,\"#000019\"],[1.0,\"#000020\"]],\"type\":\"contourcarpet\"}],\"contour\":[{\"colorscale\":[[0.0,\"#000011\"],[0.1111111111111111,\"#000012\"],[0.2222222222222222,\"#000013\"],[0.3333333333333333,\"#000014\"],[0.4444444444444444,\"#000015\"],[0.5555555555555556,\"#000016\"],[0.6666666666666666,\"#000017\"],[0.7777777777777778,\"#000018\"],[0.8888888888888888,\"#000019\"],[1.0,\"#000020\"]],\"type\":\"contour\"}],\"heatmap\":[{\"colorscale\":[[0.0,\"#000011\"],[0.1111111111111111,\"#000012\"],[0.2222222222222222,\"#000013\"],[0.3333333333333333,\"#000014\"],[0.4444444444444444,\"#000015\"],[0.5555555555555556,\"#000016\"],[0.6666666666666666,\"#000017\"],[0.7777777777777778,\"#000018\"],[0.8888888888888888,\"#000019\"],[1.0,\"#000020\"]],\"type\":\"heatmap\"}],\"histogram2d\":[{\"colorscale\":[[0.0,\"#000011\"],[0.1111111111111111,\"#000012\"],[0.2222222222222222,\"#000013\"],[0.3333333333333333,\"#000014\"],[0.4444444444444444,\"#000015\"],[0.5555555555555556,\"#000016\"],[0.6666666666666666,\"#000017\"],[0.7777777777777778,\"#000018\"],[0.8888888888888888,\"#000019\"],[1.0,\"#000020\"]],\"type\":\"histogram2d\"}],\"icicle\":[{\"textfont\":{\"color\":\"white\"},\"type\":\"icicle\"}],\"sankey\":[{\"textfont\":{\"color\":\"#000036\"},\"type\":\"sankey\"}],\"scatter\":[{\"marker\":{\"line\":{\"width\":0}},\"type\":\"scatter\"}],\"table\":[{\"cells\":{\"fill\":{\"color\":\"#000038\"},\"font\":{\"color\":\"#000037\"},\"line\":{\"color\":\"#000039\"}},\"header\":{\"fill\":{\"color\":\"#000040\"},\"font\":{\"color\":\"#000036\"},\"line\":{\"color\":\"#000039\"}},\"type\":\"table\"}],\"waterfall\":[{\"connector\":{\"line\":{\"color\":\"#000036\",\"width\":2}},\"decreasing\":{\"marker\":{\"color\":\"#000033\"}},\"increasing\":{\"marker\":{\"color\":\"#000032\"}},\"totals\":{\"marker\":{\"color\":\"#000034\"}},\"type\":\"waterfall\"}]},\"layout\":{\"coloraxis\":{\"colorscale\":[[0.0,\"#000011\"],[0.1111111111111111,\"#000012\"],[0.2222222222222222,\"#000013\"],[0.3333333333333333,\"#000014\"],[0.4444444444444444,\"#000015\"],[0.5555555555555556,\"#000016\"],[0.6666666666666666,\"#000017\"],[0.7777777777777778,\"#000018\"],[0.8888888888888888,\"#000019\"],[1.0,\"#000020\"]]},\"colorscale\":{\"diverging\":[[0.0,\"#000021\"],[0.1,\"#000022\"],[0.2,\"#000023\"],[0.3,\"#000024\"],[0.4,\"#000025\"],[0.5,\"#000026\"],[0.6,\"#000027\"],[0.7,\"#000028\"],[0.8,\"#000029\"],[0.9,\"#000030\"],[1.0,\"#000031\"]],\"sequential\":[[0.0,\"#000011\"],[0.1111111111111111,\"#000012\"],[0.2222222222222222,\"#000013\"],[0.3333333333333333,\"#000014\"],[0.4444444444444444,\"#000015\"],[0.5555555555555556,\"#000016\"],[0.6666666666666666,\"#000017\"],[0.7777777777777778,\"#000018\"],[0.8888888888888888,\"#000019\"],[1.0,\"#000020\"]],\"sequentialminus\":[[0.0,\"#000011\"],[0.1111111111111111,\"#000012\"],[0.2222222222222222,\"#000013\"],[0.3333333333333333,\"#000014\"],[0.4444444444444444,\"#000015\"],[0.5555555555555556,\"#000016\"],[0.6666666666666666,\"#000017\"],[0.7777777777777778,\"#000018\"],[0.8888888888888888,\"#000019\"],[1.0,\"#000020\"]]},\"colorway\":[\"#000001\",\"#000002\",\"#000003\",\"#000004\",\"#000005\",\"#000006\",\"#000007\",\"#000008\",\"#000009\",\"#000010\"]}},\"xaxis\":{\"anchor\":\"y\",\"domain\":[0.0,1.0],\"title\":{\"text\":\"Year\"},\"ticks\":\"outside\",\"showline\":true,\"linecolor\":\"black\",\"linewidth\":2,\"gridcolor\":\"lightgrey\",\"griddash\":\"dash\",\"range\":[1979,2023]},\"yaxis\":{\"anchor\":\"x\",\"domain\":[0.0,1.0],\"title\":{\"text\":\"Weighted rating\"},\"ticks\":\"outside\",\"showline\":true,\"linecolor\":\"black\",\"linewidth\":2,\"gridcolor\":\"lightgrey\",\"griddash\":\"dash\"},\"legend\":{\"title\":{\"text\":\"Movie genre\"},\"tracegroupgap\":0},\"title\":{\"text\":\"Ratings of movies produced per year and genre\",\"font\":{\"size\":24},\"y\":0.9,\"x\":0.5,\"xanchor\":\"center\",\"yanchor\":\"top\"},\"width\":1000,\"plot_bgcolor\":\"white\"},                        {\"responsive\": true}                    ).then(function(){\n",
       "                            \n",
       "var gd = document.getElementById('8e023d0c-93ff-4d0e-82b4-7ab4c0aa7074');\n",
       "var x = new MutationObserver(function (mutations, observer) {{\n",
       "        var display = window.getComputedStyle(gd).display;\n",
       "        if (!display || display === 'none') {{\n",
       "            console.log([gd, 'removed!']);\n",
       "            Plotly.purge(gd);\n",
       "            observer.disconnect();\n",
       "        }}\n",
       "}});\n",
       "\n",
       "// Listen for the removal of the full notebook cells\n",
       "var notebookContainer = gd.closest('#notebook-container');\n",
       "if (notebookContainer) {{\n",
       "    x.observe(notebookContainer, {childList: true});\n",
       "}}\n",
       "\n",
       "// Listen for the clearing of the current output cell\n",
       "var outputEl = gd.closest('.output');\n",
       "if (outputEl) {{\n",
       "    x.observe(outputEl, {childList: true});\n",
       "}}\n",
       "\n",
       "                        })                };                });            </script>        </div>"
      ]
     },
     "metadata": {},
     "output_type": "display_data"
    }
   ],
   "source": [
    "fig = px.scatter(data_frame = df_group_years_genres_to_plot, x = \"startYear\", y = \"weighted_rating\",\n",
    "                 color = \"genres\", color_discrete_sequence = px.colors.qualitative.Light24,\n",
    "                 width = 1000,\n",
    "                 labels = {\"startYear\": \"Year\", \"weighted_rating\": \"Weighted rating\", \"genres\": \"Movie genre\"},\n",
    "                 title = \"Ratings of movies produced per year and genre\")\n",
    "\n",
    "fig.update_layout(title = {'y': 0.9, 'x': 0.5, 'xanchor': 'center', 'yanchor': 'top',\n",
    "                           'font' : dict(size = 24)},\n",
    "                  plot_bgcolor = 'white')\n",
    "\n",
    "fig.update_xaxes(ticks = 'outside', showline = True, linecolor = 'black', linewidth = 2,\n",
    "                 gridcolor = 'lightgrey', griddash = 'dash',\n",
    "                 range=[1979, 2023])\n",
    "fig.update_yaxes(ticks = 'outside', showline = True, linecolor = 'black', linewidth = 2,\n",
    "                 gridcolor = 'lightgrey', griddash = 'dash')\n",
    "\n",
    "fig.show()"
   ]
  },
  {
   "cell_type": "markdown",
   "id": "68b0d0b5",
   "metadata": {},
   "source": [
    "## Line plot de la moyenne pondérée (y) par année (x) et par genre (catégorie)"
   ]
  },
  {
   "cell_type": "code",
   "execution_count": 34,
   "id": "b3c55e1f",
   "metadata": {},
   "outputs": [
    {
     "data": {
      "application/vnd.plotly.v1+json": {
       "config": {
        "plotlyServerURL": "https://plot.ly"
       },
       "data": [
        {
         "hovertemplate": "Movie genre=Action<br>Year=%{x}<br>Weighted rating=%{y}<extra></extra>",
         "legendgroup": "Action",
         "line": {
          "color": "#FD3216",
          "dash": "solid",
          "shape": "spline"
         },
         "marker": {
          "symbol": "circle"
         },
         "mode": "lines+markers",
         "name": "Action",
         "orientation": "v",
         "showlegend": true,
         "type": "scatter",
         "x": [
          1980,
          1981,
          1982,
          1983,
          1984,
          1985,
          1986,
          1987,
          1988,
          1989,
          1990,
          1991,
          1992,
          1993,
          1994,
          1995,
          1996,
          1997,
          1998,
          1999,
          2000,
          2001,
          2002,
          2003,
          2004,
          2005,
          2006,
          2007,
          2008,
          2009,
          2010,
          2011,
          2012,
          2013,
          2014,
          2015,
          2016,
          2017,
          2018,
          2019,
          2020,
          2021,
          2022,
          2023
         ],
         "xaxis": "x",
         "y": [
          8.114136059678119,
          7.770792284153282,
          7.491040983810415,
          7.486860403789926,
          7.307730452076858,
          6.548579772179208,
          7.093447224257421,
          6.952081983326659,
          7.266174975863489,
          7.083067949245078,
          6.62033939414007,
          7.403376972318218,
          6.58605186167134,
          7.222486998588593,
          7.212038570648575,
          6.792955176987943,
          6.657197085571291,
          6.544570460681883,
          6.71751270836328,
          7.273475159336608,
          6.998247843553238,
          7.093176919692852,
          7.119381377132961,
          7.27269790774823,
          6.9505701444723105,
          7.012565939007859,
          6.933985937848043,
          6.82884808220721,
          7.173226793103358,
          6.890457037331385,
          7.034206968727946,
          6.776398257752573,
          7.02754628972767,
          6.737937902128048,
          6.921514492800166,
          6.952684843925023,
          6.749522942607457,
          6.984916819318334,
          6.864813350593625,
          6.909262026884098,
          6.182334888507567,
          6.721149247570608,
          6.815028610834002,
          6.6140191297437685
         ],
         "yaxis": "y"
        },
        {
         "hovertemplate": "Movie genre=Adventure<br>Year=%{x}<br>Weighted rating=%{y}<extra></extra>",
         "legendgroup": "Adventure",
         "line": {
          "color": "#00FE35",
          "dash": "solid",
          "shape": "spline"
         },
         "marker": {
          "symbol": "circle"
         },
         "mode": "lines+markers",
         "name": "Adventure",
         "orientation": "v",
         "showlegend": true,
         "type": "scatter",
         "x": [
          1980,
          1981,
          1982,
          1983,
          1984,
          1985,
          1986,
          1987,
          1988,
          1989,
          1990,
          1991,
          1992,
          1993,
          1994,
          1995,
          1996,
          1997,
          1998,
          1999,
          2000,
          2001,
          2002,
          2003,
          2004,
          2005,
          2006,
          2007,
          2008,
          2009,
          2010,
          2011,
          2012,
          2013,
          2014,
          2015,
          2016,
          2017,
          2018,
          2019,
          2020,
          2021,
          2022,
          2023
         ],
         "xaxis": "x",
         "y": [
          7.934840317149709,
          7.7326483969840805,
          7.386883288559124,
          7.555266012878509,
          6.965191258192633,
          7.417763769795719,
          7.531605122244409,
          7.1193242980101425,
          6.771998563414968,
          7.4292327294191685,
          7.260176935991279,
          6.6337503964143005,
          7.173498957549827,
          7.294906693487533,
          7.346572170774816,
          7.128101143967608,
          6.687445985974824,
          6.867419463096104,
          6.705610665748874,
          6.9047492637332235,
          7.284776880922085,
          7.631224575976737,
          7.209806217585062,
          7.593827133518278,
          6.99334424652769,
          6.745316508580736,
          6.869423370009016,
          6.834723687199161,
          6.823354562519967,
          7.2009453395992,
          7.321952356255593,
          6.647953601375673,
          6.953073830758652,
          6.843976591199252,
          7.332154902544257,
          7.117549284476643,
          6.696660636949453,
          6.905777863786487,
          7.0268302543338805,
          6.921083928632526,
          6.428908291822,
          7.077654951854556,
          6.654819165417637,
          6.583354067831633
         ],
         "yaxis": "y"
        },
        {
         "hovertemplate": "Movie genre=Comedy<br>Year=%{x}<br>Weighted rating=%{y}<extra></extra>",
         "legendgroup": "Comedy",
         "line": {
          "color": "#6A76FC",
          "dash": "solid",
          "shape": "spline"
         },
         "marker": {
          "symbol": "circle"
         },
         "mode": "lines+markers",
         "name": "Comedy",
         "orientation": "v",
         "showlegend": true,
         "type": "scatter",
         "x": [
          1980,
          1981,
          1982,
          1983,
          1984,
          1985,
          1986,
          1987,
          1988,
          1989,
          1990,
          1991,
          1992,
          1993,
          1994,
          1995,
          1996,
          1997,
          1998,
          1999,
          2000,
          2001,
          2002,
          2003,
          2004,
          2005,
          2006,
          2007,
          2008,
          2009,
          2010,
          2011,
          2012,
          2013,
          2014,
          2015,
          2016,
          2017,
          2018,
          2019,
          2020,
          2021,
          2022,
          2023
         ],
         "xaxis": "x",
         "y": [
          7.088511175810952,
          6.788464418459944,
          6.756849684062627,
          6.9657525200988335,
          7.0196091397067635,
          7.474552770481967,
          6.725235247632508,
          6.932030309068741,
          6.9333515537093,
          7.089849858874265,
          6.800840456863731,
          6.660269823019653,
          6.902338305987947,
          6.830054927338472,
          6.680965296567465,
          6.991620677322155,
          6.4398290617257725,
          6.924035386867354,
          7.211362564489207,
          6.824108314579463,
          6.739790961398198,
          6.887290458886038,
          6.372318100704243,
          6.7512720427701804,
          6.635197177618514,
          6.449684836324453,
          6.514281429277429,
          6.741450763105514,
          6.415296399548408,
          6.911532712491349,
          6.776358666656194,
          6.69364283216395,
          6.719721581656687,
          6.8330462922511,
          6.920628182102236,
          6.733886483780516,
          6.895826186072465,
          6.966765607167633,
          6.842270595742943,
          6.855915064379972,
          6.526335726786569,
          6.727843392090523,
          6.651942838765069,
          6.462102673862474
         ],
         "yaxis": "y"
        },
        {
         "hovertemplate": "Movie genre=Crime<br>Year=%{x}<br>Weighted rating=%{y}<extra></extra>",
         "legendgroup": "Crime",
         "line": {
          "color": "#FED4C4",
          "dash": "solid",
          "shape": "spline"
         },
         "marker": {
          "symbol": "circle"
         },
         "mode": "lines+markers",
         "name": "Crime",
         "orientation": "v",
         "showlegend": true,
         "type": "scatter",
         "x": [
          1980,
          1981,
          1982,
          1983,
          1984,
          1985,
          1986,
          1987,
          1988,
          1989,
          1990,
          1991,
          1992,
          1993,
          1994,
          1995,
          1996,
          1997,
          1998,
          1999,
          2000,
          2001,
          2002,
          2003,
          2004,
          2005,
          2006,
          2007,
          2008,
          2009,
          2010,
          2011,
          2012,
          2013,
          2014,
          2015,
          2016,
          2017,
          2018,
          2019,
          2020,
          2021,
          2022,
          2023
         ],
         "xaxis": "x",
         "y": [
          6.6612694514253805,
          6.940196211763639,
          6.854285422193048,
          7.682074088914358,
          7.420447079686115,
          6.8485016287193865,
          6.860898251656773,
          7.144554058357941,
          6.9203082457342715,
          6.605632826668448,
          7.548306055225302,
          7.780969382802143,
          7.385130471128767,
          7.2054360375309665,
          7.9706883956385,
          7.833097488516993,
          7.131763873460454,
          7.067124359747942,
          7.533994432502434,
          7.4409618219119915,
          7.1373932994608404,
          6.940709416248849,
          7.396160628902623,
          7.10010769343258,
          6.939393908229645,
          7.137464983742541,
          7.217910171293846,
          7.149061708840763,
          7.652754573354947,
          6.711701348195249,
          6.921296738889876,
          6.835066283802419,
          6.6950270213960135,
          7.062687490227086,
          6.999343623387496,
          6.953585329475086,
          6.6669594295517625,
          6.901934775866198,
          6.638716847164644,
          7.313164939375128,
          6.342763313752405,
          6.444195159108558,
          6.872438682659061,
          6.981946939974517
         ],
         "yaxis": "y"
        },
        {
         "hovertemplate": "Movie genre=Drama<br>Year=%{x}<br>Weighted rating=%{y}<extra></extra>",
         "legendgroup": "Drama",
         "line": {
          "color": "#FE00CE",
          "dash": "solid",
          "shape": "spline"
         },
         "marker": {
          "symbol": "circle"
         },
         "mode": "lines+markers",
         "name": "Drama",
         "orientation": "v",
         "showlegend": true,
         "type": "scatter",
         "x": [
          1980,
          1981,
          1982,
          1983,
          1984,
          1985,
          1986,
          1987,
          1988,
          1989,
          1990,
          1991,
          1992,
          1993,
          1994,
          1995,
          1996,
          1997,
          1998,
          1999,
          2000,
          2001,
          2002,
          2003,
          2004,
          2005,
          2006,
          2007,
          2008,
          2009,
          2010,
          2011,
          2012,
          2013,
          2014,
          2015,
          2016,
          2017,
          2018,
          2019,
          2020,
          2021,
          2022,
          2023
         ],
         "xaxis": "x",
         "y": [
          7.80956995510542,
          7.285750819543411,
          7.55224777974236,
          7.443645127068091,
          7.441191217498608,
          7.273648813392362,
          7.3420932972889235,
          7.418267344258274,
          7.420373179014661,
          7.26249103728202,
          7.518676908878499,
          7.571085663903621,
          7.191593673648813,
          7.639151250432706,
          8.341492972905765,
          7.769895521778016,
          7.021221144437121,
          7.506147571377739,
          7.503529634044361,
          7.717955016563457,
          7.45635526704643,
          7.467651100036719,
          7.494106067570239,
          7.665056214610366,
          7.334366677211206,
          7.261619807965191,
          7.46021382628649,
          7.296779971927477,
          7.330399282224928,
          7.181918520425619,
          6.971024256949641,
          7.107432082323587,
          7.262007772562177,
          7.08865451867077,
          7.28462776355029,
          7.04148338030438,
          7.103640356842257,
          7.051380009732664,
          6.926439133480442,
          7.348221120578824,
          6.577364360340726,
          6.8746543283391635,
          6.997869383374173,
          6.712470040409456
         ],
         "yaxis": "y"
        },
        {
         "hovertemplate": "Movie genre=Fantasy<br>Year=%{x}<br>Weighted rating=%{y}<extra></extra>",
         "legendgroup": "Fantasy",
         "line": {
          "color": "#0DF9FF",
          "dash": "solid",
          "shape": "spline"
         },
         "marker": {
          "symbol": "circle"
         },
         "mode": "lines+markers",
         "name": "Fantasy",
         "orientation": "v",
         "showlegend": true,
         "type": "scatter",
         "x": [
          1980,
          1981,
          1982,
          1983,
          1984,
          1985,
          1986,
          1987,
          1988,
          1989,
          1990,
          1991,
          1992,
          1993,
          1994,
          1995,
          1996,
          1997,
          1998,
          1999,
          2000,
          2001,
          2002,
          2003,
          2004,
          2005,
          2006,
          2007,
          2008,
          2009,
          2010,
          2011,
          2012,
          2013,
          2014,
          2015,
          2016,
          2017,
          2018,
          2019,
          2020,
          2021,
          2022,
          2023
         ],
         "xaxis": "x",
         "y": [
          8.554157661228338,
          6.899398456512571,
          6.962177671358887,
          8.066169014488427,
          7.1213865095775315,
          6.3978515743690805,
          6.828100729402095,
          6.469255512257156,
          7.023052054980802,
          6.677896309194782,
          7.13711032736745,
          7.105385758280251,
          6.842691190610325,
          7.399205115464625,
          6.808666321585357,
          6.594024977982673,
          6.287787419640348,
          6.220928385902641,
          6.916864261040305,
          7.431932299205045,
          6.046389437109103,
          6.71823377166781,
          6.606545769635452,
          7.231589445573116,
          6.769869731996777,
          6.886231075314296,
          7.12170369831885,
          6.350181451761238,
          6.468536670510203,
          6.809695402586358,
          6.585258621604103,
          6.615957531559929,
          6.901965107455995,
          6.759296455536366,
          6.414922713132468,
          6.384686029396522,
          6.744251985018489,
          6.571284716848062,
          6.439040517732341,
          6.4727359876845565,
          5.774193356947312,
          7.222952845472702,
          6.6580087202709235,
          6.158118672555994
         ],
         "yaxis": "y"
        },
        {
         "hovertemplate": "Movie genre=Horror<br>Year=%{x}<br>Weighted rating=%{y}<extra></extra>",
         "legendgroup": "Horror",
         "line": {
          "color": "#F6F926",
          "dash": "solid",
          "shape": "spline"
         },
         "marker": {
          "symbol": "circle"
         },
         "mode": "lines+markers",
         "name": "Horror",
         "orientation": "v",
         "showlegend": true,
         "type": "scatter",
         "x": [
          1980,
          1981,
          1982,
          1983,
          1984,
          1985,
          1986,
          1987,
          1988,
          1989,
          1990,
          1991,
          1992,
          1993,
          1994,
          1995,
          1996,
          1997,
          1998,
          1999,
          2000,
          2001,
          2002,
          2003,
          2004,
          2005,
          2006,
          2007,
          2008,
          2009,
          2010,
          2011,
          2012,
          2013,
          2014,
          2015,
          2016,
          2017,
          2018,
          2019,
          2020,
          2021,
          2022,
          2023
         ],
         "xaxis": "x",
         "y": [
          7.54088420997673,
          6.522100818700379,
          7.044348160018205,
          6.298213414644657,
          6.7148685989842,
          6.320471132455354,
          6.3771840151208306,
          6.908697827459039,
          6.108617993797634,
          5.760182684912571,
          6.288681856082045,
          5.195588117844375,
          6.720964928028911,
          5.349336080886567,
          6.9448905055892665,
          5.4406419882140495,
          6.869110217091256,
          6.190604551682186,
          6.261846216093996,
          6.4619220560695485,
          6.653809841718504,
          6.341478306637416,
          6.554679659633989,
          5.885037787685765,
          6.686984915144112,
          6.003754243881737,
          5.878198381638675,
          6.578594943918281,
          6.243023028610081,
          6.249710667872823,
          6.013439369846366,
          6.114215139638813,
          5.7627125317034125,
          6.334438881430707,
          6.118401385447628,
          5.979503432805384,
          6.5040659645114465,
          6.542401724789041,
          6.30499965560864,
          6.265169087424099,
          5.982175653736984,
          5.933765900861931,
          6.165789449903647,
          6.218668922262119
         ],
         "yaxis": "y"
        },
        {
         "hovertemplate": "Movie genre=Mystery<br>Year=%{x}<br>Weighted rating=%{y}<extra></extra>",
         "legendgroup": "Mystery",
         "line": {
          "color": "#FF9616",
          "dash": "solid",
          "shape": "spline"
         },
         "marker": {
          "symbol": "circle"
         },
         "mode": "lines+markers",
         "name": "Mystery",
         "orientation": "v",
         "showlegend": true,
         "type": "scatter",
         "x": [
          1980,
          1981,
          1982,
          1983,
          1984,
          1985,
          1986,
          1987,
          1988,
          1989,
          1990,
          1991,
          1992,
          1993,
          1994,
          1995,
          1996,
          1997,
          1998,
          1999,
          2000,
          2001,
          2002,
          2003,
          2004,
          2005,
          2006,
          2007,
          2008,
          2009,
          2010,
          2011,
          2012,
          2013,
          2014,
          2015,
          2016,
          2017,
          2018,
          2019,
          2020,
          2021,
          2022,
          2023
         ],
         "xaxis": "x",
         "y": [
          6.479300484110872,
          6.360483132845189,
          7.462358388027256,
          6.474684950958073,
          6.529205469431393,
          6.5423876212539245,
          7.301383688103278,
          6.56216689091365,
          6.920722213735838,
          6.896796822362163,
          6.8607145609519256,
          6.488216033470724,
          7.064643774913499,
          6.734869528725082,
          6.843076434296501,
          8.302191174387785,
          7.16021710494481,
          7.357990177585251,
          6.633849978296141,
          7.211064917924606,
          7.384965507738151,
          7.236315559498924,
          7.051112031111889,
          7.470062857419133,
          6.877698293679534,
          6.520591923974127,
          7.3293066989317595,
          7.124116130699493,
          6.3097421544499666,
          6.939488245229873,
          7.1858298001050365,
          6.925731383049903,
          6.639493585476827,
          7.181837670988807,
          6.844529394461525,
          6.686351008266159,
          6.848239661163864,
          6.969172545611937,
          6.506389492942126,
          6.372195555282569,
          6.474083402692608,
          6.3866393783244675,
          6.514332604202011,
          6.424597945948027
         ],
         "yaxis": "y"
        },
        {
         "hovertemplate": "Movie genre=Romance<br>Year=%{x}<br>Weighted rating=%{y}<extra></extra>",
         "legendgroup": "Romance",
         "line": {
          "color": "#479B55",
          "dash": "solid",
          "shape": "spline"
         },
         "marker": {
          "symbol": "circle"
         },
         "mode": "lines+markers",
         "name": "Romance",
         "orientation": "v",
         "showlegend": true,
         "type": "scatter",
         "x": [
          1980,
          1981,
          1982,
          1983,
          1984,
          1985,
          1986,
          1987,
          1988,
          1989,
          1990,
          1991,
          1992,
          1993,
          1994,
          1995,
          1996,
          1997,
          1998,
          1999,
          2000,
          2001,
          2002,
          2003,
          2004,
          2005,
          2006,
          2007,
          2008,
          2009,
          2010,
          2011,
          2012,
          2013,
          2014,
          2015,
          2016,
          2017,
          2018,
          2019,
          2020,
          2021,
          2022,
          2023
         ],
         "xaxis": "x",
         "y": [
          6.530743072055131,
          6.744336188345765,
          7.138172618994032,
          6.231219983827304,
          6.571825762416129,
          6.77708335728107,
          6.514813218358881,
          6.897798631672271,
          7.114685098972043,
          7.132079758071125,
          7.137367461786924,
          6.629787081821343,
          6.6539017048931575,
          6.892089259804784,
          7.9895823653856475,
          7.023587175079566,
          6.711712734005558,
          7.800613267122904,
          6.9808095129314465,
          6.65546500333342,
          6.904686330206355,
          6.943836350512909,
          6.602319860315711,
          6.794038922463805,
          7.161512344150377,
          6.854165896989306,
          6.478722227496558,
          6.628269542847314,
          6.795209817171456,
          6.795557738837933,
          6.503279274989572,
          6.764809155827283,
          6.8331559067604815,
          7.003773752422612,
          6.704777640276478,
          6.407358658031005,
          6.810764905893411,
          6.749660388867855,
          6.649209484583414,
          6.942833476421464,
          6.136388240460738,
          6.49448404175812,
          5.994524943829227,
          5.951150670457716
         ],
         "yaxis": "y"
        },
        {
         "hovertemplate": "Movie genre=Thriller<br>Year=%{x}<br>Weighted rating=%{y}<extra></extra>",
         "legendgroup": "Thriller",
         "line": {
          "color": "#EEA6FB",
          "dash": "solid",
          "shape": "spline"
         },
         "marker": {
          "symbol": "circle"
         },
         "mode": "lines+markers",
         "name": "Thriller",
         "orientation": "v",
         "showlegend": true,
         "type": "scatter",
         "x": [
          1980,
          1981,
          1982,
          1983,
          1984,
          1985,
          1986,
          1987,
          1988,
          1989,
          1990,
          1991,
          1992,
          1993,
          1994,
          1995,
          1996,
          1997,
          1998,
          1999,
          2000,
          2001,
          2002,
          2003,
          2004,
          2005,
          2006,
          2007,
          2008,
          2009,
          2010,
          2011,
          2012,
          2013,
          2014,
          2015,
          2016,
          2017,
          2018,
          2019,
          2020,
          2021,
          2022,
          2023
         ],
         "xaxis": "x",
         "y": [
          6.27755936801527,
          6.302132470218447,
          7.002932879322952,
          6.317775527067108,
          6.335490362367151,
          6.652209285841264,
          6.547138220328223,
          6.9508096896818765,
          7.370628696861542,
          6.409261583616327,
          7.019767839707024,
          7.9823563266251805,
          7.400801372910056,
          6.74673852833406,
          6.865495789224171,
          7.031301740040097,
          7.066257782686534,
          7.085722926813723,
          6.4549191169388775,
          7.308234986791808,
          7.235848762716649,
          6.9961986665814315,
          6.788493493222482,
          6.778446013524524,
          7.159904886911641,
          6.952152875712924,
          7.171052608552312,
          6.9970932321169705,
          6.7338743599174435,
          6.505171613704748,
          6.981170759178928,
          6.819185972723036,
          7.097769154947423,
          6.601724681947343,
          7.018223999898066,
          6.479332567266602,
          6.714426946119885,
          6.493301949244339,
          6.366210441007461,
          7.116541109437014,
          6.386314011742038,
          6.0368639874187116,
          6.314333415820986,
          6.635105740243672
         ],
         "yaxis": "y"
        }
       ],
       "layout": {
        "legend": {
         "title": {
          "text": "Movie genre"
         },
         "tracegroupgap": 0
        },
        "plot_bgcolor": "white",
        "template": {
         "data": {
          "candlestick": [
           {
            "decreasing": {
             "line": {
              "color": "#000033"
             }
            },
            "increasing": {
             "line": {
              "color": "#000032"
             }
            },
            "type": "candlestick"
           }
          ],
          "contour": [
           {
            "colorscale": [
             [
              0,
              "#000011"
             ],
             [
              0.1111111111111111,
              "#000012"
             ],
             [
              0.2222222222222222,
              "#000013"
             ],
             [
              0.3333333333333333,
              "#000014"
             ],
             [
              0.4444444444444444,
              "#000015"
             ],
             [
              0.5555555555555556,
              "#000016"
             ],
             [
              0.6666666666666666,
              "#000017"
             ],
             [
              0.7777777777777778,
              "#000018"
             ],
             [
              0.8888888888888888,
              "#000019"
             ],
             [
              1,
              "#000020"
             ]
            ],
            "type": "contour"
           }
          ],
          "contourcarpet": [
           {
            "colorscale": [
             [
              0,
              "#000011"
             ],
             [
              0.1111111111111111,
              "#000012"
             ],
             [
              0.2222222222222222,
              "#000013"
             ],
             [
              0.3333333333333333,
              "#000014"
             ],
             [
              0.4444444444444444,
              "#000015"
             ],
             [
              0.5555555555555556,
              "#000016"
             ],
             [
              0.6666666666666666,
              "#000017"
             ],
             [
              0.7777777777777778,
              "#000018"
             ],
             [
              0.8888888888888888,
              "#000019"
             ],
             [
              1,
              "#000020"
             ]
            ],
            "type": "contourcarpet"
           }
          ],
          "heatmap": [
           {
            "colorscale": [
             [
              0,
              "#000011"
             ],
             [
              0.1111111111111111,
              "#000012"
             ],
             [
              0.2222222222222222,
              "#000013"
             ],
             [
              0.3333333333333333,
              "#000014"
             ],
             [
              0.4444444444444444,
              "#000015"
             ],
             [
              0.5555555555555556,
              "#000016"
             ],
             [
              0.6666666666666666,
              "#000017"
             ],
             [
              0.7777777777777778,
              "#000018"
             ],
             [
              0.8888888888888888,
              "#000019"
             ],
             [
              1,
              "#000020"
             ]
            ],
            "type": "heatmap"
           }
          ],
          "histogram2d": [
           {
            "colorscale": [
             [
              0,
              "#000011"
             ],
             [
              0.1111111111111111,
              "#000012"
             ],
             [
              0.2222222222222222,
              "#000013"
             ],
             [
              0.3333333333333333,
              "#000014"
             ],
             [
              0.4444444444444444,
              "#000015"
             ],
             [
              0.5555555555555556,
              "#000016"
             ],
             [
              0.6666666666666666,
              "#000017"
             ],
             [
              0.7777777777777778,
              "#000018"
             ],
             [
              0.8888888888888888,
              "#000019"
             ],
             [
              1,
              "#000020"
             ]
            ],
            "type": "histogram2d"
           }
          ],
          "icicle": [
           {
            "textfont": {
             "color": "white"
            },
            "type": "icicle"
           }
          ],
          "sankey": [
           {
            "textfont": {
             "color": "#000036"
            },
            "type": "sankey"
           }
          ],
          "scatter": [
           {
            "marker": {
             "line": {
              "width": 0
             }
            },
            "type": "scatter"
           }
          ],
          "table": [
           {
            "cells": {
             "fill": {
              "color": "#000038"
             },
             "font": {
              "color": "#000037"
             },
             "line": {
              "color": "#000039"
             }
            },
            "header": {
             "fill": {
              "color": "#000040"
             },
             "font": {
              "color": "#000036"
             },
             "line": {
              "color": "#000039"
             }
            },
            "type": "table"
           }
          ],
          "waterfall": [
           {
            "connector": {
             "line": {
              "color": "#000036",
              "width": 2
             }
            },
            "decreasing": {
             "marker": {
              "color": "#000033"
             }
            },
            "increasing": {
             "marker": {
              "color": "#000032"
             }
            },
            "totals": {
             "marker": {
              "color": "#000034"
             }
            },
            "type": "waterfall"
           }
          ]
         },
         "layout": {
          "coloraxis": {
           "colorscale": [
            [
             0,
             "#000011"
            ],
            [
             0.1111111111111111,
             "#000012"
            ],
            [
             0.2222222222222222,
             "#000013"
            ],
            [
             0.3333333333333333,
             "#000014"
            ],
            [
             0.4444444444444444,
             "#000015"
            ],
            [
             0.5555555555555556,
             "#000016"
            ],
            [
             0.6666666666666666,
             "#000017"
            ],
            [
             0.7777777777777778,
             "#000018"
            ],
            [
             0.8888888888888888,
             "#000019"
            ],
            [
             1,
             "#000020"
            ]
           ]
          },
          "colorscale": {
           "diverging": [
            [
             0,
             "#000021"
            ],
            [
             0.1,
             "#000022"
            ],
            [
             0.2,
             "#000023"
            ],
            [
             0.3,
             "#000024"
            ],
            [
             0.4,
             "#000025"
            ],
            [
             0.5,
             "#000026"
            ],
            [
             0.6,
             "#000027"
            ],
            [
             0.7,
             "#000028"
            ],
            [
             0.8,
             "#000029"
            ],
            [
             0.9,
             "#000030"
            ],
            [
             1,
             "#000031"
            ]
           ],
           "sequential": [
            [
             0,
             "#000011"
            ],
            [
             0.1111111111111111,
             "#000012"
            ],
            [
             0.2222222222222222,
             "#000013"
            ],
            [
             0.3333333333333333,
             "#000014"
            ],
            [
             0.4444444444444444,
             "#000015"
            ],
            [
             0.5555555555555556,
             "#000016"
            ],
            [
             0.6666666666666666,
             "#000017"
            ],
            [
             0.7777777777777778,
             "#000018"
            ],
            [
             0.8888888888888888,
             "#000019"
            ],
            [
             1,
             "#000020"
            ]
           ],
           "sequentialminus": [
            [
             0,
             "#000011"
            ],
            [
             0.1111111111111111,
             "#000012"
            ],
            [
             0.2222222222222222,
             "#000013"
            ],
            [
             0.3333333333333333,
             "#000014"
            ],
            [
             0.4444444444444444,
             "#000015"
            ],
            [
             0.5555555555555556,
             "#000016"
            ],
            [
             0.6666666666666666,
             "#000017"
            ],
            [
             0.7777777777777778,
             "#000018"
            ],
            [
             0.8888888888888888,
             "#000019"
            ],
            [
             1,
             "#000020"
            ]
           ]
          },
          "colorway": [
           "#000001",
           "#000002",
           "#000003",
           "#000004",
           "#000005",
           "#000006",
           "#000007",
           "#000008",
           "#000009",
           "#000010"
          ]
         }
        },
        "title": {
         "font": {
          "size": 24
         },
         "text": "Ratings of movies produced per year and genre",
         "x": 0.5,
         "xanchor": "center",
         "y": 0.9,
         "yanchor": "top"
        },
        "width": 1000,
        "xaxis": {
         "anchor": "y",
         "domain": [
          0,
          1
         ],
         "gridcolor": "lightgrey",
         "griddash": "dash",
         "linecolor": "black",
         "linewidth": 2,
         "range": [
          1979,
          2023
         ],
         "showline": true,
         "ticks": "outside",
         "title": {
          "text": "Year"
         }
        },
        "yaxis": {
         "anchor": "x",
         "domain": [
          0,
          1
         ],
         "gridcolor": "lightgrey",
         "griddash": "dash",
         "linecolor": "black",
         "linewidth": 2,
         "showline": true,
         "ticks": "outside",
         "title": {
          "text": "Weighted rating"
         }
        }
       }
      },
      "text/html": [
       "<div>                            <div id=\"bc9e3d1c-de60-4d3a-85fc-269189b99eea\" class=\"plotly-graph-div\" style=\"height:525px; width:1000px;\"></div>            <script type=\"text/javascript\">                require([\"plotly\"], function(Plotly) {                    window.PLOTLYENV=window.PLOTLYENV || {};                                    if (document.getElementById(\"bc9e3d1c-de60-4d3a-85fc-269189b99eea\")) {                    Plotly.newPlot(                        \"bc9e3d1c-de60-4d3a-85fc-269189b99eea\",                        [{\"hovertemplate\":\"Movie genre=Action<br>Year=%{x}<br>Weighted rating=%{y}<extra></extra>\",\"legendgroup\":\"Action\",\"line\":{\"color\":\"#FD3216\",\"dash\":\"solid\",\"shape\":\"spline\"},\"marker\":{\"symbol\":\"circle\"},\"mode\":\"lines+markers\",\"name\":\"Action\",\"orientation\":\"v\",\"showlegend\":true,\"x\":[1980,1981,1982,1983,1984,1985,1986,1987,1988,1989,1990,1991,1992,1993,1994,1995,1996,1997,1998,1999,2000,2001,2002,2003,2004,2005,2006,2007,2008,2009,2010,2011,2012,2013,2014,2015,2016,2017,2018,2019,2020,2021,2022,2023],\"xaxis\":\"x\",\"y\":[8.114136059678119,7.770792284153282,7.491040983810415,7.486860403789926,7.307730452076858,6.548579772179208,7.093447224257421,6.952081983326659,7.266174975863489,7.083067949245078,6.62033939414007,7.403376972318218,6.58605186167134,7.222486998588593,7.212038570648575,6.792955176987943,6.657197085571291,6.544570460681883,6.71751270836328,7.273475159336608,6.998247843553238,7.093176919692852,7.119381377132961,7.27269790774823,6.9505701444723105,7.012565939007859,6.933985937848043,6.82884808220721,7.173226793103358,6.890457037331385,7.034206968727946,6.776398257752573,7.02754628972767,6.737937902128048,6.921514492800166,6.952684843925023,6.749522942607457,6.984916819318334,6.864813350593625,6.909262026884098,6.182334888507567,6.721149247570608,6.815028610834002,6.6140191297437685],\"yaxis\":\"y\",\"type\":\"scatter\"},{\"hovertemplate\":\"Movie genre=Adventure<br>Year=%{x}<br>Weighted rating=%{y}<extra></extra>\",\"legendgroup\":\"Adventure\",\"line\":{\"color\":\"#00FE35\",\"dash\":\"solid\",\"shape\":\"spline\"},\"marker\":{\"symbol\":\"circle\"},\"mode\":\"lines+markers\",\"name\":\"Adventure\",\"orientation\":\"v\",\"showlegend\":true,\"x\":[1980,1981,1982,1983,1984,1985,1986,1987,1988,1989,1990,1991,1992,1993,1994,1995,1996,1997,1998,1999,2000,2001,2002,2003,2004,2005,2006,2007,2008,2009,2010,2011,2012,2013,2014,2015,2016,2017,2018,2019,2020,2021,2022,2023],\"xaxis\":\"x\",\"y\":[7.934840317149709,7.7326483969840805,7.386883288559124,7.555266012878509,6.965191258192633,7.417763769795719,7.531605122244409,7.1193242980101425,6.771998563414968,7.4292327294191685,7.260176935991279,6.6337503964143005,7.173498957549827,7.294906693487533,7.346572170774816,7.128101143967608,6.687445985974824,6.867419463096104,6.705610665748874,6.9047492637332235,7.284776880922085,7.631224575976737,7.209806217585062,7.593827133518278,6.99334424652769,6.745316508580736,6.869423370009016,6.834723687199161,6.823354562519967,7.2009453395992,7.321952356255593,6.647953601375673,6.953073830758652,6.843976591199252,7.332154902544257,7.117549284476643,6.696660636949453,6.905777863786487,7.0268302543338805,6.921083928632526,6.428908291822,7.077654951854556,6.654819165417637,6.583354067831633],\"yaxis\":\"y\",\"type\":\"scatter\"},{\"hovertemplate\":\"Movie genre=Comedy<br>Year=%{x}<br>Weighted rating=%{y}<extra></extra>\",\"legendgroup\":\"Comedy\",\"line\":{\"color\":\"#6A76FC\",\"dash\":\"solid\",\"shape\":\"spline\"},\"marker\":{\"symbol\":\"circle\"},\"mode\":\"lines+markers\",\"name\":\"Comedy\",\"orientation\":\"v\",\"showlegend\":true,\"x\":[1980,1981,1982,1983,1984,1985,1986,1987,1988,1989,1990,1991,1992,1993,1994,1995,1996,1997,1998,1999,2000,2001,2002,2003,2004,2005,2006,2007,2008,2009,2010,2011,2012,2013,2014,2015,2016,2017,2018,2019,2020,2021,2022,2023],\"xaxis\":\"x\",\"y\":[7.088511175810952,6.788464418459944,6.756849684062627,6.9657525200988335,7.0196091397067635,7.474552770481967,6.725235247632508,6.932030309068741,6.9333515537093,7.089849858874265,6.800840456863731,6.660269823019653,6.902338305987947,6.830054927338472,6.680965296567465,6.991620677322155,6.4398290617257725,6.924035386867354,7.211362564489207,6.824108314579463,6.739790961398198,6.887290458886038,6.372318100704243,6.7512720427701804,6.635197177618514,6.449684836324453,6.514281429277429,6.741450763105514,6.415296399548408,6.911532712491349,6.776358666656194,6.69364283216395,6.719721581656687,6.8330462922511,6.920628182102236,6.733886483780516,6.895826186072465,6.966765607167633,6.842270595742943,6.855915064379972,6.526335726786569,6.727843392090523,6.651942838765069,6.462102673862474],\"yaxis\":\"y\",\"type\":\"scatter\"},{\"hovertemplate\":\"Movie genre=Crime<br>Year=%{x}<br>Weighted rating=%{y}<extra></extra>\",\"legendgroup\":\"Crime\",\"line\":{\"color\":\"#FED4C4\",\"dash\":\"solid\",\"shape\":\"spline\"},\"marker\":{\"symbol\":\"circle\"},\"mode\":\"lines+markers\",\"name\":\"Crime\",\"orientation\":\"v\",\"showlegend\":true,\"x\":[1980,1981,1982,1983,1984,1985,1986,1987,1988,1989,1990,1991,1992,1993,1994,1995,1996,1997,1998,1999,2000,2001,2002,2003,2004,2005,2006,2007,2008,2009,2010,2011,2012,2013,2014,2015,2016,2017,2018,2019,2020,2021,2022,2023],\"xaxis\":\"x\",\"y\":[6.6612694514253805,6.940196211763639,6.854285422193048,7.682074088914358,7.420447079686115,6.8485016287193865,6.860898251656773,7.144554058357941,6.9203082457342715,6.605632826668448,7.548306055225302,7.780969382802143,7.385130471128767,7.2054360375309665,7.9706883956385,7.833097488516993,7.131763873460454,7.067124359747942,7.533994432502434,7.4409618219119915,7.1373932994608404,6.940709416248849,7.396160628902623,7.10010769343258,6.939393908229645,7.137464983742541,7.217910171293846,7.149061708840763,7.652754573354947,6.711701348195249,6.921296738889876,6.835066283802419,6.6950270213960135,7.062687490227086,6.999343623387496,6.953585329475086,6.6669594295517625,6.901934775866198,6.638716847164644,7.313164939375128,6.342763313752405,6.444195159108558,6.872438682659061,6.981946939974517],\"yaxis\":\"y\",\"type\":\"scatter\"},{\"hovertemplate\":\"Movie genre=Drama<br>Year=%{x}<br>Weighted rating=%{y}<extra></extra>\",\"legendgroup\":\"Drama\",\"line\":{\"color\":\"#FE00CE\",\"dash\":\"solid\",\"shape\":\"spline\"},\"marker\":{\"symbol\":\"circle\"},\"mode\":\"lines+markers\",\"name\":\"Drama\",\"orientation\":\"v\",\"showlegend\":true,\"x\":[1980,1981,1982,1983,1984,1985,1986,1987,1988,1989,1990,1991,1992,1993,1994,1995,1996,1997,1998,1999,2000,2001,2002,2003,2004,2005,2006,2007,2008,2009,2010,2011,2012,2013,2014,2015,2016,2017,2018,2019,2020,2021,2022,2023],\"xaxis\":\"x\",\"y\":[7.80956995510542,7.285750819543411,7.55224777974236,7.443645127068091,7.441191217498608,7.273648813392362,7.3420932972889235,7.418267344258274,7.420373179014661,7.26249103728202,7.518676908878499,7.571085663903621,7.191593673648813,7.639151250432706,8.341492972905765,7.769895521778016,7.021221144437121,7.506147571377739,7.503529634044361,7.717955016563457,7.45635526704643,7.467651100036719,7.494106067570239,7.665056214610366,7.334366677211206,7.261619807965191,7.46021382628649,7.296779971927477,7.330399282224928,7.181918520425619,6.971024256949641,7.107432082323587,7.262007772562177,7.08865451867077,7.28462776355029,7.04148338030438,7.103640356842257,7.051380009732664,6.926439133480442,7.348221120578824,6.577364360340726,6.8746543283391635,6.997869383374173,6.712470040409456],\"yaxis\":\"y\",\"type\":\"scatter\"},{\"hovertemplate\":\"Movie genre=Fantasy<br>Year=%{x}<br>Weighted rating=%{y}<extra></extra>\",\"legendgroup\":\"Fantasy\",\"line\":{\"color\":\"#0DF9FF\",\"dash\":\"solid\",\"shape\":\"spline\"},\"marker\":{\"symbol\":\"circle\"},\"mode\":\"lines+markers\",\"name\":\"Fantasy\",\"orientation\":\"v\",\"showlegend\":true,\"x\":[1980,1981,1982,1983,1984,1985,1986,1987,1988,1989,1990,1991,1992,1993,1994,1995,1996,1997,1998,1999,2000,2001,2002,2003,2004,2005,2006,2007,2008,2009,2010,2011,2012,2013,2014,2015,2016,2017,2018,2019,2020,2021,2022,2023],\"xaxis\":\"x\",\"y\":[8.554157661228338,6.899398456512571,6.962177671358887,8.066169014488427,7.1213865095775315,6.3978515743690805,6.828100729402095,6.469255512257156,7.023052054980802,6.677896309194782,7.13711032736745,7.105385758280251,6.842691190610325,7.399205115464625,6.808666321585357,6.594024977982673,6.287787419640348,6.220928385902641,6.916864261040305,7.431932299205045,6.046389437109103,6.71823377166781,6.606545769635452,7.231589445573116,6.769869731996777,6.886231075314296,7.12170369831885,6.350181451761238,6.468536670510203,6.809695402586358,6.585258621604103,6.615957531559929,6.901965107455995,6.759296455536366,6.414922713132468,6.384686029396522,6.744251985018489,6.571284716848062,6.439040517732341,6.4727359876845565,5.774193356947312,7.222952845472702,6.6580087202709235,6.158118672555994],\"yaxis\":\"y\",\"type\":\"scatter\"},{\"hovertemplate\":\"Movie genre=Horror<br>Year=%{x}<br>Weighted rating=%{y}<extra></extra>\",\"legendgroup\":\"Horror\",\"line\":{\"color\":\"#F6F926\",\"dash\":\"solid\",\"shape\":\"spline\"},\"marker\":{\"symbol\":\"circle\"},\"mode\":\"lines+markers\",\"name\":\"Horror\",\"orientation\":\"v\",\"showlegend\":true,\"x\":[1980,1981,1982,1983,1984,1985,1986,1987,1988,1989,1990,1991,1992,1993,1994,1995,1996,1997,1998,1999,2000,2001,2002,2003,2004,2005,2006,2007,2008,2009,2010,2011,2012,2013,2014,2015,2016,2017,2018,2019,2020,2021,2022,2023],\"xaxis\":\"x\",\"y\":[7.54088420997673,6.522100818700379,7.044348160018205,6.298213414644657,6.7148685989842,6.320471132455354,6.3771840151208306,6.908697827459039,6.108617993797634,5.760182684912571,6.288681856082045,5.195588117844375,6.720964928028911,5.349336080886567,6.9448905055892665,5.4406419882140495,6.869110217091256,6.190604551682186,6.261846216093996,6.4619220560695485,6.653809841718504,6.341478306637416,6.554679659633989,5.885037787685765,6.686984915144112,6.003754243881737,5.878198381638675,6.578594943918281,6.243023028610081,6.249710667872823,6.013439369846366,6.114215139638813,5.7627125317034125,6.334438881430707,6.118401385447628,5.979503432805384,6.5040659645114465,6.542401724789041,6.30499965560864,6.265169087424099,5.982175653736984,5.933765900861931,6.165789449903647,6.218668922262119],\"yaxis\":\"y\",\"type\":\"scatter\"},{\"hovertemplate\":\"Movie genre=Mystery<br>Year=%{x}<br>Weighted rating=%{y}<extra></extra>\",\"legendgroup\":\"Mystery\",\"line\":{\"color\":\"#FF9616\",\"dash\":\"solid\",\"shape\":\"spline\"},\"marker\":{\"symbol\":\"circle\"},\"mode\":\"lines+markers\",\"name\":\"Mystery\",\"orientation\":\"v\",\"showlegend\":true,\"x\":[1980,1981,1982,1983,1984,1985,1986,1987,1988,1989,1990,1991,1992,1993,1994,1995,1996,1997,1998,1999,2000,2001,2002,2003,2004,2005,2006,2007,2008,2009,2010,2011,2012,2013,2014,2015,2016,2017,2018,2019,2020,2021,2022,2023],\"xaxis\":\"x\",\"y\":[6.479300484110872,6.360483132845189,7.462358388027256,6.474684950958073,6.529205469431393,6.5423876212539245,7.301383688103278,6.56216689091365,6.920722213735838,6.896796822362163,6.8607145609519256,6.488216033470724,7.064643774913499,6.734869528725082,6.843076434296501,8.302191174387785,7.16021710494481,7.357990177585251,6.633849978296141,7.211064917924606,7.384965507738151,7.236315559498924,7.051112031111889,7.470062857419133,6.877698293679534,6.520591923974127,7.3293066989317595,7.124116130699493,6.3097421544499666,6.939488245229873,7.1858298001050365,6.925731383049903,6.639493585476827,7.181837670988807,6.844529394461525,6.686351008266159,6.848239661163864,6.969172545611937,6.506389492942126,6.372195555282569,6.474083402692608,6.3866393783244675,6.514332604202011,6.424597945948027],\"yaxis\":\"y\",\"type\":\"scatter\"},{\"hovertemplate\":\"Movie genre=Romance<br>Year=%{x}<br>Weighted rating=%{y}<extra></extra>\",\"legendgroup\":\"Romance\",\"line\":{\"color\":\"#479B55\",\"dash\":\"solid\",\"shape\":\"spline\"},\"marker\":{\"symbol\":\"circle\"},\"mode\":\"lines+markers\",\"name\":\"Romance\",\"orientation\":\"v\",\"showlegend\":true,\"x\":[1980,1981,1982,1983,1984,1985,1986,1987,1988,1989,1990,1991,1992,1993,1994,1995,1996,1997,1998,1999,2000,2001,2002,2003,2004,2005,2006,2007,2008,2009,2010,2011,2012,2013,2014,2015,2016,2017,2018,2019,2020,2021,2022,2023],\"xaxis\":\"x\",\"y\":[6.530743072055131,6.744336188345765,7.138172618994032,6.231219983827304,6.571825762416129,6.77708335728107,6.514813218358881,6.897798631672271,7.114685098972043,7.132079758071125,7.137367461786924,6.629787081821343,6.6539017048931575,6.892089259804784,7.9895823653856475,7.023587175079566,6.711712734005558,7.800613267122904,6.9808095129314465,6.65546500333342,6.904686330206355,6.943836350512909,6.602319860315711,6.794038922463805,7.161512344150377,6.854165896989306,6.478722227496558,6.628269542847314,6.795209817171456,6.795557738837933,6.503279274989572,6.764809155827283,6.8331559067604815,7.003773752422612,6.704777640276478,6.407358658031005,6.810764905893411,6.749660388867855,6.649209484583414,6.942833476421464,6.136388240460738,6.49448404175812,5.994524943829227,5.951150670457716],\"yaxis\":\"y\",\"type\":\"scatter\"},{\"hovertemplate\":\"Movie genre=Thriller<br>Year=%{x}<br>Weighted rating=%{y}<extra></extra>\",\"legendgroup\":\"Thriller\",\"line\":{\"color\":\"#EEA6FB\",\"dash\":\"solid\",\"shape\":\"spline\"},\"marker\":{\"symbol\":\"circle\"},\"mode\":\"lines+markers\",\"name\":\"Thriller\",\"orientation\":\"v\",\"showlegend\":true,\"x\":[1980,1981,1982,1983,1984,1985,1986,1987,1988,1989,1990,1991,1992,1993,1994,1995,1996,1997,1998,1999,2000,2001,2002,2003,2004,2005,2006,2007,2008,2009,2010,2011,2012,2013,2014,2015,2016,2017,2018,2019,2020,2021,2022,2023],\"xaxis\":\"x\",\"y\":[6.27755936801527,6.302132470218447,7.002932879322952,6.317775527067108,6.335490362367151,6.652209285841264,6.547138220328223,6.9508096896818765,7.370628696861542,6.409261583616327,7.019767839707024,7.9823563266251805,7.400801372910056,6.74673852833406,6.865495789224171,7.031301740040097,7.066257782686534,7.085722926813723,6.4549191169388775,7.308234986791808,7.235848762716649,6.9961986665814315,6.788493493222482,6.778446013524524,7.159904886911641,6.952152875712924,7.171052608552312,6.9970932321169705,6.7338743599174435,6.505171613704748,6.981170759178928,6.819185972723036,7.097769154947423,6.601724681947343,7.018223999898066,6.479332567266602,6.714426946119885,6.493301949244339,6.366210441007461,7.116541109437014,6.386314011742038,6.0368639874187116,6.314333415820986,6.635105740243672],\"yaxis\":\"y\",\"type\":\"scatter\"}],                        {\"template\":{\"data\":{\"candlestick\":[{\"decreasing\":{\"line\":{\"color\":\"#000033\"}},\"increasing\":{\"line\":{\"color\":\"#000032\"}},\"type\":\"candlestick\"}],\"contourcarpet\":[{\"colorscale\":[[0.0,\"#000011\"],[0.1111111111111111,\"#000012\"],[0.2222222222222222,\"#000013\"],[0.3333333333333333,\"#000014\"],[0.4444444444444444,\"#000015\"],[0.5555555555555556,\"#000016\"],[0.6666666666666666,\"#000017\"],[0.7777777777777778,\"#000018\"],[0.8888888888888888,\"#000019\"],[1.0,\"#000020\"]],\"type\":\"contourcarpet\"}],\"contour\":[{\"colorscale\":[[0.0,\"#000011\"],[0.1111111111111111,\"#000012\"],[0.2222222222222222,\"#000013\"],[0.3333333333333333,\"#000014\"],[0.4444444444444444,\"#000015\"],[0.5555555555555556,\"#000016\"],[0.6666666666666666,\"#000017\"],[0.7777777777777778,\"#000018\"],[0.8888888888888888,\"#000019\"],[1.0,\"#000020\"]],\"type\":\"contour\"}],\"heatmap\":[{\"colorscale\":[[0.0,\"#000011\"],[0.1111111111111111,\"#000012\"],[0.2222222222222222,\"#000013\"],[0.3333333333333333,\"#000014\"],[0.4444444444444444,\"#000015\"],[0.5555555555555556,\"#000016\"],[0.6666666666666666,\"#000017\"],[0.7777777777777778,\"#000018\"],[0.8888888888888888,\"#000019\"],[1.0,\"#000020\"]],\"type\":\"heatmap\"}],\"histogram2d\":[{\"colorscale\":[[0.0,\"#000011\"],[0.1111111111111111,\"#000012\"],[0.2222222222222222,\"#000013\"],[0.3333333333333333,\"#000014\"],[0.4444444444444444,\"#000015\"],[0.5555555555555556,\"#000016\"],[0.6666666666666666,\"#000017\"],[0.7777777777777778,\"#000018\"],[0.8888888888888888,\"#000019\"],[1.0,\"#000020\"]],\"type\":\"histogram2d\"}],\"icicle\":[{\"textfont\":{\"color\":\"white\"},\"type\":\"icicle\"}],\"sankey\":[{\"textfont\":{\"color\":\"#000036\"},\"type\":\"sankey\"}],\"scatter\":[{\"marker\":{\"line\":{\"width\":0}},\"type\":\"scatter\"}],\"table\":[{\"cells\":{\"fill\":{\"color\":\"#000038\"},\"font\":{\"color\":\"#000037\"},\"line\":{\"color\":\"#000039\"}},\"header\":{\"fill\":{\"color\":\"#000040\"},\"font\":{\"color\":\"#000036\"},\"line\":{\"color\":\"#000039\"}},\"type\":\"table\"}],\"waterfall\":[{\"connector\":{\"line\":{\"color\":\"#000036\",\"width\":2}},\"decreasing\":{\"marker\":{\"color\":\"#000033\"}},\"increasing\":{\"marker\":{\"color\":\"#000032\"}},\"totals\":{\"marker\":{\"color\":\"#000034\"}},\"type\":\"waterfall\"}]},\"layout\":{\"coloraxis\":{\"colorscale\":[[0.0,\"#000011\"],[0.1111111111111111,\"#000012\"],[0.2222222222222222,\"#000013\"],[0.3333333333333333,\"#000014\"],[0.4444444444444444,\"#000015\"],[0.5555555555555556,\"#000016\"],[0.6666666666666666,\"#000017\"],[0.7777777777777778,\"#000018\"],[0.8888888888888888,\"#000019\"],[1.0,\"#000020\"]]},\"colorscale\":{\"diverging\":[[0.0,\"#000021\"],[0.1,\"#000022\"],[0.2,\"#000023\"],[0.3,\"#000024\"],[0.4,\"#000025\"],[0.5,\"#000026\"],[0.6,\"#000027\"],[0.7,\"#000028\"],[0.8,\"#000029\"],[0.9,\"#000030\"],[1.0,\"#000031\"]],\"sequential\":[[0.0,\"#000011\"],[0.1111111111111111,\"#000012\"],[0.2222222222222222,\"#000013\"],[0.3333333333333333,\"#000014\"],[0.4444444444444444,\"#000015\"],[0.5555555555555556,\"#000016\"],[0.6666666666666666,\"#000017\"],[0.7777777777777778,\"#000018\"],[0.8888888888888888,\"#000019\"],[1.0,\"#000020\"]],\"sequentialminus\":[[0.0,\"#000011\"],[0.1111111111111111,\"#000012\"],[0.2222222222222222,\"#000013\"],[0.3333333333333333,\"#000014\"],[0.4444444444444444,\"#000015\"],[0.5555555555555556,\"#000016\"],[0.6666666666666666,\"#000017\"],[0.7777777777777778,\"#000018\"],[0.8888888888888888,\"#000019\"],[1.0,\"#000020\"]]},\"colorway\":[\"#000001\",\"#000002\",\"#000003\",\"#000004\",\"#000005\",\"#000006\",\"#000007\",\"#000008\",\"#000009\",\"#000010\"]}},\"xaxis\":{\"anchor\":\"y\",\"domain\":[0.0,1.0],\"title\":{\"text\":\"Year\"},\"ticks\":\"outside\",\"showline\":true,\"linecolor\":\"black\",\"linewidth\":2,\"gridcolor\":\"lightgrey\",\"griddash\":\"dash\",\"range\":[1979,2023]},\"yaxis\":{\"anchor\":\"x\",\"domain\":[0.0,1.0],\"title\":{\"text\":\"Weighted rating\"},\"ticks\":\"outside\",\"showline\":true,\"linecolor\":\"black\",\"linewidth\":2,\"gridcolor\":\"lightgrey\",\"griddash\":\"dash\"},\"legend\":{\"title\":{\"text\":\"Movie genre\"},\"tracegroupgap\":0},\"title\":{\"text\":\"Ratings of movies produced per year and genre\",\"font\":{\"size\":24},\"y\":0.9,\"x\":0.5,\"xanchor\":\"center\",\"yanchor\":\"top\"},\"width\":1000,\"plot_bgcolor\":\"white\"},                        {\"responsive\": true}                    ).then(function(){\n",
       "                            \n",
       "var gd = document.getElementById('bc9e3d1c-de60-4d3a-85fc-269189b99eea');\n",
       "var x = new MutationObserver(function (mutations, observer) {{\n",
       "        var display = window.getComputedStyle(gd).display;\n",
       "        if (!display || display === 'none') {{\n",
       "            console.log([gd, 'removed!']);\n",
       "            Plotly.purge(gd);\n",
       "            observer.disconnect();\n",
       "        }}\n",
       "}});\n",
       "\n",
       "// Listen for the removal of the full notebook cells\n",
       "var notebookContainer = gd.closest('#notebook-container');\n",
       "if (notebookContainer) {{\n",
       "    x.observe(notebookContainer, {childList: true});\n",
       "}}\n",
       "\n",
       "// Listen for the clearing of the current output cell\n",
       "var outputEl = gd.closest('.output');\n",
       "if (outputEl) {{\n",
       "    x.observe(outputEl, {childList: true});\n",
       "}}\n",
       "\n",
       "                        })                };                });            </script>        </div>"
      ]
     },
     "metadata": {},
     "output_type": "display_data"
    }
   ],
   "source": [
    "fig = px.line(data_frame = df_group_years_genres_to_plot, x = \"startYear\", y = \"weighted_rating\",\n",
    "                 color = \"genres\", color_discrete_sequence = px.colors.qualitative.Light24, markers = True,\n",
    "                 width = 1000, line_shape='spline',\n",
    "                 labels = {\"startYear\": \"Year\", \"weighted_rating\": \"Weighted rating\", \"genres\": \"Movie genre\"},\n",
    "                 title = \"Ratings of movies produced per year and genre\")\n",
    "\n",
    "fig.update_layout(title = {'y': 0.9, 'x': 0.5, 'xanchor': 'center', 'yanchor': 'top',\n",
    "                           'font' : dict(size = 24)},\n",
    "                  plot_bgcolor = 'white')\n",
    "\n",
    "fig.update_xaxes(ticks = 'outside', showline = True, linecolor = 'black', linewidth = 2,\n",
    "                 gridcolor = 'lightgrey', griddash = 'dash',\n",
    "                 range=[1979, 2023])\n",
    "fig.update_yaxes(ticks = 'outside', showline = True, linecolor = 'black', linewidth = 2,\n",
    "                 gridcolor = 'lightgrey', griddash = 'dash')\n",
    "\n",
    "fig.show()"
   ]
  },
  {
   "cell_type": "markdown",
   "id": "0831cb0a",
   "metadata": {},
   "source": [
    "## Evolution du nombre de films sortis par an et par genre"
   ]
  },
  {
   "cell_type": "markdown",
   "id": "f24b338f",
   "metadata": {},
   "source": [
    "### Groupement des données par genre et par année et aggrégation"
   ]
  },
  {
   "cell_type": "code",
   "execution_count": 32,
   "id": "62839980",
   "metadata": {
    "collapsed": true
   },
   "outputs": [
    {
     "name": "stderr",
     "output_type": "stream",
     "text": [
      "C:\\Users\\julie\\AppData\\Local\\Temp\\ipykernel_78744\\3995036159.py:5: SettingWithCopyWarning:\n",
      "\n",
      "\n",
      "A value is trying to be set on a copy of a slice from a DataFrame.\n",
      "Try using .loc[row_indexer,col_indexer] = value instead\n",
      "\n",
      "See the caveats in the documentation: https://pandas.pydata.org/pandas-docs/stable/user_guide/indexing.html#returning-a-view-versus-a-copy\n",
      "\n"
     ]
    },
    {
     "data": {
      "text/html": [
       "<div>\n",
       "<style scoped>\n",
       "    .dataframe tbody tr th:only-of-type {\n",
       "        vertical-align: middle;\n",
       "    }\n",
       "\n",
       "    .dataframe tbody tr th {\n",
       "        vertical-align: top;\n",
       "    }\n",
       "\n",
       "    .dataframe thead th {\n",
       "        text-align: right;\n",
       "    }\n",
       "</style>\n",
       "<table border=\"1\" class=\"dataframe\">\n",
       "  <thead>\n",
       "    <tr style=\"text-align: right;\">\n",
       "      <th></th>\n",
       "      <th>startYear</th>\n",
       "      <th>genres</th>\n",
       "      <th>nbMovies</th>\n",
       "    </tr>\n",
       "  </thead>\n",
       "  <tbody>\n",
       "    <tr>\n",
       "      <th>0</th>\n",
       "      <td>1980</td>\n",
       "      <td>Action</td>\n",
       "      <td>104</td>\n",
       "    </tr>\n",
       "    <tr>\n",
       "      <th>1</th>\n",
       "      <td>1980</td>\n",
       "      <td>Adventure</td>\n",
       "      <td>60</td>\n",
       "    </tr>\n",
       "    <tr>\n",
       "      <th>2</th>\n",
       "      <td>1980</td>\n",
       "      <td>Comedy</td>\n",
       "      <td>188</td>\n",
       "    </tr>\n",
       "    <tr>\n",
       "      <th>3</th>\n",
       "      <td>1980</td>\n",
       "      <td>Crime</td>\n",
       "      <td>72</td>\n",
       "    </tr>\n",
       "    <tr>\n",
       "      <th>4</th>\n",
       "      <td>1980</td>\n",
       "      <td>Drama</td>\n",
       "      <td>280</td>\n",
       "    </tr>\n",
       "    <tr>\n",
       "      <th>...</th>\n",
       "      <td>...</td>\n",
       "      <td>...</td>\n",
       "      <td>...</td>\n",
       "    </tr>\n",
       "    <tr>\n",
       "      <th>455</th>\n",
       "      <td>2026</td>\n",
       "      <td>Fantasy</td>\n",
       "      <td>1</td>\n",
       "    </tr>\n",
       "    <tr>\n",
       "      <th>456</th>\n",
       "      <td>2026</td>\n",
       "      <td>Romance</td>\n",
       "      <td>1</td>\n",
       "    </tr>\n",
       "    <tr>\n",
       "      <th>457</th>\n",
       "      <td>2028</td>\n",
       "      <td>Action</td>\n",
       "      <td>1</td>\n",
       "    </tr>\n",
       "    <tr>\n",
       "      <th>458</th>\n",
       "      <td>2028</td>\n",
       "      <td>Adventure</td>\n",
       "      <td>1</td>\n",
       "    </tr>\n",
       "    <tr>\n",
       "      <th>459</th>\n",
       "      <td>2028</td>\n",
       "      <td>Drama</td>\n",
       "      <td>1</td>\n",
       "    </tr>\n",
       "  </tbody>\n",
       "</table>\n",
       "<p>460 rows × 3 columns</p>\n",
       "</div>"
      ],
      "text/plain": [
       "     startYear     genres  nbMovies\n",
       "0         1980     Action       104\n",
       "1         1980  Adventure        60\n",
       "2         1980     Comedy       188\n",
       "3         1980      Crime        72\n",
       "4         1980      Drama       280\n",
       "..         ...        ...       ...\n",
       "455       2026    Fantasy         1\n",
       "456       2026    Romance         1\n",
       "457       2028     Action         1\n",
       "458       2028  Adventure         1\n",
       "459       2028      Drama         1\n",
       "\n",
       "[460 rows x 3 columns]"
      ]
     },
     "execution_count": 32,
     "metadata": {},
     "output_type": "execute_result"
    }
   ],
   "source": [
    "# Création d'un nouveau DataFrame avec uniquement les colonnes concernées (\"startYear\" et \"genres\"),\n",
    "# auxquelles on ajout une colnne \"nbMovies\".\n",
    "# Création du DataFrame df_years_genres_movies\n",
    "df_years_genres_movies = df_movie_title_fr_recent_years_exploded_trim[[\"startYear\", \"genres\"]]\n",
    "df_years_genres_movies[\"nbMovies\"] = 1\n",
    "\n",
    "# Nouveau DataFrame créé par groupement des films par année et par genre\n",
    "df_years_genres_group = df_years_genres_movies.groupby(by = [\"startYear\", \"genres\"]).sum()\n",
    "\n",
    "# Reset des index du DataFrame df_years_genres_group\n",
    "df_years_genres_group.reset_index(inplace = True)\n",
    "\n",
    "df_years_genres_group"
   ]
  },
  {
   "cell_type": "markdown",
   "id": "ed6cf7fb",
   "metadata": {},
   "source": [
    "### Tracé du line plot du nombre de films produits par an et par genre"
   ]
  },
  {
   "cell_type": "code",
   "execution_count": 33,
   "id": "8b9690ee",
   "metadata": {},
   "outputs": [
    {
     "data": {
      "application/vnd.plotly.v1+json": {
       "config": {
        "plotlyServerURL": "https://plot.ly"
       },
       "data": [
        {
         "hovertemplate": "Movie genres=Action<br>Year=%{x}<br>Number of movies=%{y}<extra></extra>",
         "legendgroup": "Action",
         "line": {
          "color": "#FD3216",
          "dash": "solid"
         },
         "marker": {
          "symbol": "circle"
         },
         "mode": "lines+markers",
         "name": "Action",
         "orientation": "v",
         "showlegend": true,
         "type": "scatter",
         "x": [
          1980,
          1981,
          1982,
          1983,
          1984,
          1985,
          1986,
          1987,
          1988,
          1989,
          1990,
          1991,
          1992,
          1993,
          1994,
          1995,
          1996,
          1997,
          1998,
          1999,
          2000,
          2001,
          2002,
          2003,
          2004,
          2005,
          2006,
          2007,
          2008,
          2009,
          2010,
          2011,
          2012,
          2013,
          2014,
          2015,
          2016,
          2017,
          2018,
          2019,
          2020,
          2021,
          2022,
          2023,
          2024,
          2025,
          2026,
          2028
         ],
         "xaxis": "x",
         "y": [
          104,
          74,
          100,
          104,
          107,
          114,
          132,
          151,
          134,
          140,
          112,
          92,
          92,
          106,
          112,
          94,
          98,
          125,
          109,
          94,
          93,
          133,
          127,
          102,
          129,
          110,
          115,
          125,
          146,
          175,
          182,
          173,
          180,
          199,
          213,
          194,
          239,
          233,
          259,
          287,
          208,
          260,
          305,
          151,
          16,
          3,
          2,
          1
         ],
         "yaxis": "y"
        },
        {
         "hovertemplate": "Movie genres=Adventure<br>Year=%{x}<br>Number of movies=%{y}<extra></extra>",
         "legendgroup": "Adventure",
         "line": {
          "color": "#00FE35",
          "dash": "solid"
         },
         "marker": {
          "symbol": "circle"
         },
         "mode": "lines+markers",
         "name": "Adventure",
         "orientation": "v",
         "showlegend": true,
         "type": "scatter",
         "x": [
          1980,
          1981,
          1982,
          1983,
          1984,
          1985,
          1986,
          1987,
          1988,
          1989,
          1990,
          1991,
          1992,
          1993,
          1994,
          1995,
          1996,
          1997,
          1998,
          1999,
          2000,
          2001,
          2002,
          2003,
          2004,
          2005,
          2006,
          2007,
          2008,
          2009,
          2010,
          2011,
          2012,
          2013,
          2014,
          2015,
          2016,
          2017,
          2018,
          2019,
          2020,
          2021,
          2022,
          2023,
          2024,
          2025,
          2026,
          2028
         ],
         "xaxis": "x",
         "y": [
          60,
          55,
          54,
          67,
          63,
          65,
          68,
          67,
          53,
          62,
          51,
          46,
          42,
          38,
          62,
          53,
          58,
          58,
          65,
          63,
          70,
          60,
          78,
          78,
          82,
          83,
          102,
          91,
          99,
          118,
          101,
          124,
          133,
          155,
          163,
          164,
          164,
          183,
          185,
          190,
          137,
          166,
          167,
          84,
          20,
          6,
          2,
          1
         ],
         "yaxis": "y"
        },
        {
         "hovertemplate": "Movie genres=Comedy<br>Year=%{x}<br>Number of movies=%{y}<extra></extra>",
         "legendgroup": "Comedy",
         "line": {
          "color": "#6A76FC",
          "dash": "solid"
         },
         "marker": {
          "symbol": "circle"
         },
         "mode": "lines+markers",
         "name": "Comedy",
         "orientation": "v",
         "showlegend": true,
         "type": "scatter",
         "x": [
          1980,
          1981,
          1982,
          1983,
          1984,
          1985,
          1986,
          1987,
          1988,
          1989,
          1990,
          1991,
          1992,
          1993,
          1994,
          1995,
          1996,
          1997,
          1998,
          1999,
          2000,
          2001,
          2002,
          2003,
          2004,
          2005,
          2006,
          2007,
          2008,
          2009,
          2010,
          2011,
          2012,
          2013,
          2014,
          2015,
          2016,
          2017,
          2018,
          2019,
          2020,
          2021,
          2022,
          2023,
          2024,
          2025
         ],
         "xaxis": "x",
         "y": [
          188,
          140,
          150,
          154,
          156,
          168,
          182,
          184,
          187,
          193,
          176,
          162,
          163,
          175,
          202,
          195,
          217,
          235,
          271,
          286,
          271,
          248,
          243,
          243,
          265,
          267,
          298,
          263,
          289,
          299,
          273,
          298,
          332,
          337,
          362,
          376,
          390,
          419,
          425,
          477,
          420,
          365,
          540,
          201,
          9,
          3
         ],
         "yaxis": "y"
        },
        {
         "hovertemplate": "Movie genres=Crime<br>Year=%{x}<br>Number of movies=%{y}<extra></extra>",
         "legendgroup": "Crime",
         "line": {
          "color": "#FED4C4",
          "dash": "solid"
         },
         "marker": {
          "symbol": "circle"
         },
         "mode": "lines+markers",
         "name": "Crime",
         "orientation": "v",
         "showlegend": true,
         "type": "scatter",
         "x": [
          1980,
          1981,
          1982,
          1983,
          1984,
          1985,
          1986,
          1987,
          1988,
          1989,
          1990,
          1991,
          1992,
          1993,
          1994,
          1995,
          1996,
          1997,
          1998,
          1999,
          2000,
          2001,
          2002,
          2003,
          2004,
          2005,
          2006,
          2007,
          2008,
          2009,
          2010,
          2011,
          2012,
          2013,
          2014,
          2015,
          2016,
          2017,
          2018,
          2019,
          2020,
          2021,
          2022,
          2023,
          2024
         ],
         "xaxis": "x",
         "y": [
          72,
          58,
          65,
          70,
          82,
          89,
          84,
          99,
          95,
          91,
          101,
          80,
          101,
          98,
          91,
          90,
          90,
          112,
          128,
          97,
          126,
          125,
          129,
          97,
          95,
          115,
          106,
          133,
          142,
          123,
          119,
          108,
          135,
          155,
          146,
          127,
          175,
          188,
          183,
          222,
          144,
          200,
          206,
          65,
          4
         ],
         "yaxis": "y"
        },
        {
         "hovertemplate": "Movie genres=Drama<br>Year=%{x}<br>Number of movies=%{y}<extra></extra>",
         "legendgroup": "Drama",
         "line": {
          "color": "#FE00CE",
          "dash": "solid"
         },
         "marker": {
          "symbol": "circle"
         },
         "mode": "lines+markers",
         "name": "Drama",
         "orientation": "v",
         "showlegend": true,
         "type": "scatter",
         "x": [
          1980,
          1981,
          1982,
          1983,
          1984,
          1985,
          1986,
          1987,
          1988,
          1989,
          1990,
          1991,
          1992,
          1993,
          1994,
          1995,
          1996,
          1997,
          1998,
          1999,
          2000,
          2001,
          2002,
          2003,
          2004,
          2005,
          2006,
          2007,
          2008,
          2009,
          2010,
          2011,
          2012,
          2013,
          2014,
          2015,
          2016,
          2017,
          2018,
          2019,
          2020,
          2021,
          2022,
          2023,
          2024,
          2028
         ],
         "xaxis": "x",
         "y": [
          280,
          252,
          259,
          271,
          264,
          257,
          278,
          301,
          308,
          328,
          284,
          321,
          303,
          314,
          316,
          350,
          344,
          385,
          422,
          435,
          453,
          447,
          469,
          403,
          450,
          474,
          559,
          536,
          544,
          568,
          571,
          621,
          646,
          703,
          751,
          806,
          824,
          899,
          976,
          1095,
          823,
          888,
          960,
          348,
          12,
          1
         ],
         "yaxis": "y"
        },
        {
         "hovertemplate": "Movie genres=Fantasy<br>Year=%{x}<br>Number of movies=%{y}<extra></extra>",
         "legendgroup": "Fantasy",
         "line": {
          "color": "#0DF9FF",
          "dash": "solid"
         },
         "marker": {
          "symbol": "circle"
         },
         "mode": "lines+markers",
         "name": "Fantasy",
         "orientation": "v",
         "showlegend": true,
         "type": "scatter",
         "x": [
          1980,
          1981,
          1982,
          1983,
          1984,
          1985,
          1986,
          1987,
          1988,
          1989,
          1990,
          1991,
          1992,
          1993,
          1994,
          1995,
          1996,
          1997,
          1998,
          1999,
          2000,
          2001,
          2002,
          2003,
          2004,
          2005,
          2006,
          2007,
          2008,
          2009,
          2010,
          2011,
          2012,
          2013,
          2014,
          2015,
          2016,
          2017,
          2018,
          2019,
          2020,
          2021,
          2022,
          2023,
          2024,
          2025,
          2026
         ],
         "xaxis": "x",
         "y": [
          18,
          21,
          27,
          33,
          28,
          35,
          39,
          48,
          47,
          39,
          38,
          41,
          29,
          37,
          25,
          29,
          37,
          28,
          31,
          38,
          41,
          51,
          38,
          34,
          43,
          41,
          58,
          54,
          44,
          60,
          52,
          64,
          52,
          61,
          63,
          70,
          80,
          84,
          89,
          88,
          88,
          72,
          81,
          27,
          4,
          1,
          1
         ],
         "yaxis": "y"
        },
        {
         "hovertemplate": "Movie genres=Horror<br>Year=%{x}<br>Number of movies=%{y}<extra></extra>",
         "legendgroup": "Horror",
         "line": {
          "color": "#F6F926",
          "dash": "solid"
         },
         "marker": {
          "symbol": "circle"
         },
         "mode": "lines+markers",
         "name": "Horror",
         "orientation": "v",
         "showlegend": true,
         "type": "scatter",
         "x": [
          1980,
          1981,
          1982,
          1983,
          1984,
          1985,
          1986,
          1987,
          1988,
          1989,
          1990,
          1991,
          1992,
          1993,
          1994,
          1995,
          1996,
          1997,
          1998,
          1999,
          2000,
          2001,
          2002,
          2003,
          2004,
          2005,
          2006,
          2007,
          2008,
          2009,
          2010,
          2011,
          2012,
          2013,
          2014,
          2015,
          2016,
          2017,
          2018,
          2019,
          2020,
          2021,
          2022,
          2023,
          2024
         ],
         "xaxis": "x",
         "y": [
          74,
          88,
          77,
          49,
          53,
          54,
          71,
          88,
          113,
          86,
          72,
          41,
          44,
          37,
          33,
          44,
          33,
          37,
          54,
          48,
          54,
          55,
          52,
          54,
          66,
          77,
          102,
          107,
          115,
          115,
          109,
          112,
          125,
          113,
          113,
          123,
          143,
          154,
          176,
          197,
          210,
          196,
          261,
          72,
          1
         ],
         "yaxis": "y"
        },
        {
         "hovertemplate": "Movie genres=Mystery<br>Year=%{x}<br>Number of movies=%{y}<extra></extra>",
         "legendgroup": "Mystery",
         "line": {
          "color": "#FF9616",
          "dash": "solid"
         },
         "marker": {
          "symbol": "circle"
         },
         "mode": "lines+markers",
         "name": "Mystery",
         "orientation": "v",
         "showlegend": true,
         "type": "scatter",
         "x": [
          1980,
          1981,
          1982,
          1983,
          1984,
          1985,
          1986,
          1987,
          1988,
          1989,
          1990,
          1991,
          1992,
          1993,
          1994,
          1995,
          1996,
          1997,
          1998,
          1999,
          2000,
          2001,
          2002,
          2003,
          2004,
          2005,
          2006,
          2007,
          2008,
          2009,
          2010,
          2011,
          2012,
          2013,
          2014,
          2015,
          2016,
          2017,
          2018,
          2019,
          2020,
          2021,
          2022,
          2023
         ],
         "xaxis": "x",
         "y": [
          32,
          29,
          36,
          28,
          22,
          27,
          25,
          32,
          30,
          21,
          21,
          28,
          22,
          29,
          29,
          28,
          31,
          41,
          48,
          37,
          55,
          48,
          53,
          38,
          39,
          54,
          59,
          64,
          70,
          80,
          65,
          62,
          67,
          66,
          83,
          87,
          93,
          117,
          132,
          151,
          111,
          122,
          129,
          40
         ],
         "yaxis": "y"
        },
        {
         "hovertemplate": "Movie genres=Romance<br>Year=%{x}<br>Number of movies=%{y}<extra></extra>",
         "legendgroup": "Romance",
         "line": {
          "color": "#479B55",
          "dash": "solid"
         },
         "marker": {
          "symbol": "circle"
         },
         "mode": "lines+markers",
         "name": "Romance",
         "orientation": "v",
         "showlegend": true,
         "type": "scatter",
         "x": [
          1980,
          1981,
          1982,
          1983,
          1984,
          1985,
          1986,
          1987,
          1988,
          1989,
          1990,
          1991,
          1992,
          1993,
          1994,
          1995,
          1996,
          1997,
          1998,
          1999,
          2000,
          2001,
          2002,
          2003,
          2004,
          2005,
          2006,
          2007,
          2008,
          2009,
          2010,
          2011,
          2012,
          2013,
          2014,
          2015,
          2016,
          2017,
          2018,
          2019,
          2020,
          2021,
          2022,
          2023,
          2024,
          2026
         ],
         "xaxis": "x",
         "y": [
          45,
          64,
          47,
          60,
          63,
          69,
          56,
          74,
          83,
          81,
          71,
          84,
          84,
          78,
          88,
          102,
          103,
          109,
          138,
          142,
          146,
          147,
          143,
          108,
          141,
          129,
          136,
          126,
          135,
          150,
          139,
          136,
          128,
          159,
          174,
          158,
          153,
          157,
          164,
          184,
          166,
          158,
          214,
          62,
          1,
          1
         ],
         "yaxis": "y"
        },
        {
         "hovertemplate": "Movie genres=Thriller<br>Year=%{x}<br>Number of movies=%{y}<extra></extra>",
         "legendgroup": "Thriller",
         "line": {
          "color": "#EEA6FB",
          "dash": "solid"
         },
         "marker": {
          "symbol": "circle"
         },
         "mode": "lines+markers",
         "name": "Thriller",
         "orientation": "v",
         "showlegend": true,
         "type": "scatter",
         "x": [
          1980,
          1981,
          1982,
          1983,
          1984,
          1985,
          1986,
          1987,
          1988,
          1989,
          1990,
          1991,
          1992,
          1993,
          1994,
          1995,
          1996,
          1997,
          1998,
          1999,
          2000,
          2001,
          2002,
          2003,
          2004,
          2005,
          2006,
          2007,
          2008,
          2009,
          2010,
          2011,
          2012,
          2013,
          2014,
          2015,
          2016,
          2017,
          2018,
          2019,
          2020,
          2021,
          2022,
          2023,
          2024
         ],
         "xaxis": "x",
         "y": [
          59,
          54,
          57,
          61,
          69,
          57,
          61,
          78,
          68,
          84,
          69,
          65,
          75,
          73,
          77,
          83,
          104,
          109,
          106,
          115,
          105,
          100,
          94,
          95,
          98,
          86,
          135,
          131,
          159,
          151,
          153,
          144,
          168,
          189,
          197,
          186,
          205,
          244,
          257,
          284,
          253,
          275,
          389,
          135,
          4
         ],
         "yaxis": "y"
        }
       ],
       "layout": {
        "height": 600,
        "legend": {
         "title": {
          "text": "Movie genres"
         },
         "tracegroupgap": 0
        },
        "plot_bgcolor": "white",
        "template": {
         "data": {
          "candlestick": [
           {
            "decreasing": {
             "line": {
              "color": "#000033"
             }
            },
            "increasing": {
             "line": {
              "color": "#000032"
             }
            },
            "type": "candlestick"
           }
          ],
          "contour": [
           {
            "colorscale": [
             [
              0,
              "#000011"
             ],
             [
              0.1111111111111111,
              "#000012"
             ],
             [
              0.2222222222222222,
              "#000013"
             ],
             [
              0.3333333333333333,
              "#000014"
             ],
             [
              0.4444444444444444,
              "#000015"
             ],
             [
              0.5555555555555556,
              "#000016"
             ],
             [
              0.6666666666666666,
              "#000017"
             ],
             [
              0.7777777777777778,
              "#000018"
             ],
             [
              0.8888888888888888,
              "#000019"
             ],
             [
              1,
              "#000020"
             ]
            ],
            "type": "contour"
           }
          ],
          "contourcarpet": [
           {
            "colorscale": [
             [
              0,
              "#000011"
             ],
             [
              0.1111111111111111,
              "#000012"
             ],
             [
              0.2222222222222222,
              "#000013"
             ],
             [
              0.3333333333333333,
              "#000014"
             ],
             [
              0.4444444444444444,
              "#000015"
             ],
             [
              0.5555555555555556,
              "#000016"
             ],
             [
              0.6666666666666666,
              "#000017"
             ],
             [
              0.7777777777777778,
              "#000018"
             ],
             [
              0.8888888888888888,
              "#000019"
             ],
             [
              1,
              "#000020"
             ]
            ],
            "type": "contourcarpet"
           }
          ],
          "heatmap": [
           {
            "colorscale": [
             [
              0,
              "#000011"
             ],
             [
              0.1111111111111111,
              "#000012"
             ],
             [
              0.2222222222222222,
              "#000013"
             ],
             [
              0.3333333333333333,
              "#000014"
             ],
             [
              0.4444444444444444,
              "#000015"
             ],
             [
              0.5555555555555556,
              "#000016"
             ],
             [
              0.6666666666666666,
              "#000017"
             ],
             [
              0.7777777777777778,
              "#000018"
             ],
             [
              0.8888888888888888,
              "#000019"
             ],
             [
              1,
              "#000020"
             ]
            ],
            "type": "heatmap"
           }
          ],
          "histogram2d": [
           {
            "colorscale": [
             [
              0,
              "#000011"
             ],
             [
              0.1111111111111111,
              "#000012"
             ],
             [
              0.2222222222222222,
              "#000013"
             ],
             [
              0.3333333333333333,
              "#000014"
             ],
             [
              0.4444444444444444,
              "#000015"
             ],
             [
              0.5555555555555556,
              "#000016"
             ],
             [
              0.6666666666666666,
              "#000017"
             ],
             [
              0.7777777777777778,
              "#000018"
             ],
             [
              0.8888888888888888,
              "#000019"
             ],
             [
              1,
              "#000020"
             ]
            ],
            "type": "histogram2d"
           }
          ],
          "icicle": [
           {
            "textfont": {
             "color": "white"
            },
            "type": "icicle"
           }
          ],
          "sankey": [
           {
            "textfont": {
             "color": "#000036"
            },
            "type": "sankey"
           }
          ],
          "scatter": [
           {
            "marker": {
             "line": {
              "width": 0
             }
            },
            "type": "scatter"
           }
          ],
          "table": [
           {
            "cells": {
             "fill": {
              "color": "#000038"
             },
             "font": {
              "color": "#000037"
             },
             "line": {
              "color": "#000039"
             }
            },
            "header": {
             "fill": {
              "color": "#000040"
             },
             "font": {
              "color": "#000036"
             },
             "line": {
              "color": "#000039"
             }
            },
            "type": "table"
           }
          ],
          "waterfall": [
           {
            "connector": {
             "line": {
              "color": "#000036",
              "width": 2
             }
            },
            "decreasing": {
             "marker": {
              "color": "#000033"
             }
            },
            "increasing": {
             "marker": {
              "color": "#000032"
             }
            },
            "totals": {
             "marker": {
              "color": "#000034"
             }
            },
            "type": "waterfall"
           }
          ]
         },
         "layout": {
          "coloraxis": {
           "colorscale": [
            [
             0,
             "#000011"
            ],
            [
             0.1111111111111111,
             "#000012"
            ],
            [
             0.2222222222222222,
             "#000013"
            ],
            [
             0.3333333333333333,
             "#000014"
            ],
            [
             0.4444444444444444,
             "#000015"
            ],
            [
             0.5555555555555556,
             "#000016"
            ],
            [
             0.6666666666666666,
             "#000017"
            ],
            [
             0.7777777777777778,
             "#000018"
            ],
            [
             0.8888888888888888,
             "#000019"
            ],
            [
             1,
             "#000020"
            ]
           ]
          },
          "colorscale": {
           "diverging": [
            [
             0,
             "#000021"
            ],
            [
             0.1,
             "#000022"
            ],
            [
             0.2,
             "#000023"
            ],
            [
             0.3,
             "#000024"
            ],
            [
             0.4,
             "#000025"
            ],
            [
             0.5,
             "#000026"
            ],
            [
             0.6,
             "#000027"
            ],
            [
             0.7,
             "#000028"
            ],
            [
             0.8,
             "#000029"
            ],
            [
             0.9,
             "#000030"
            ],
            [
             1,
             "#000031"
            ]
           ],
           "sequential": [
            [
             0,
             "#000011"
            ],
            [
             0.1111111111111111,
             "#000012"
            ],
            [
             0.2222222222222222,
             "#000013"
            ],
            [
             0.3333333333333333,
             "#000014"
            ],
            [
             0.4444444444444444,
             "#000015"
            ],
            [
             0.5555555555555556,
             "#000016"
            ],
            [
             0.6666666666666666,
             "#000017"
            ],
            [
             0.7777777777777778,
             "#000018"
            ],
            [
             0.8888888888888888,
             "#000019"
            ],
            [
             1,
             "#000020"
            ]
           ],
           "sequentialminus": [
            [
             0,
             "#000011"
            ],
            [
             0.1111111111111111,
             "#000012"
            ],
            [
             0.2222222222222222,
             "#000013"
            ],
            [
             0.3333333333333333,
             "#000014"
            ],
            [
             0.4444444444444444,
             "#000015"
            ],
            [
             0.5555555555555556,
             "#000016"
            ],
            [
             0.6666666666666666,
             "#000017"
            ],
            [
             0.7777777777777778,
             "#000018"
            ],
            [
             0.8888888888888888,
             "#000019"
            ],
            [
             1,
             "#000020"
            ]
           ]
          },
          "colorway": [
           "#000001",
           "#000002",
           "#000003",
           "#000004",
           "#000005",
           "#000006",
           "#000007",
           "#000008",
           "#000009",
           "#000010"
          ]
         }
        },
        "title": {
         "font": {
          "size": 24
         },
         "text": "Number of movies produced per year and genre",
         "x": 0.5,
         "xanchor": "center",
         "y": 0.9,
         "yanchor": "top"
        },
        "xaxis": {
         "anchor": "y",
         "domain": [
          0,
          1
         ],
         "gridcolor": "lightgrey",
         "griddash": "dash",
         "linecolor": "black",
         "linewidth": 2,
         "range": [
          1979,
          2023
         ],
         "showline": true,
         "ticks": "outside",
         "title": {
          "text": "Year"
         }
        },
        "yaxis": {
         "anchor": "x",
         "domain": [
          0,
          1
         ],
         "gridcolor": "lightgrey",
         "griddash": "dash",
         "linecolor": "black",
         "linewidth": 2,
         "range": [
          0,
          1100
         ],
         "showline": true,
         "ticks": "outside",
         "title": {
          "text": "Number of movies"
         }
        }
       }
      },
      "text/html": [
       "<div>                            <div id=\"2028d750-b407-4f60-a2b0-be041f07771c\" class=\"plotly-graph-div\" style=\"height:600px; width:100%;\"></div>            <script type=\"text/javascript\">                require([\"plotly\"], function(Plotly) {                    window.PLOTLYENV=window.PLOTLYENV || {};                                    if (document.getElementById(\"2028d750-b407-4f60-a2b0-be041f07771c\")) {                    Plotly.newPlot(                        \"2028d750-b407-4f60-a2b0-be041f07771c\",                        [{\"hovertemplate\":\"Movie genres=Action<br>Year=%{x}<br>Number of movies=%{y}<extra></extra>\",\"legendgroup\":\"Action\",\"line\":{\"color\":\"#FD3216\",\"dash\":\"solid\"},\"marker\":{\"symbol\":\"circle\"},\"mode\":\"lines+markers\",\"name\":\"Action\",\"orientation\":\"v\",\"showlegend\":true,\"x\":[1980,1981,1982,1983,1984,1985,1986,1987,1988,1989,1990,1991,1992,1993,1994,1995,1996,1997,1998,1999,2000,2001,2002,2003,2004,2005,2006,2007,2008,2009,2010,2011,2012,2013,2014,2015,2016,2017,2018,2019,2020,2021,2022,2023,2024,2025,2026,2028],\"xaxis\":\"x\",\"y\":[104,74,100,104,107,114,132,151,134,140,112,92,92,106,112,94,98,125,109,94,93,133,127,102,129,110,115,125,146,175,182,173,180,199,213,194,239,233,259,287,208,260,305,151,16,3,2,1],\"yaxis\":\"y\",\"type\":\"scatter\"},{\"hovertemplate\":\"Movie genres=Adventure<br>Year=%{x}<br>Number of movies=%{y}<extra></extra>\",\"legendgroup\":\"Adventure\",\"line\":{\"color\":\"#00FE35\",\"dash\":\"solid\"},\"marker\":{\"symbol\":\"circle\"},\"mode\":\"lines+markers\",\"name\":\"Adventure\",\"orientation\":\"v\",\"showlegend\":true,\"x\":[1980,1981,1982,1983,1984,1985,1986,1987,1988,1989,1990,1991,1992,1993,1994,1995,1996,1997,1998,1999,2000,2001,2002,2003,2004,2005,2006,2007,2008,2009,2010,2011,2012,2013,2014,2015,2016,2017,2018,2019,2020,2021,2022,2023,2024,2025,2026,2028],\"xaxis\":\"x\",\"y\":[60,55,54,67,63,65,68,67,53,62,51,46,42,38,62,53,58,58,65,63,70,60,78,78,82,83,102,91,99,118,101,124,133,155,163,164,164,183,185,190,137,166,167,84,20,6,2,1],\"yaxis\":\"y\",\"type\":\"scatter\"},{\"hovertemplate\":\"Movie genres=Comedy<br>Year=%{x}<br>Number of movies=%{y}<extra></extra>\",\"legendgroup\":\"Comedy\",\"line\":{\"color\":\"#6A76FC\",\"dash\":\"solid\"},\"marker\":{\"symbol\":\"circle\"},\"mode\":\"lines+markers\",\"name\":\"Comedy\",\"orientation\":\"v\",\"showlegend\":true,\"x\":[1980,1981,1982,1983,1984,1985,1986,1987,1988,1989,1990,1991,1992,1993,1994,1995,1996,1997,1998,1999,2000,2001,2002,2003,2004,2005,2006,2007,2008,2009,2010,2011,2012,2013,2014,2015,2016,2017,2018,2019,2020,2021,2022,2023,2024,2025],\"xaxis\":\"x\",\"y\":[188,140,150,154,156,168,182,184,187,193,176,162,163,175,202,195,217,235,271,286,271,248,243,243,265,267,298,263,289,299,273,298,332,337,362,376,390,419,425,477,420,365,540,201,9,3],\"yaxis\":\"y\",\"type\":\"scatter\"},{\"hovertemplate\":\"Movie genres=Crime<br>Year=%{x}<br>Number of movies=%{y}<extra></extra>\",\"legendgroup\":\"Crime\",\"line\":{\"color\":\"#FED4C4\",\"dash\":\"solid\"},\"marker\":{\"symbol\":\"circle\"},\"mode\":\"lines+markers\",\"name\":\"Crime\",\"orientation\":\"v\",\"showlegend\":true,\"x\":[1980,1981,1982,1983,1984,1985,1986,1987,1988,1989,1990,1991,1992,1993,1994,1995,1996,1997,1998,1999,2000,2001,2002,2003,2004,2005,2006,2007,2008,2009,2010,2011,2012,2013,2014,2015,2016,2017,2018,2019,2020,2021,2022,2023,2024],\"xaxis\":\"x\",\"y\":[72,58,65,70,82,89,84,99,95,91,101,80,101,98,91,90,90,112,128,97,126,125,129,97,95,115,106,133,142,123,119,108,135,155,146,127,175,188,183,222,144,200,206,65,4],\"yaxis\":\"y\",\"type\":\"scatter\"},{\"hovertemplate\":\"Movie genres=Drama<br>Year=%{x}<br>Number of movies=%{y}<extra></extra>\",\"legendgroup\":\"Drama\",\"line\":{\"color\":\"#FE00CE\",\"dash\":\"solid\"},\"marker\":{\"symbol\":\"circle\"},\"mode\":\"lines+markers\",\"name\":\"Drama\",\"orientation\":\"v\",\"showlegend\":true,\"x\":[1980,1981,1982,1983,1984,1985,1986,1987,1988,1989,1990,1991,1992,1993,1994,1995,1996,1997,1998,1999,2000,2001,2002,2003,2004,2005,2006,2007,2008,2009,2010,2011,2012,2013,2014,2015,2016,2017,2018,2019,2020,2021,2022,2023,2024,2028],\"xaxis\":\"x\",\"y\":[280,252,259,271,264,257,278,301,308,328,284,321,303,314,316,350,344,385,422,435,453,447,469,403,450,474,559,536,544,568,571,621,646,703,751,806,824,899,976,1095,823,888,960,348,12,1],\"yaxis\":\"y\",\"type\":\"scatter\"},{\"hovertemplate\":\"Movie genres=Fantasy<br>Year=%{x}<br>Number of movies=%{y}<extra></extra>\",\"legendgroup\":\"Fantasy\",\"line\":{\"color\":\"#0DF9FF\",\"dash\":\"solid\"},\"marker\":{\"symbol\":\"circle\"},\"mode\":\"lines+markers\",\"name\":\"Fantasy\",\"orientation\":\"v\",\"showlegend\":true,\"x\":[1980,1981,1982,1983,1984,1985,1986,1987,1988,1989,1990,1991,1992,1993,1994,1995,1996,1997,1998,1999,2000,2001,2002,2003,2004,2005,2006,2007,2008,2009,2010,2011,2012,2013,2014,2015,2016,2017,2018,2019,2020,2021,2022,2023,2024,2025,2026],\"xaxis\":\"x\",\"y\":[18,21,27,33,28,35,39,48,47,39,38,41,29,37,25,29,37,28,31,38,41,51,38,34,43,41,58,54,44,60,52,64,52,61,63,70,80,84,89,88,88,72,81,27,4,1,1],\"yaxis\":\"y\",\"type\":\"scatter\"},{\"hovertemplate\":\"Movie genres=Horror<br>Year=%{x}<br>Number of movies=%{y}<extra></extra>\",\"legendgroup\":\"Horror\",\"line\":{\"color\":\"#F6F926\",\"dash\":\"solid\"},\"marker\":{\"symbol\":\"circle\"},\"mode\":\"lines+markers\",\"name\":\"Horror\",\"orientation\":\"v\",\"showlegend\":true,\"x\":[1980,1981,1982,1983,1984,1985,1986,1987,1988,1989,1990,1991,1992,1993,1994,1995,1996,1997,1998,1999,2000,2001,2002,2003,2004,2005,2006,2007,2008,2009,2010,2011,2012,2013,2014,2015,2016,2017,2018,2019,2020,2021,2022,2023,2024],\"xaxis\":\"x\",\"y\":[74,88,77,49,53,54,71,88,113,86,72,41,44,37,33,44,33,37,54,48,54,55,52,54,66,77,102,107,115,115,109,112,125,113,113,123,143,154,176,197,210,196,261,72,1],\"yaxis\":\"y\",\"type\":\"scatter\"},{\"hovertemplate\":\"Movie genres=Mystery<br>Year=%{x}<br>Number of movies=%{y}<extra></extra>\",\"legendgroup\":\"Mystery\",\"line\":{\"color\":\"#FF9616\",\"dash\":\"solid\"},\"marker\":{\"symbol\":\"circle\"},\"mode\":\"lines+markers\",\"name\":\"Mystery\",\"orientation\":\"v\",\"showlegend\":true,\"x\":[1980,1981,1982,1983,1984,1985,1986,1987,1988,1989,1990,1991,1992,1993,1994,1995,1996,1997,1998,1999,2000,2001,2002,2003,2004,2005,2006,2007,2008,2009,2010,2011,2012,2013,2014,2015,2016,2017,2018,2019,2020,2021,2022,2023],\"xaxis\":\"x\",\"y\":[32,29,36,28,22,27,25,32,30,21,21,28,22,29,29,28,31,41,48,37,55,48,53,38,39,54,59,64,70,80,65,62,67,66,83,87,93,117,132,151,111,122,129,40],\"yaxis\":\"y\",\"type\":\"scatter\"},{\"hovertemplate\":\"Movie genres=Romance<br>Year=%{x}<br>Number of movies=%{y}<extra></extra>\",\"legendgroup\":\"Romance\",\"line\":{\"color\":\"#479B55\",\"dash\":\"solid\"},\"marker\":{\"symbol\":\"circle\"},\"mode\":\"lines+markers\",\"name\":\"Romance\",\"orientation\":\"v\",\"showlegend\":true,\"x\":[1980,1981,1982,1983,1984,1985,1986,1987,1988,1989,1990,1991,1992,1993,1994,1995,1996,1997,1998,1999,2000,2001,2002,2003,2004,2005,2006,2007,2008,2009,2010,2011,2012,2013,2014,2015,2016,2017,2018,2019,2020,2021,2022,2023,2024,2026],\"xaxis\":\"x\",\"y\":[45,64,47,60,63,69,56,74,83,81,71,84,84,78,88,102,103,109,138,142,146,147,143,108,141,129,136,126,135,150,139,136,128,159,174,158,153,157,164,184,166,158,214,62,1,1],\"yaxis\":\"y\",\"type\":\"scatter\"},{\"hovertemplate\":\"Movie genres=Thriller<br>Year=%{x}<br>Number of movies=%{y}<extra></extra>\",\"legendgroup\":\"Thriller\",\"line\":{\"color\":\"#EEA6FB\",\"dash\":\"solid\"},\"marker\":{\"symbol\":\"circle\"},\"mode\":\"lines+markers\",\"name\":\"Thriller\",\"orientation\":\"v\",\"showlegend\":true,\"x\":[1980,1981,1982,1983,1984,1985,1986,1987,1988,1989,1990,1991,1992,1993,1994,1995,1996,1997,1998,1999,2000,2001,2002,2003,2004,2005,2006,2007,2008,2009,2010,2011,2012,2013,2014,2015,2016,2017,2018,2019,2020,2021,2022,2023,2024],\"xaxis\":\"x\",\"y\":[59,54,57,61,69,57,61,78,68,84,69,65,75,73,77,83,104,109,106,115,105,100,94,95,98,86,135,131,159,151,153,144,168,189,197,186,205,244,257,284,253,275,389,135,4],\"yaxis\":\"y\",\"type\":\"scatter\"}],                        {\"template\":{\"data\":{\"candlestick\":[{\"decreasing\":{\"line\":{\"color\":\"#000033\"}},\"increasing\":{\"line\":{\"color\":\"#000032\"}},\"type\":\"candlestick\"}],\"contourcarpet\":[{\"colorscale\":[[0.0,\"#000011\"],[0.1111111111111111,\"#000012\"],[0.2222222222222222,\"#000013\"],[0.3333333333333333,\"#000014\"],[0.4444444444444444,\"#000015\"],[0.5555555555555556,\"#000016\"],[0.6666666666666666,\"#000017\"],[0.7777777777777778,\"#000018\"],[0.8888888888888888,\"#000019\"],[1.0,\"#000020\"]],\"type\":\"contourcarpet\"}],\"contour\":[{\"colorscale\":[[0.0,\"#000011\"],[0.1111111111111111,\"#000012\"],[0.2222222222222222,\"#000013\"],[0.3333333333333333,\"#000014\"],[0.4444444444444444,\"#000015\"],[0.5555555555555556,\"#000016\"],[0.6666666666666666,\"#000017\"],[0.7777777777777778,\"#000018\"],[0.8888888888888888,\"#000019\"],[1.0,\"#000020\"]],\"type\":\"contour\"}],\"heatmap\":[{\"colorscale\":[[0.0,\"#000011\"],[0.1111111111111111,\"#000012\"],[0.2222222222222222,\"#000013\"],[0.3333333333333333,\"#000014\"],[0.4444444444444444,\"#000015\"],[0.5555555555555556,\"#000016\"],[0.6666666666666666,\"#000017\"],[0.7777777777777778,\"#000018\"],[0.8888888888888888,\"#000019\"],[1.0,\"#000020\"]],\"type\":\"heatmap\"}],\"histogram2d\":[{\"colorscale\":[[0.0,\"#000011\"],[0.1111111111111111,\"#000012\"],[0.2222222222222222,\"#000013\"],[0.3333333333333333,\"#000014\"],[0.4444444444444444,\"#000015\"],[0.5555555555555556,\"#000016\"],[0.6666666666666666,\"#000017\"],[0.7777777777777778,\"#000018\"],[0.8888888888888888,\"#000019\"],[1.0,\"#000020\"]],\"type\":\"histogram2d\"}],\"icicle\":[{\"textfont\":{\"color\":\"white\"},\"type\":\"icicle\"}],\"sankey\":[{\"textfont\":{\"color\":\"#000036\"},\"type\":\"sankey\"}],\"scatter\":[{\"marker\":{\"line\":{\"width\":0}},\"type\":\"scatter\"}],\"table\":[{\"cells\":{\"fill\":{\"color\":\"#000038\"},\"font\":{\"color\":\"#000037\"},\"line\":{\"color\":\"#000039\"}},\"header\":{\"fill\":{\"color\":\"#000040\"},\"font\":{\"color\":\"#000036\"},\"line\":{\"color\":\"#000039\"}},\"type\":\"table\"}],\"waterfall\":[{\"connector\":{\"line\":{\"color\":\"#000036\",\"width\":2}},\"decreasing\":{\"marker\":{\"color\":\"#000033\"}},\"increasing\":{\"marker\":{\"color\":\"#000032\"}},\"totals\":{\"marker\":{\"color\":\"#000034\"}},\"type\":\"waterfall\"}]},\"layout\":{\"coloraxis\":{\"colorscale\":[[0.0,\"#000011\"],[0.1111111111111111,\"#000012\"],[0.2222222222222222,\"#000013\"],[0.3333333333333333,\"#000014\"],[0.4444444444444444,\"#000015\"],[0.5555555555555556,\"#000016\"],[0.6666666666666666,\"#000017\"],[0.7777777777777778,\"#000018\"],[0.8888888888888888,\"#000019\"],[1.0,\"#000020\"]]},\"colorscale\":{\"diverging\":[[0.0,\"#000021\"],[0.1,\"#000022\"],[0.2,\"#000023\"],[0.3,\"#000024\"],[0.4,\"#000025\"],[0.5,\"#000026\"],[0.6,\"#000027\"],[0.7,\"#000028\"],[0.8,\"#000029\"],[0.9,\"#000030\"],[1.0,\"#000031\"]],\"sequential\":[[0.0,\"#000011\"],[0.1111111111111111,\"#000012\"],[0.2222222222222222,\"#000013\"],[0.3333333333333333,\"#000014\"],[0.4444444444444444,\"#000015\"],[0.5555555555555556,\"#000016\"],[0.6666666666666666,\"#000017\"],[0.7777777777777778,\"#000018\"],[0.8888888888888888,\"#000019\"],[1.0,\"#000020\"]],\"sequentialminus\":[[0.0,\"#000011\"],[0.1111111111111111,\"#000012\"],[0.2222222222222222,\"#000013\"],[0.3333333333333333,\"#000014\"],[0.4444444444444444,\"#000015\"],[0.5555555555555556,\"#000016\"],[0.6666666666666666,\"#000017\"],[0.7777777777777778,\"#000018\"],[0.8888888888888888,\"#000019\"],[1.0,\"#000020\"]]},\"colorway\":[\"#000001\",\"#000002\",\"#000003\",\"#000004\",\"#000005\",\"#000006\",\"#000007\",\"#000008\",\"#000009\",\"#000010\"]}},\"xaxis\":{\"anchor\":\"y\",\"domain\":[0.0,1.0],\"title\":{\"text\":\"Year\"},\"ticks\":\"outside\",\"showline\":true,\"linecolor\":\"black\",\"linewidth\":2,\"gridcolor\":\"lightgrey\",\"griddash\":\"dash\",\"range\":[1979,2023]},\"yaxis\":{\"anchor\":\"x\",\"domain\":[0.0,1.0],\"title\":{\"text\":\"Number of movies\"},\"ticks\":\"outside\",\"showline\":true,\"linecolor\":\"black\",\"linewidth\":2,\"gridcolor\":\"lightgrey\",\"griddash\":\"dash\",\"range\":[0,1100]},\"legend\":{\"title\":{\"text\":\"Movie genres\"},\"tracegroupgap\":0},\"title\":{\"text\":\"Number of movies produced per year and genre\",\"font\":{\"size\":24},\"y\":0.9,\"x\":0.5,\"xanchor\":\"center\",\"yanchor\":\"top\"},\"height\":600,\"plot_bgcolor\":\"white\"},                        {\"responsive\": true}                    ).then(function(){\n",
       "                            \n",
       "var gd = document.getElementById('2028d750-b407-4f60-a2b0-be041f07771c');\n",
       "var x = new MutationObserver(function (mutations, observer) {{\n",
       "        var display = window.getComputedStyle(gd).display;\n",
       "        if (!display || display === 'none') {{\n",
       "            console.log([gd, 'removed!']);\n",
       "            Plotly.purge(gd);\n",
       "            observer.disconnect();\n",
       "        }}\n",
       "}});\n",
       "\n",
       "// Listen for the removal of the full notebook cells\n",
       "var notebookContainer = gd.closest('#notebook-container');\n",
       "if (notebookContainer) {{\n",
       "    x.observe(notebookContainer, {childList: true});\n",
       "}}\n",
       "\n",
       "// Listen for the clearing of the current output cell\n",
       "var outputEl = gd.closest('.output');\n",
       "if (outputEl) {{\n",
       "    x.observe(outputEl, {childList: true});\n",
       "}}\n",
       "\n",
       "                        })                };                });            </script>        </div>"
      ]
     },
     "metadata": {},
     "output_type": "display_data"
    }
   ],
   "source": [
    "fig = px.line(data_frame = df_years_genres_group, x = \"startYear\", y = \"nbMovies\",\n",
    "              color = \"genres\", color_discrete_sequence = px.colors.qualitative.Light24, markers = True,\n",
    "              labels = {\"startYear\": \"Year\", \"nbMovies\": \"Number of movies\", \"genres\": \"Movie genres\"},\n",
    "              title = \"Number of movies produced per year and genre\", height = 600)\n",
    "\n",
    "fig.update_layout(title = {'y': 0.9, 'x': 0.5, 'xanchor': 'center', 'yanchor': 'top',\n",
    "                           'font' : dict(size = 24)}, plot_bgcolor = 'white')\n",
    "\n",
    "fig.update_xaxes(ticks = 'outside', showline = True, linecolor = 'black', linewidth = 2,\n",
    "                 gridcolor = 'lightgrey', griddash = 'dash',\n",
    "                 range = [1979, 2023])\n",
    "fig.update_yaxes(ticks = 'outside', showline = True, linecolor = 'black', linewidth = 2,\n",
    "                 gridcolor = 'lightgrey', griddash = 'dash',\n",
    "                 range = [0, 1100])\n",
    "\n",
    "fig.show()"
   ]
  },
  {
   "cell_type": "markdown",
   "id": "8cf7c655",
   "metadata": {},
   "source": [
    "# Anciens scripts - ne pas lancer"
   ]
  },
  {
   "cell_type": "markdown",
   "id": "3e3854a7",
   "metadata": {},
   "source": [
    "## Fonction pour lire et traiter le fichier *title_akas*"
   ]
  },
  {
   "cell_type": "code",
   "execution_count": 16,
   "id": "3f68245b",
   "metadata": {},
   "outputs": [
    {
     "data": {
      "text/plain": [
       "'\\n#@st.cache_data\\ndef load_and_process_title_akas():\\n    # Définition des colonnes à conserver lors de la lecture du fichier csv\\n    columns_to_include = [\\'titleId\\', \\'title\\', \\'region\\']\\n    \\n    # Lecture du fichier csv\\n    df_title_akas_pyarrow_trim_dtype = pd.read_csv(\\n        r\"https://datasets.imdbws.com/title.akas.tsv.gz\", usecols = columns_to_include,\\n        dtype = {\\'titleId\\': str, \\'title\\': str, \\'region\\': str}, delimiter = \\'\\t\\', engine = \"pyarrow\")\\n    \\n    # Filtre sur la colonne \"region\" pour ne garder que la valeur \"FR\"\\n    df_title_akas_fr = df_title_akas_pyarrow_trim_dtype.loc[df_title_akas_pyarrow_trim_dtype[\"region\"] == \"FR\"]\\n    \\n    # Suppression de la colonne \"region\"\\n    df_title_akas_fr_trim = df_title_akas_fr.drop(columns = \"region\")\\n    \\n    return df_title_akas_fr_trim\\n\\ndf_title_akas = load_and_process_title_akas()\\ndf_title_akas.info()\\n'"
      ]
     },
     "execution_count": 16,
     "metadata": {},
     "output_type": "execute_result"
    }
   ],
   "source": [
    "\"\"\"\n",
    "#@st.cache_data\n",
    "def load_and_process_title_akas():\n",
    "    # Définition des colonnes à conserver lors de la lecture du fichier csv\n",
    "    columns_to_include = ['titleId', 'title', 'region']\n",
    "    \n",
    "    # Lecture du fichier csv\n",
    "    df_title_akas_pyarrow_trim_dtype = pd.read_csv(\n",
    "        r\"https://datasets.imdbws.com/title.akas.tsv.gz\", usecols = columns_to_include,\n",
    "        dtype = {'titleId': str, 'title': str, 'region': str}, delimiter = '\\t', engine = \"pyarrow\")\n",
    "    \n",
    "    # Filtre sur la colonne \"region\" pour ne garder que la valeur \"FR\"\n",
    "    df_title_akas_fr = df_title_akas_pyarrow_trim_dtype.loc[df_title_akas_pyarrow_trim_dtype[\"region\"] == \"FR\"]\n",
    "    \n",
    "    # Suppression de la colonne \"region\"\n",
    "    df_title_akas_fr_trim = df_title_akas_fr.drop(columns = \"region\")\n",
    "    \n",
    "    return df_title_akas_fr_trim\n",
    "\n",
    "df_title_akas = load_and_process_title_akas()\n",
    "df_title_akas.info()\n",
    "\"\"\""
   ]
  },
  {
   "cell_type": "markdown",
   "id": "5c1fa22c",
   "metadata": {},
   "source": [
    "## Fonction pour lire et traiter le fichier *title_basics*"
   ]
  },
  {
   "cell_type": "code",
   "execution_count": null,
   "id": "5b76f563",
   "metadata": {},
   "outputs": [],
   "source": [
    "\"\"\"\n",
    "columns_to_include = ['tconst', 'titleType', 'isAdult', 'startYear', 'runtimeMinutes', 'genres']\n",
    "\n",
    "df_title_basics_pyarrow_trim_dtype = pd.read_csv(\n",
    "    r\"https://datasets.imdbws.com/title.basics.tsv.gz\", usecols = columns_to_include,\n",
    "    dtype = {'tconst': 'string', 'titleType': 'string', 'isAdult': \"category\",\n",
    "             'startYear': 'string', 'runtimeMinutes': 'string', 'genres': 'string'},\n",
    "    delimiter = '\\t', low_memory = False)\n",
    "df_title_basics_pyarrow_trim_dtype.info()\n",
    "\"\"\""
   ]
  },
  {
   "cell_type": "code",
   "execution_count": null,
   "id": "d02c837e",
   "metadata": {},
   "outputs": [],
   "source": [
    "\"\"\"\n",
    "df_title_basics_recent_years = df_title_basics_pyarrow_trim_dtype.loc[\n",
    "    df_title_basics_pyarrow_trim_dtype[\"startYear\"].str.isnumeric()]\n",
    "\n",
    "df_title_basics_recent_years[\"startYear\"] = df_title_basics_recent_years[\"startYear\"].astype(\"int32\")\n",
    "\n",
    "df_title_basics_recent_years.info()\n",
    "\"\"\""
   ]
  },
  {
   "cell_type": "markdown",
   "id": "d11c0bd1",
   "metadata": {},
   "source": [
    "### Méthode classique"
   ]
  },
  {
   "cell_type": "code",
   "execution_count": null,
   "id": "cb4b8d8b",
   "metadata": {},
   "outputs": [],
   "source": [
    "\"\"\"\n",
    "#@st.cache_data\n",
    "def load_and_process_title_basics():\n",
    "    # Définition des colonnes à conserver lors de la lecture du fichier csv\n",
    "    columns_to_include = ['tconst', 'titleType', 'isAdult', 'startYear', 'runtimeMinutes', 'genres']\n",
    "    \n",
    "    # Lecture du fichier csv\n",
    "    df_title_basics_trim_dtype = pd.read_csv(\n",
    "        r\"https://datasets.imdbws.com/title.basics.tsv.gz\", usecols = columns_to_include,\n",
    "        dtype = {'tconst': 'string', 'titleType': 'string', 'isAdult': \"category\",\n",
    "                 'startYear': 'string', 'runtimeMinutes': 'string', 'genres': 'string'},\n",
    "        delimiter = '\\t', low_memory = False)\n",
    "    \n",
    "    # Suppression des lignes pour lesquelles la colonne \"startYear\" ne contient pas de nombre\n",
    "    df_title_basics_recent_years = df_title_basics_trim_dtype.loc[\n",
    "        df_title_basics_trim_dtype[\"startYear\"].str.isnumeric()]\n",
    "    \n",
    "    # Changement de type de données de la colonne \"startYear\", passage en type \"integer\"\n",
    "    df_title_basics_recent_years[\"startYear\"] = df_title_basics_recent_years[\"startYear\"].astype(\"int32\")\n",
    "    \n",
    "    # Filtre sur la colonne \"startYear\" pour ne garder que les années à partir de 1980\n",
    "    df_title_basics_recent_years = df_title_basics_recent_years.loc[\n",
    "        df_title_basics_recent_years[\"startYear\"] >= 1980]\n",
    "    \n",
    "    return df_title_basics_recent_years\n",
    "\n",
    "start_time = time.time()\n",
    "df_title_basics = load_and_process_title_basics()\n",
    "end_time = time.time()\n",
    "loading_time = end_time - start_time\n",
    "print(\"Temps de chargement (pandas) :\", loading_time, \"secondes\")\n",
    "\n",
    "df_title_basics.info()\n",
    "\"\"\""
   ]
  },
  {
   "cell_type": "markdown",
   "id": "77c7cfb5",
   "metadata": {},
   "source": [
    "### Essai avec des \"chunks\""
   ]
  },
  {
   "cell_type": "code",
   "execution_count": null,
   "id": "bcb4b0f7",
   "metadata": {},
   "outputs": [],
   "source": [
    "\"\"\"\n",
    "#@st.cache_data\n",
    "def load_and_process_title_basics_chunks():\n",
    "    # Définition des colonnes à conserver lors de la lecture du fichier csv\n",
    "    columns_to_include = ['tconst', 'titleType', 'isAdult', 'startYear', 'runtimeMinutes', 'genres']\n",
    "    \n",
    "    df_title_basics_recent_years = pd.DataFrame()\n",
    "    chunksize = 500000\n",
    "    \n",
    "    df_chunks = pd.read_csv(\n",
    "        r\"https://datasets.imdbws.com/title.basics.tsv.gz\", usecols = columns_to_include,\n",
    "        dtype = {'tconst': 'string', 'titleType': 'string', 'isAdult': \"category\",\n",
    "                 'startYear': 'string', 'runtimeMinutes': 'string', 'genres': 'string'},\n",
    "        delimiter = '\\t', low_memory = False, chunksize = chunksize)\n",
    "\n",
    "    for chunk in df_chunks:\n",
    "        # Filtrer et traiter chaque morceau\n",
    "        \n",
    "        # Suppression des lignes pour lesquelles la colonne \"startYear\" ne contient pas de nombre\n",
    "        chunk = chunk[chunk[\"startYear\"].str.isnumeric()]\n",
    "        \n",
    "        # Changement de type de données de la colonne \"startYear\", passage en type \"integer\"\n",
    "        chunk[\"startYear\"] = chunk[\"startYear\"].astype(\"int32\")\n",
    "        \n",
    "        # Filtre sur la colonne \"startYear\" pour ne garder que les années à partir de 1980\n",
    "        chunk = chunk[chunk[\"startYear\"] >= 1980]\n",
    "        \n",
    "        # Concaténer le morceau traité au DataFrame final\n",
    "        df_title_basics_recent_years = pd.concat([df_title_basics_recent_years, chunk])\n",
    "    \n",
    "    return df_title_basics_recent_years\n",
    "\n",
    "start_time = time.time()\n",
    "df_title_basics_chunks = load_and_process_title_basics_chunks()\n",
    "end_time = time.time()\n",
    "loading_time = end_time - start_time\n",
    "print(f\"Temps de chargement (avec \\\"chunks\\\") : {loading_time} secondes\")\n",
    "\n",
    "df_title_basics_chunks.info()\n",
    "\"\"\""
   ]
  }
 ],
 "metadata": {
  "kernelspec": {
   "display_name": "Python 3 (ipykernel)",
   "language": "python",
   "name": "python3"
  },
  "language_info": {
   "codemirror_mode": {
    "name": "ipython",
    "version": 3
   },
   "file_extension": ".py",
   "mimetype": "text/x-python",
   "name": "python",
   "nbconvert_exporter": "python",
   "pygments_lexer": "ipython3",
   "version": "3.9.13"
  }
 },
 "nbformat": 4,
 "nbformat_minor": 5
}
